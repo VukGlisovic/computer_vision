{
 "cells": [
  {
   "cell_type": "code",
   "execution_count": null,
   "metadata": {},
   "outputs": [],
   "source": [
    "import numpy as np\n",
    "import tensorflow as tf\n",
    "from tensorflow import keras\n",
    "from sklearn.metrics import confusion_matrix\n",
    "import matplotlib.pyplot as plt\n",
    "\n",
    "from resnet50.model.architecture import res_net_50"
   ]
  },
  {
   "cell_type": "markdown",
   "metadata": {},
   "source": [
    "# Get the data"
   ]
  },
  {
   "cell_type": "code",
   "execution_count": null,
   "metadata": {},
   "outputs": [],
   "source": [
    "(Xtrain, ytrain), (Xtest, ytest) = keras.datasets.mnist.load_data()\n",
    "Xtrain.shape, ytrain.shape, Xtest.shape, ytest.shape"
   ]
  },
  {
   "cell_type": "markdown",
   "metadata": {},
   "source": [
    "# Plot some digits"
   ]
  },
  {
   "cell_type": "code",
   "execution_count": null,
   "metadata": {},
   "outputs": [],
   "source": [
    "n_images = 10\n",
    "index_sample = np.random.randint(0, Xtrain.shape[0], n_images)\n",
    "\n",
    "n_columns = 5\n",
    "n_rows = int(np.ceil(n_images / 5))\n",
    "fig, axes = plt.subplots(n_rows, n_columns, figsize=(20, 4 * n_rows))\n",
    "\n",
    "raveled_axes = np.ravel(axes)\n",
    "\n",
    "for ax, i in zip(raveled_axes, index_sample):\n",
    "    ax.set_title(ytrain[i], fontsize=16)\n",
    "    ax.imshow(Xtrain[i], cmap='Greys')\n",
    "    \n",
    "for ax in raveled_axes[n_images:]:\n",
    "    ax.set_visible(False)"
   ]
  },
  {
   "cell_type": "markdown",
   "metadata": {},
   "source": [
    "# Prepare data"
   ]
  },
  {
   "cell_type": "code",
   "execution_count": null,
   "metadata": {},
   "outputs": [],
   "source": [
    "def preprocess(df):\n",
    "    df = df / 255.  # normalize data\n",
    "    df = df.reshape(df.shape + (1,))  # add channels dimension\n",
    "    df = tf.image.resize(df, (64, 64))  # need to resize to have large enough image for resnet50 convolutional blocks\n",
    "    return df"
   ]
  },
  {
   "cell_type": "code",
   "execution_count": null,
   "metadata": {},
   "outputs": [],
   "source": [
    "Xtrain = preprocess(Xtrain)\n",
    "Xtest = preprocess(Xtest)"
   ]
  },
  {
   "cell_type": "markdown",
   "metadata": {},
   "source": [
    "# Create model"
   ]
  },
  {
   "cell_type": "code",
   "execution_count": null,
   "metadata": {},
   "outputs": [],
   "source": [
    "model = res_net_50(Xtrain.shape[1:], np.unique(ytrain).shape[0])"
   ]
  },
  {
   "cell_type": "code",
   "execution_count": null,
   "metadata": {},
   "outputs": [],
   "source": [
    "model.compile(optimizer='adam', loss='sparse_categorical_crossentropy', metrics=['accuracy'])"
   ]
  },
  {
   "cell_type": "markdown",
   "metadata": {},
   "source": [
    "# Train"
   ]
  },
  {
   "cell_type": "code",
   "execution_count": null,
   "metadata": {},
   "outputs": [],
   "source": [
    "history = model.fit(Xtrain, ytrain, batch_size=128, epochs=2, validation_split=0.2, shuffle=True)"
   ]
  },
  {
   "cell_type": "markdown",
   "metadata": {},
   "source": [
    "# Evaluate on test set"
   ]
  },
  {
   "cell_type": "code",
   "execution_count": null,
   "metadata": {},
   "outputs": [],
   "source": [
    "test_loss, test_accuracy = model.evaluate(Xtest, ytest, batch_size=256, verbose=0)\n",
    "print(\"Test loss: {}\".format(test_loss))\n",
    "print(\"Test accuracy: {}\".format(test_accuracy))"
   ]
  },
  {
   "cell_type": "markdown",
   "metadata": {},
   "source": [
    "# Some wrong predictions visualized"
   ]
  },
  {
   "cell_type": "code",
   "execution_count": null,
   "metadata": {},
   "outputs": [],
   "source": [
    "test_predictions = model.predict(Xtest, batch_size=256)"
   ]
  },
  {
   "cell_type": "code",
   "execution_count": null,
   "metadata": {},
   "outputs": [],
   "source": [
    "test_predictions_class = np.argmax(test_predictions, axis=1)"
   ]
  },
  {
   "cell_type": "code",
   "execution_count": null,
   "metadata": {},
   "outputs": [],
   "source": [
    "wrong_prediction_bools = (ytest != test_predictions_class)"
   ]
  },
  {
   "cell_type": "code",
   "execution_count": null,
   "metadata": {},
   "outputs": [],
   "source": [
    "Xtest_wrong = Xtest[wrong_prediction_bools]\n",
    "ytest_wrong = ytest[wrong_prediction_bools]\n",
    "test_prediction_class_wrong = test_predictions_class[wrong_prediction_bools]"
   ]
  },
  {
   "cell_type": "code",
   "execution_count": null,
   "metadata": {},
   "outputs": [],
   "source": [
    "# rows indicate true label, columns indicate predicted label\n",
    "confusion_matrix(ytest, test_predictions_class)"
   ]
  },
  {
   "cell_type": "code",
   "execution_count": null,
   "metadata": {},
   "outputs": [],
   "source": [
    "n_images = 15\n",
    "index_sample = np.random.randint(0, Xtest_wrong.shape[0], n_images)\n",
    "\n",
    "n_columns = 5\n",
    "n_rows = int(np.ceil(n_images / 5))\n",
    "fig, axes = plt.subplots(n_rows, n_columns, figsize=(20, 4 * n_rows))\n",
    "\n",
    "raveled_axes = np.ravel(axes)\n",
    "\n",
    "for ax, i in zip(raveled_axes, index_sample):\n",
    "    ax.set_title(\"True/Pred: {}/{}\".format(ytest_wrong[i], test_prediction_class_wrong[i]), fontsize=16)\n",
    "    ax.imshow(Xtest_wrong[i,:,:,0], cmap='Greys')\n",
    "    \n",
    "for ax in raveled_axes[n_images:]:\n",
    "    ax.set_visible(False)"
   ]
  },
  {
   "cell_type": "code",
   "execution_count": null,
   "metadata": {},
   "outputs": [],
   "source": []
  },
  {
   "cell_type": "code",
   "execution_count": null,
   "metadata": {},
   "outputs": [],
   "source": []
  },
  {
   "cell_type": "code",
   "execution_count": null,
   "metadata": {},
   "outputs": [],
   "source": []
  }
 ],
 "metadata": {
  "kernelspec": {
   "display_name": "computer_vision",
   "language": "python",
   "name": "computer_vision"
  },
  "language_info": {
   "codemirror_mode": {
    "name": "ipython",
    "version": 3
   },
   "file_extension": ".py",
   "mimetype": "text/x-python",
   "name": "python",
   "nbconvert_exporter": "python",
   "pygments_lexer": "ipython3",
   "version": "3.6.7"
  }
 },
 "nbformat": 4,
 "nbformat_minor": 4
}
