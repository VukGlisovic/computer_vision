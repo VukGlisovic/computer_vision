{
 "cells": [
  {
   "cell_type": "markdown",
   "id": "65e5ee6f-5fb5-42ae-923b-7b478a84d494",
   "metadata": {},
   "source": [
    "Notebook for running stable duffusion image generation.\n",
    "\n",
    "Models are being loaded from:\n",
    "* https://huggingface.co/madebyollin/sdxl-vae-fp16-fix\n",
    "* https://huggingface.co/stabilityai/stable-diffusion-xl-base-1.0"
   ]
  },
  {
   "cell_type": "code",
   "execution_count": null,
   "id": "849cd071-d71f-4352-add4-c6423a290c52",
   "metadata": {
    "tags": []
   },
   "outputs": [],
   "source": [
    "import torch\n",
    "from diffusers import DiffusionPipeline, AutoencoderKL\n",
    "\n",
    "from dreambooth.src import utils"
   ]
  },
  {
   "cell_type": "code",
   "execution_count": null,
   "id": "6f23fd68-2da5-40c8-b928-2756367bdc88",
   "metadata": {
    "tags": []
   },
   "outputs": [],
   "source": [
    "device = \"cuda\"\n",
    "\n",
    "# fp16 cannot be run on CPU\n",
    "dtype = torch.float16 if device == \"cuda\" else torch.float32"
   ]
  },
  {
   "cell_type": "markdown",
   "id": "7e3f3e7b-1c91-49bd-8999-0d8bae0b8014",
   "metadata": {},
   "source": [
    "## Generate images with the stable diffusion xl base model"
   ]
  },
  {
   "cell_type": "code",
   "execution_count": null,
   "id": "14620f9f-2ba7-4866-9447-db3b0822a606",
   "metadata": {
    "tags": []
   },
   "outputs": [],
   "source": [
    "vae = AutoencoderKL.from_pretrained(\n",
    "    \"madebyollin/sdxl-vae-fp16-fix\", \n",
    "    torch_dtype=dtype\n",
    ")\n",
    "\n",
    "pipe = DiffusionPipeline.from_pretrained(\n",
    "    \"stabilityai/stable-diffusion-xl-base-1.0\",\n",
    "    vae=vae,\n",
    "    torch_dtype=dtype,\n",
    "    variant=\"fp16\",\n",
    "    use_safetensors=True\n",
    ")\n",
    "pipe.to(device)"
   ]
  },
  {
   "cell_type": "code",
   "execution_count": null,
   "id": "defd2013-7ccb-4bd9-aa53-ad94678dee9a",
   "metadata": {},
   "outputs": [],
   "source": [
    "prompt = \"A woman wearing cowboy boots is running on the ocean.\"\n",
    "\n",
    "sd_output = pipe(\n",
    "    prompt=prompt, \n",
    "    num_inference_steps=25, \n",
    "    num_images_per_prompt=1\n",
    ")"
   ]
  },
  {
   "cell_type": "code",
   "execution_count": null,
   "id": "0b28e688-8643-47e8-ab2e-faf4d1c7da94",
   "metadata": {},
   "outputs": [],
   "source": [
    "utils.show_images(sd_output.images)"
   ]
  },
  {
   "cell_type": "markdown",
   "id": "67c0dc1a-bb8c-4ee5-be71-1c6e024b3940",
   "metadata": {
    "tags": []
   },
   "source": [
    "## Add a refiner to improve image generation quality"
   ]
  },
  {
   "cell_type": "code",
   "execution_count": null,
   "id": "74cf94a1-7f57-495b-9620-690371619a2a",
   "metadata": {},
   "outputs": [],
   "source": [
    "refiner = DiffusionPipeline.from_pretrained(\n",
    "    \"stabilityai/stable-diffusion-xl-refiner-1.0\",\n",
    "    vae=vae,\n",
    "    torch_dtype=dtype,\n",
    "    variant=\"fp16\",\n",
    "    use_safetensors=True\n",
    ")\n",
    "refiner.to(device)"
   ]
  },
  {
   "cell_type": "code",
   "execution_count": null,
   "id": "dae824d9-66a5-48b5-9cb7-ba9d337fd728",
   "metadata": {},
   "outputs": [],
   "source": [
    "sd_output_latent = pipe(\n",
    "    prompt=prompt,\n",
    "    num_inference_steps=40,\n",
    "    num_images_per_prompt=1,\n",
    "    denoising_end=0.7,\n",
    "    output_type=\"latent\"\n",
    ")\n",
    "\n",
    "refiner_output = refiner(\n",
    "    prompt=prompt,\n",
    "    num_inference_steps=n_steps,\n",
    "    denoising_start=high_noise_frac,\n",
    "    image=sd_output_latent.images\n",
    ")"
   ]
  },
  {
   "cell_type": "code",
   "execution_count": null,
   "id": "16582b58-fd44-4670-9317-460b5f73b372",
   "metadata": {},
   "outputs": [],
   "source": [
    "refiner_output.images[0]"
   ]
  },
  {
   "cell_type": "code",
   "execution_count": null,
   "id": "c0daf5ae-bf31-46f7-8480-583c24c99ddd",
   "metadata": {},
   "outputs": [],
   "source": []
  },
  {
   "cell_type": "code",
   "execution_count": null,
   "id": "b072f0ae-5a33-4aa8-9557-cbd0312c5515",
   "metadata": {},
   "outputs": [],
   "source": []
  }
 ],
 "metadata": {
  "kernelspec": {
   "display_name": "dreambooth",
   "language": "python",
   "name": "dreambooth"
  },
  "language_info": {
   "codemirror_mode": {
    "name": "ipython",
    "version": 3
   },
   "file_extension": ".py",
   "mimetype": "text/x-python",
   "name": "python",
   "nbconvert_exporter": "python",
   "pygments_lexer": "ipython3",
   "version": "3.10.14"
  }
 },
 "nbformat": 4,
 "nbformat_minor": 5
}
