{
 "cells": [
  {
   "cell_type": "code",
   "execution_count": null,
   "id": "849cd071-d71f-4352-add4-c6423a290c52",
   "metadata": {
    "tags": []
   },
   "outputs": [],
   "source": [
    "from diffusers import DiffusionPipeline, AutoencoderKL\n",
    "import torch"
   ]
  },
  {
   "cell_type": "code",
   "execution_count": null,
   "id": "6f23fd68-2da5-40c8-b928-2756367bdc88",
   "metadata": {
    "tags": []
   },
   "outputs": [],
   "source": [
    "device = \"cuda\"  # fp16 cannot be run on CPU"
   ]
  },
  {
   "cell_type": "markdown",
   "id": "cbee9e54-a86e-4e0e-ba62-e8ef367ddca0",
   "metadata": {},
   "source": [
    "Models are being loaded from:\n",
    "https://huggingface.co/stabilityai/stable-diffusion-xl-base-1.0"
   ]
  },
  {
   "cell_type": "code",
   "execution_count": null,
   "id": "14620f9f-2ba7-4866-9447-db3b0822a606",
   "metadata": {
    "tags": []
   },
   "outputs": [],
   "source": [
    "vae = AutoencoderKL.from_pretrained(\n",
    "    \"madebyollin/sdxl-vae-fp16-fix\", \n",
    "    torch_dtype=torch.float16\n",
    ")\n",
    "pipe = DiffusionPipeline.from_pretrained(\n",
    "    \"stabilityai/stable-diffusion-xl-base-1.0\",\n",
    "    vae=vae,\n",
    "    torch_dtype=torch.float16,\n",
    "    variant=\"fp16\",\n",
    "    use_safetensors=True,\n",
    ")\n",
    "pipe.to(device)"
   ]
  },
  {
   "cell_type": "code",
   "execution_count": null,
   "id": "defd2013-7ccb-4bd9-aa53-ad94678dee9a",
   "metadata": {},
   "outputs": [],
   "source": [
    "prompt = \"A man in a spacesuit is running a marathon in the jungle.\"\n",
    "\n",
    "image = pipe(prompt=prompt, num_inference_steps=25, num_images_per_prompt=4)"
   ]
  },
  {
   "cell_type": "code",
   "execution_count": null,
   "id": "1ede49d1-2d3c-4bb3-8669-0e6c05a85fea",
   "metadata": {},
   "outputs": [],
   "source": []
  },
  {
   "cell_type": "code",
   "execution_count": null,
   "id": "0cc663fb-8d9e-4b11-aae3-b8c8aba34799",
   "metadata": {},
   "outputs": [],
   "source": []
  },
  {
   "cell_type": "code",
   "execution_count": null,
   "id": "b072f0ae-5a33-4aa8-9557-cbd0312c5515",
   "metadata": {},
   "outputs": [],
   "source": []
  }
 ],
 "metadata": {
  "kernelspec": {
   "display_name": "dreambooth",
   "language": "python",
   "name": "dreambooth"
  },
  "language_info": {
   "codemirror_mode": {
    "name": "ipython",
    "version": 3
   },
   "file_extension": ".py",
   "mimetype": "text/x-python",
   "name": "python",
   "nbconvert_exporter": "python",
   "pygments_lexer": "ipython3",
   "version": "3.10.14"
  }
 },
 "nbformat": 4,
 "nbformat_minor": 5
}
