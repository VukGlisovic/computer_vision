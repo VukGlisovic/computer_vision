{
 "cells": [
  {
   "cell_type": "code",
   "execution_count": null,
   "id": "459e6942-0922-4edc-941c-192852f6b834",
   "metadata": {
    "tags": []
   },
   "outputs": [],
   "source": [
    "import torch\n",
    "from diffusers import DiffusionPipeline, AutoencoderKL, StableDiffusionXLImg2ImgPipeline\n",
    "\n",
    "from dreambooth.src import utils"
   ]
  },
  {
   "cell_type": "code",
   "execution_count": null,
   "id": "7478059f-62cb-443c-b48c-9d1231388bc2",
   "metadata": {},
   "outputs": [],
   "source": [
    "device = \"cuda\"\n",
    "\n",
    "# fp16 cannot be run on CPU\n",
    "dtype = torch.float16 if device == \"cuda\" else torch.float32"
   ]
  },
  {
   "cell_type": "markdown",
   "id": "66b596d0-3b23-489c-bd19-81cd53d1cfd8",
   "metadata": {},
   "source": [
    "## Generate images with the stable diffusion xl base model and the LoRA weights"
   ]
  },
  {
   "cell_type": "code",
   "execution_count": null,
   "id": "4555a633-69fc-443a-99f1-380ba6288482",
   "metadata": {
    "tags": []
   },
   "outputs": [],
   "source": [
    "vae = AutoencoderKL.from_pretrained(\n",
    "    \"madebyollin/sdxl-vae-fp16-fix\", \n",
    "    torch_dtype=dtype\n",
    ")\n",
    "\n",
    "pipe = DiffusionPipeline.from_pretrained(\n",
    "    \"stabilityai/stable-diffusion-xl-base-1.0\",\n",
    "    vae=vae,\n",
    "    torch_dtype=dtype,\n",
    "    variant=\"fp16\",\n",
    "    use_safetensors=True\n",
    ")\n",
    "pipe.to(device)\n",
    "pipe.load_lora_weights(REPO_ID, weight_name=\"vuk_lora_weights.safetensors\")"
   ]
  },
  {
   "cell_type": "code",
   "execution_count": null,
   "id": "2da8b4f4-008a-4eb8-bd5e-73fa2f294128",
   "metadata": {
    "tags": []
   },
   "outputs": [],
   "source": [
    "prompt = \"A photo of Vuk participating in a marathon.\"\n",
    "\n",
    "sd_output = pipe(prompt=prompt, num_inference_steps=25, num_images_per_prompt=2)"
   ]
  },
  {
   "cell_type": "code",
   "execution_count": null,
   "id": "d9adeafc-1364-4574-adf6-a5ad968dac23",
   "metadata": {
    "tags": []
   },
   "outputs": [],
   "source": [
    "utils.show_images(sd_output.images)"
   ]
  },
  {
   "cell_type": "markdown",
   "id": "c399370c-f64d-4554-8df3-4325952974b7",
   "metadata": {
    "tags": []
   },
   "source": [
    "## Add a refiner to improve image generation quality"
   ]
  },
  {
   "cell_type": "code",
   "execution_count": null,
   "id": "e7895036-05ac-46d4-9f67-0dd9d3ad32f4",
   "metadata": {},
   "outputs": [],
   "source": [
    "refiner = StableDiffusionXLImg2ImgPipeline.from_pretrained(\n",
    "    \"stabilityai/stable-diffusion-xl-refiner-1.0\",\n",
    "    vae=vae,\n",
    "    torch_dtype=dtype,\n",
    "    variant=\"fp16\",\n",
    "    use_safetensors=True\n",
    ")\n",
    "refiner.to(device)"
   ]
  },
  {
   "cell_type": "code",
   "execution_count": null,
   "id": "3b4ba78a-f95c-478a-9a1f-c672152c1cdc",
   "metadata": {},
   "outputs": [],
   "source": [
    "refiner_output = refiner(\n",
    "    prompt=prompt, \n",
    "    num_inference_steps=25, \n",
    "    generator=generator, \n",
    "    image=image\n",
    ")"
   ]
  },
  {
   "cell_type": "code",
   "execution_count": null,
   "id": "325c9dcb-45f7-4f9a-8af1-c4cdf900ad36",
   "metadata": {},
   "outputs": [],
   "source": [
    "refiner_output"
   ]
  },
  {
   "cell_type": "code",
   "execution_count": null,
   "id": "9837e9fb-aedf-4141-bb34-38c7b6d5594b",
   "metadata": {},
   "outputs": [],
   "source": []
  },
  {
   "cell_type": "code",
   "execution_count": null,
   "id": "653e44c1-e24f-4440-a891-534409f64656",
   "metadata": {},
   "outputs": [],
   "source": []
  }
 ],
 "metadata": {
  "kernelspec": {
   "display_name": "dreambooth",
   "language": "python",
   "name": "dreambooth"
  },
  "language_info": {
   "codemirror_mode": {
    "name": "ipython",
    "version": 3
   },
   "file_extension": ".py",
   "mimetype": "text/x-python",
   "name": "python",
   "nbconvert_exporter": "python",
   "pygments_lexer": "ipython3",
   "version": "3.10.14"
  }
 },
 "nbformat": 4,
 "nbformat_minor": 5
}
