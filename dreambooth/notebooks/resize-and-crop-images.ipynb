{
 "cells": [
  {
   "cell_type": "markdown",
   "id": "f67dd4a0-0f9f-43eb-81a2-270526bc2f0f",
   "metadata": {},
   "source": [
    "Crop the images to be square images and then resize to a target dimension."
   ]
  },
  {
   "cell_type": "code",
   "execution_count": null,
   "id": "0326f47e-f1b8-44fc-a4c3-46b2f1181ac3",
   "metadata": {},
   "outputs": [],
   "source": [
    "import os\n",
    "from pathlib import Path\n",
    "from glob import glob\n",
    "from PIL import Image"
   ]
  },
  {
   "cell_type": "code",
   "execution_count": null,
   "id": "88edf608-8d8f-42a4-a9c5-68d7e1057226",
   "metadata": {},
   "outputs": [],
   "source": [
    "input_path = '../data/vuk-photos/*'\n",
    "output_dir = '../data/vuk-photos/crops/'\n",
    "\n",
    "image_paths = glob(input_path)\n",
    "os.makedirs(output_dir, exist_ok=True)"
   ]
  },
  {
   "cell_type": "code",
   "execution_count": null,
   "id": "dcabf717-b3db-4ca9-9109-282945e3eb6b",
   "metadata": {},
   "outputs": [],
   "source": [
    "for path in image_paths:\n",
    "    # load image\n",
    "    img = Image.open(path)\n",
    "    target = 1024\n",
    "    # reshape smallest side to `target`\n",
    "    factor = min(img.size[0] / target, img.size[1] / target)\n",
    "    img = img.resize([int(s / factor) for s in img.size])\n",
    "    # crop largest side to `target`\n",
    "    x1 = (img.size[0] - target) // 2\n",
    "    y1 = (img.size[1] - target) // 2\n",
    "    x2 = (img.size[0] - target) // 2 + target\n",
    "    y2 = (img.size[1] - target) // 2 + target\n",
    "    img = img.crop([x1, y1, x2, y2])\n",
    "    # store new image\n",
    "    filename = Path(path).stem\n",
    "    img.save(os.path.join(output_dir, f\"{filename}.jpg\"))"
   ]
  },
  {
   "cell_type": "code",
   "execution_count": null,
   "id": "600a5438-e639-4ae6-b131-625957ec96af",
   "metadata": {},
   "outputs": [],
   "source": []
  },
  {
   "cell_type": "code",
   "execution_count": null,
   "id": "0ff9003d-c6ef-496f-9a5e-0cd843b8f0a3",
   "metadata": {},
   "outputs": [],
   "source": []
  }
 ],
 "metadata": {
  "kernelspec": {
   "display_name": "dreambooth",
   "language": "python",
   "name": "dreambooth"
  },
  "language_info": {
   "codemirror_mode": {
    "name": "ipython",
    "version": 3
   },
   "file_extension": ".py",
   "mimetype": "text/x-python",
   "name": "python",
   "nbconvert_exporter": "python",
   "pygments_lexer": "ipython3",
   "version": "3.10.14"
  }
 },
 "nbformat": 4,
 "nbformat_minor": 5
}
