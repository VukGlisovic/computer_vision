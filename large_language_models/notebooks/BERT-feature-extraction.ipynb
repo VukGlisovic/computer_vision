{
 "cells": [
  {
   "cell_type": "markdown",
   "id": "5ebd75eb-9a6f-4e14-93bc-f50bcbf28f1d",
   "metadata": {},
   "source": [
    "# Extracting features for downstream tasks\n",
    "\n",
    "We will use a pretrained BERT model (https://huggingface.co/bert-base-uncased) to extract features about reviews from rotten tomatoes. Subsequently we'll train a simple 2-layer neural network to classify whether a review is positive or negative."
   ]
  },
  {
   "cell_type": "code",
   "execution_count": null,
   "id": "cd494889-aeb3-4c6d-8974-c74962d0a4e9",
   "metadata": {},
   "outputs": [],
   "source": [
    "import numpy as np\n",
    "from tqdm import tqdm\n",
    "from transformers import BertTokenizer, BertModel\n",
    "from datasets import load_dataset_builder, load_dataset\n",
    "import torch\n",
    "import torch.nn as nn\n",
    "from torch.utils.data import DataLoader\n",
    "from torch import optim\n",
    "from torch.utils.data import DataLoader, TensorDataset\n",
    "\n",
    "device = \"cuda:0\" if torch.cuda.is_available() else \"cpu\""
   ]
  },
  {
   "cell_type": "code",
   "execution_count": null,
   "id": "7e8b4bfb-01e2-4e27-a0a9-d84274754bac",
   "metadata": {},
   "outputs": [],
   "source": [
    "# create BertTokenizer and BertModel and move the model to GPU if possible\n",
    "tokenizer = BertTokenizer.from_pretrained('bert-base-uncased')\n",
    "bert_model = BertModel.from_pretrained(\"bert-base-uncased\")\n",
    "bert_model = bert_model.eval()\n",
    "bert_model = bert_model.to(device)"
   ]
  },
  {
   "cell_type": "code",
   "execution_count": null,
   "id": "edc3302e-cdc2-4663-8a9e-d5fc64a68358",
   "metadata": {},
   "outputs": [],
   "source": [
    "# load the dataset\n",
    "dataset_name = 'rotten_tomatoes'\n",
    "ds_builder = load_dataset_builder(dataset_name)\n",
    "print(ds_builder.info.description)\n",
    "print(ds_builder.info.features)\n",
    "\n",
    "ds_train = load_dataset(dataset_name, split=\"train\")\n",
    "ds_validation = load_dataset(dataset_name, split=\"validation\")\n",
    "ds_test = load_dataset(dataset_name, split=\"test\")\n",
    "\n",
    "ds_train"
   ]
  },
  {
   "cell_type": "code",
   "execution_count": null,
   "id": "0c03e640-2f70-4626-9237-96744bb665bf",
   "metadata": {},
   "outputs": [],
   "source": [
    "# some quick data analysis\n",
    "nr_chars = [len(dct['text']) for dct in ds_train]\n",
    "nr_words = [len(dct['text'].split(' ')) for dct in ds_train]\n",
    "\n",
    "print(\"Number of character quantiles\", np.quantile(nr_chars, np.linspace(0, 1, 11)))\n",
    "print(\"Number of words quantiles\", np.quantile(nr_words, np.linspace(0, 1, 11)))"
   ]
  },
  {
   "cell_type": "code",
   "execution_count": null,
   "id": "25466f0a-9d93-42e2-82ce-10df1c22838b",
   "metadata": {},
   "outputs": [],
   "source": [
    "def text_to_features(ds):\n",
    "    \"\"\"Encodes text to features by applying a (e.g.) BERT base model.\n",
    "    \"\"\"\n",
    "    # create features\n",
    "    features_list = []\n",
    "    for i in tqdm(range(ds.num_rows)):\n",
    "        tokens = tokenizer(ds[i]['text'], return_tensors='pt').to(device)\n",
    "        with torch.no_grad():\n",
    "            output = bert_model(**tokens)\n",
    "        features_list.append(output.pooler_output)\n",
    "    features_list = torch.cat(features_list)\n",
    "    # extract the corresponding labels and move them to GPU (since the features are on GPU as well)\n",
    "    labels_list = [dct['label'] for dct in ds]\n",
    "    labels_list = torch.tensor(labels_list) \\\n",
    "        .reshape((-1, 1)) \\\n",
    "        .float() \\\n",
    "        .to(device)\n",
    "    return features_list, labels_list"
   ]
  },
  {
   "cell_type": "code",
   "execution_count": null,
   "id": "d7b83c66-ed63-4c90-b013-c1a2d1349a12",
   "metadata": {},
   "outputs": [],
   "source": [
    "# transform the reviews to features\n",
    "x_train, y_train = text_to_features(ds_train)\n",
    "x_validation, y_validation = text_to_features(ds_validation)\n",
    "x_test, y_test = text_to_features(ds_test)"
   ]
  },
  {
   "cell_type": "code",
   "execution_count": null,
   "id": "090386d5-08af-48d7-96ba-a4ce144052b4",
   "metadata": {},
   "outputs": [],
   "source": [
    "# Define a simple neural network with two dense layers and a sigmoid in the end\n",
    "class SimpleNN(nn.Module):\n",
    "    \n",
    "    def __init__(self, input_size, hidden_size, output_size):\n",
    "        super(SimpleNN, self).__init__()\n",
    "        self.fc1 = nn.Linear(input_size, hidden_size)\n",
    "        self.relu = nn.ReLU()\n",
    "        self.fc2 = nn.Linear(hidden_size, output_size)\n",
    "        self.sigmoid = nn.Sigmoid()\n",
    "\n",
    "    def forward(self, x):\n",
    "        x = self.fc1(x)\n",
    "        x = self.relu(x)\n",
    "        x = self.fc2(x)\n",
    "        x = self.sigmoid(x)\n",
    "        return x\n",
    "\n",
    "# Parameters for the model and training\n",
    "input_size = x_train.shape[1]  # Size of the input features\n",
    "hidden_size = 128  # Number of units in the hidden layer\n",
    "output_size = 1  # binary classification so only 1 output node\n",
    "batch_size = 32  # Training batch size\n",
    "\n",
    "# Create the model\n",
    "model = SimpleNN(input_size, hidden_size, output_size)\n",
    "model = model.to(device)\n",
    "\n",
    "# Define a loss function and optimizer\n",
    "criterion = nn.BCELoss()\n",
    "optimizer = optim.Adam(model.parameters(), lr=0.001)\n",
    "scheduler = optim.lr_scheduler.StepLR(optimizer, step_size=25, gamma=0.5)"
   ]
  },
  {
   "cell_type": "code",
   "execution_count": null,
   "id": "e47dc717-85a4-4f14-865c-a28a4462d71c",
   "metadata": {},
   "outputs": [],
   "source": [
    "# Create dataLoaders\n",
    "def create_dataloader(x, y, bs):\n",
    "    dataset = TensorDataset(x, y)\n",
    "    return DataLoader(dataset, batch_size=bs, shuffle=True)\n",
    "\n",
    "dl_train = create_dataloader(x_train, y_train, batch_size)\n",
    "dl_validation = create_dataloader(x_validation, y_validation, batch_size)\n",
    "dl_test = create_dataloader(x_test, y_test, batch_size)\n",
    "\n",
    "print(\"Number of training steps per epoch:\", len(dl_train))"
   ]
  },
  {
   "cell_type": "code",
   "execution_count": null,
   "id": "7e756378-4cb8-417c-9e64-1c51f9980f99",
   "metadata": {},
   "outputs": [],
   "source": [
    "def eval_model(dl):\n",
    "    \"\"\"Helper function to easily evaluate the performance of the model on a data split.\n",
    "    \"\"\"\n",
    "    model.eval()\n",
    "    total_loss = 0\n",
    "    total_correct = 0\n",
    "    with torch.no_grad():\n",
    "        for inputs, targets in dl:\n",
    "            preds = model(inputs)\n",
    "            loss = criterion(preds, targets)\n",
    "            total_loss += loss.item()\n",
    "            total_correct += ((preds > 0.5) == targets).sum()\n",
    "    avg_loss = total_loss / len(dl)\n",
    "    accuracy = total_correct / len(dl.dataset.tensors[1])\n",
    "    return avg_loss, accuracy.to(\"cpu\").item()"
   ]
  },
  {
   "cell_type": "code",
   "execution_count": null,
   "id": "f49b903b-768f-485b-9904-63eed0bc693e",
   "metadata": {},
   "outputs": [],
   "source": [
    "# check performance of untrained model\n",
    "eval_model(dl_train)"
   ]
  },
  {
   "cell_type": "code",
   "execution_count": null,
   "id": "6911c5ad-a620-408f-ace6-6cb2708dafde",
   "metadata": {},
   "outputs": [],
   "source": [
    "# train the simple model\n",
    "num_epochs = 100\n",
    "for epoch in range(num_epochs):\n",
    "    model.train()\n",
    "    avg_loss = []\n",
    "    for inputs, targets in dl_train:\n",
    "        # Forward pass\n",
    "        outputs = model(inputs)\n",
    "        loss = criterion(outputs, targets)\n",
    "        # Backward and optimize\n",
    "        optimizer.zero_grad()\n",
    "        loss.backward()\n",
    "        optimizer.step()\n",
    "        avg_loss.append(loss.item())\n",
    "    scheduler.step()\n",
    "    \n",
    "    avg_loss = np.mean(avg_loss)\n",
    "    if epoch % 5 == 0:\n",
    "        val_loss, val_accuracy = eval_model(dl_validation)\n",
    "        print(f'Epoch [{epoch+1}/{num_epochs}], lr {scheduler.get_last_lr()[0]}, Train Loss: {avg_loss:.4f}, Val Loss: {val_loss:.4f}, Val Acc: {val_accuracy:.4f}')"
   ]
  },
  {
   "cell_type": "code",
   "execution_count": null,
   "id": "aea84ae9-8d51-491f-86dd-dcb991322251",
   "metadata": {},
   "outputs": [],
   "source": [
    "# check performance on test set\n",
    "eval_model(dl_test)"
   ]
  },
  {
   "cell_type": "code",
   "execution_count": null,
   "id": "e4ab15a6-83a9-49dd-90a0-8abf524d935f",
   "metadata": {},
   "outputs": [],
   "source": []
  },
  {
   "cell_type": "code",
   "execution_count": null,
   "id": "a814af87-db02-4e65-9eb2-de450e1b4b89",
   "metadata": {},
   "outputs": [],
   "source": []
  }
 ],
 "metadata": {
  "kernelspec": {
   "display_name": "huggingface-pt",
   "language": "python",
   "name": "huggingface-pt"
  },
  "language_info": {
   "codemirror_mode": {
    "name": "ipython",
    "version": 3
   },
   "file_extension": ".py",
   "mimetype": "text/x-python",
   "name": "python",
   "nbconvert_exporter": "python",
   "pygments_lexer": "ipython3",
   "version": "3.10.13"
  }
 },
 "nbformat": 4,
 "nbformat_minor": 5
}
