{
 "cells": [
  {
   "cell_type": "code",
   "execution_count": null,
   "id": "distant-dubai",
   "metadata": {},
   "outputs": [],
   "source": [
    "import os\n",
    "import json\n",
    "import collections\n",
    "import numpy as np\n",
    "import tensorflow as tf\n",
    "import matplotlib.pyplot as plt\n",
    "\n",
    "from image_captioning.constants import PROJECT_PATH"
   ]
  },
  {
   "cell_type": "markdown",
   "id": "representative-might",
   "metadata": {},
   "source": [
    "# Download data\n",
    "\n",
    "This can take some time as it's ~13GB of data."
   ]
  },
  {
   "cell_type": "code",
   "execution_count": null,
   "id": "approximate-quebec",
   "metadata": {},
   "outputs": [],
   "source": [
    "data_folder = os.path.join(PROJECT_PATH, 'data')"
   ]
  },
  {
   "cell_type": "code",
   "execution_count": null,
   "id": "wooden-glasgow",
   "metadata": {},
   "outputs": [],
   "source": [
    "# Download caption annotation files\n",
    "if not os.path.exists(data_folder):\n",
    "    annotation_zip = tf.keras.utils.get_file(\n",
    "        fname='captions.zip',\n",
    "        origin='http://images.cocodataset.org/annotations/annotations_trainval2014.zip',\n",
    "        cache_subdir=data_folder,\n",
    "        extract=True\n",
    "    )\n",
    "    os.remove(annotation_zip)\n",
    "\n",
    "annotation_file = os.path.join(data_folder, 'annotations/captions_train2014.json')"
   ]
  },
  {
   "cell_type": "code",
   "execution_count": null,
   "id": "deluxe-discretion",
   "metadata": {},
   "outputs": [],
   "source": [
    "# Download image files\n",
    "if not os.path.exists(data_folder):\n",
    "    image_zip = tf.keras.utils.get_file(\n",
    "        fname='train2014.zip',\n",
    "        origin='http://images.cocodataset.org/zips/train2014.zip',\n",
    "        cache_subdir=image_folder,\n",
    "        extract=True\n",
    "    )\n",
    "    os.remove(image_zip)\n",
    "\n",
    "image_folder = os.path.join(data_folder, 'train2014')"
   ]
  },
  {
   "cell_type": "markdown",
   "id": "scheduled-chess",
   "metadata": {},
   "source": [
    "# Load data"
   ]
  },
  {
   "cell_type": "code",
   "execution_count": null,
   "id": "dedicated-creator",
   "metadata": {},
   "outputs": [],
   "source": [
    "with open(annotation_file, 'r') as f:\n",
    "    annotations = json.load(f)"
   ]
  },
  {
   "cell_type": "code",
   "execution_count": null,
   "id": "responsible-jonathan",
   "metadata": {},
   "outputs": [],
   "source": [
    "# Group all captions together having the same image ID.\n",
    "image_path_to_caption = collections.defaultdict(list)\n",
    "for val in annotations['annotations']:\n",
    "    caption = f\"<start> {val['caption']} <end>\"\n",
    "    image_path = os.path.join(image_folder, 'COCO_train2014_{:012d}.jpg'.format(val['image_id']))\n",
    "    image_path_to_caption[image_path].append(caption)"
   ]
  },
  {
   "cell_type": "code",
   "execution_count": null,
   "id": "aggregate-triangle",
   "metadata": {},
   "outputs": [],
   "source": [
    "image_paths = list(image_path_to_caption.keys())"
   ]
  },
  {
   "cell_type": "code",
   "execution_count": null,
   "id": "communist-catering",
   "metadata": {},
   "outputs": [],
   "source": [
    "fig, ax = plt.subplots(figsize=(8, 8))\n",
    "\n",
    "random_image_path = np.random.choice(image_paths)\n",
    "ax.set_title(\"\\n\".join(image_path_to_caption[random_image_path]), fontsize=14)\n",
    "ax.imshow(plt.imread(random_image_path));"
   ]
  },
  {
   "cell_type": "code",
   "execution_count": null,
   "id": "initial-blanket",
   "metadata": {},
   "outputs": [],
   "source": []
  },
  {
   "cell_type": "code",
   "execution_count": null,
   "id": "internal-telescope",
   "metadata": {},
   "outputs": [],
   "source": []
  }
 ],
 "metadata": {
  "kernelspec": {
   "display_name": "computer_vision",
   "language": "python",
   "name": "computer_vision"
  },
  "language_info": {
   "codemirror_mode": {
    "name": "ipython",
    "version": 3
   },
   "file_extension": ".py",
   "mimetype": "text/x-python",
   "name": "python",
   "nbconvert_exporter": "python",
   "pygments_lexer": "ipython3",
   "version": "3.6.13"
  }
 },
 "nbformat": 4,
 "nbformat_minor": 5
}
