{
 "cells": [
  {
   "cell_type": "code",
   "execution_count": null,
   "id": "crazy-upgrade",
   "metadata": {},
   "outputs": [],
   "source": [
    "import os\n",
    "import json\n",
    "import collections\n",
    "import numpy as np\n",
    "import tensorflow as tf\n",
    "import matplotlib.pyplot as plt\n",
    "\n",
    "from image_captioning.constants import DATA_DIR\n",
    "from image_captioning.data_pipeline import input_dataset"
   ]
  },
  {
   "cell_type": "markdown",
   "id": "professional-essay",
   "metadata": {},
   "source": [
    "# Download data\n",
    "\n",
    "This can take some time as it's ~13GB of data."
   ]
  },
  {
   "cell_type": "code",
   "execution_count": null,
   "id": "hazardous-princess",
   "metadata": {},
   "outputs": [],
   "source": [
    "# Download caption annotation files\n",
    "if not os.path.exists(DATA_DIR):\n",
    "    annotation_zip = tf.keras.utils.get_file(\n",
    "        fname='captions.zip',\n",
    "        origin='http://images.cocodataset.org/annotations/annotations_trainval2014.zip',\n",
    "        cache_subdir=DATA_DIR,\n",
    "        extract=True\n",
    "    )\n",
    "    os.remove(annotation_zip)\n",
    "\n",
    "annotation_file = os.path.join(DATA_DIR, 'annotations/captions_train2014.json')"
   ]
  },
  {
   "cell_type": "code",
   "execution_count": null,
   "id": "particular-savings",
   "metadata": {},
   "outputs": [],
   "source": [
    "# Download image files\n",
    "image_folder = os.path.join(DATA_DIR, 'train2014')\n",
    "if not os.path.exists(DATA_DIR):\n",
    "    image_zip = tf.keras.utils.get_file(\n",
    "        fname='train2014.zip',\n",
    "        origin='http://images.cocodataset.org/zips/train2014.zip',\n",
    "        cache_subdir=image_folder,\n",
    "        extract=True\n",
    "    )\n",
    "    os.remove(image_zip)"
   ]
  },
  {
   "cell_type": "markdown",
   "id": "lesbian-metropolitan",
   "metadata": {},
   "source": [
    "# Load data"
   ]
  },
  {
   "cell_type": "code",
   "execution_count": null,
   "id": "institutional-child",
   "metadata": {},
   "outputs": [],
   "source": [
    "with open(annotation_file, 'r') as f:\n",
    "    annotations = json.load(f)"
   ]
  },
  {
   "cell_type": "code",
   "execution_count": null,
   "id": "intended-essex",
   "metadata": {},
   "outputs": [],
   "source": [
    "# Group all captions together having the same image ID.\n",
    "image_path_to_caption = collections.defaultdict(list)\n",
    "for val in annotations['annotations']:\n",
    "    caption = f\"<start> {val['caption']} <end>\"\n",
    "    image_path = os.path.join(image_folder, 'COCO_train2014_{:012d}.jpg'.format(val['image_id']))\n",
    "    image_path_to_caption[image_path].append(caption)\n",
    "\n",
    "image_paths = list(image_path_to_caption.keys())"
   ]
  },
  {
   "cell_type": "code",
   "execution_count": null,
   "id": "respiratory-above",
   "metadata": {},
   "outputs": [],
   "source": [
    "fig, ax = plt.subplots(figsize=(8, 8))\n",
    "\n",
    "random_image_path = np.random.choice(image_paths)\n",
    "ax.set_title(\"\\n\".join(image_path_to_caption[random_image_path]), fontsize=14)\n",
    "ax.imshow(plt.imread(random_image_path));"
   ]
  },
  {
   "cell_type": "markdown",
   "id": "supported-child",
   "metadata": {},
   "source": [
    "# Data preprocess image"
   ]
  },
  {
   "cell_type": "code",
   "execution_count": null,
   "id": "enabling-windsor",
   "metadata": {},
   "outputs": [],
   "source": [
    "random_image_path = np.random.choice(image_paths)\n",
    "preprocessed_img, _ = input_dataset.load_and_preprocess_image(random_image_path)\n",
    "\n",
    "print(preprocessed_img.shape)\n",
    "plt.imshow((preprocessed_img + 1) / 2);"
   ]
  },
  {
   "cell_type": "code",
   "execution_count": null,
   "id": "restricted-steps",
   "metadata": {},
   "outputs": [],
   "source": []
  },
  {
   "cell_type": "code",
   "execution_count": null,
   "id": "similar-tucson",
   "metadata": {},
   "outputs": [],
   "source": []
  },
  {
   "cell_type": "code",
   "execution_count": null,
   "id": "increasing-acoustic",
   "metadata": {},
   "outputs": [],
   "source": []
  }
 ],
 "metadata": {
  "kernelspec": {
   "display_name": "computer_vision",
   "language": "python",
   "name": "computer_vision"
  },
  "language_info": {
   "codemirror_mode": {
    "name": "ipython",
    "version": 3
   },
   "file_extension": ".py",
   "mimetype": "text/x-python",
   "name": "python",
   "nbconvert_exporter": "python",
   "pygments_lexer": "ipython3",
   "version": "3.6.13"
  }
 },
 "nbformat": 4,
 "nbformat_minor": 5
}
