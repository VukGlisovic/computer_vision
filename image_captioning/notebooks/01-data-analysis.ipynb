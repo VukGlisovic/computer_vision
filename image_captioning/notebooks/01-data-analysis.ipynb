{
 "cells": [
  {
   "cell_type": "code",
   "execution_count": null,
   "id": "dutch-trailer",
   "metadata": {},
   "outputs": [],
   "source": [
    "import os\n",
    "import json\n",
    "import random\n",
    "import numpy as np\n",
    "import tensorflow as tf\n",
    "import matplotlib.pyplot as plt\n",
    "\n",
    "from image_captioning.constants import *\n",
    "from image_captioning.data_pipeline import input_dataset"
   ]
  },
  {
   "cell_type": "markdown",
   "id": "hispanic-conditioning",
   "metadata": {},
   "source": [
    "# Download data\n",
    "\n",
    "This can take some time as it's ~13GB of data."
   ]
  },
  {
   "cell_type": "code",
   "execution_count": null,
   "id": "related-edward",
   "metadata": {},
   "outputs": [],
   "source": [
    "# Download caption annotation files\n",
    "if not os.path.exists(DATA_DIR):\n",
    "    annotation_zip = tf.keras.utils.get_file(\n",
    "        fname='captions.zip',\n",
    "        origin='http://images.cocodataset.org/annotations/annotations_trainval2014.zip',\n",
    "        cache_subdir=DATA_DIR,\n",
    "        extract=True\n",
    "    )\n",
    "    os.remove(annotation_zip)"
   ]
  },
  {
   "cell_type": "code",
   "execution_count": null,
   "id": "changing-reputation",
   "metadata": {},
   "outputs": [],
   "source": [
    "# Download image files\n",
    "if not os.path.exists(IMAGES_DIR):\n",
    "    image_zip = tf.keras.utils.get_file(\n",
    "        fname='train2014.zip',\n",
    "        origin='http://images.cocodataset.org/zips/train2014.zip',\n",
    "        cache_subdir=IMAGES_DIR,\n",
    "        extract=True\n",
    "    )\n",
    "    os.remove(image_zip)"
   ]
  },
  {
   "cell_type": "markdown",
   "id": "forward-office",
   "metadata": {},
   "source": [
    "# Load data"
   ]
  },
  {
   "cell_type": "code",
   "execution_count": null,
   "id": "broke-filter",
   "metadata": {},
   "outputs": [],
   "source": [
    "with open(ANNOTATION_FILE, 'r') as f:\n",
    "    annotations = json.load(f)"
   ]
  },
  {
   "cell_type": "code",
   "execution_count": null,
   "id": "disciplinary-harassment",
   "metadata": {},
   "outputs": [],
   "source": [
    "all_captions, all_imgpaths, imgpath_to_caption = input_dataset.load_annotations()\n",
    "image_paths = list(imgpath_to_caption.keys())"
   ]
  },
  {
   "cell_type": "markdown",
   "id": "above-innocent",
   "metadata": {},
   "source": [
    "# Visualize images with its captions"
   ]
  },
  {
   "cell_type": "code",
   "execution_count": null,
   "id": "rural-homework",
   "metadata": {},
   "outputs": [],
   "source": [
    "# Visualize random image with its captions\n",
    "fig, ax = plt.subplots(figsize=(8, 8))\n",
    "\n",
    "random_image_path = np.random.choice(image_paths)\n",
    "ax.set_title(\"\\n\".join(imgpath_to_caption[random_image_path]), fontsize=14)\n",
    "ax.imshow(plt.imread(random_image_path));"
   ]
  },
  {
   "cell_type": "markdown",
   "id": "naked-lunch",
   "metadata": {},
   "source": [
    "# Data preprocess image"
   ]
  },
  {
   "cell_type": "code",
   "execution_count": null,
   "id": "collectible-asbestos",
   "metadata": {},
   "outputs": [],
   "source": [
    "random_image_path = np.random.choice(image_paths)\n",
    "preprocessed_img, _ = input_dataset.load_and_preprocess_image(random_image_path)\n",
    "\n",
    "print(preprocessed_img.shape)\n",
    "plt.imshow((preprocessed_img + 1) / 2);"
   ]
  },
  {
   "cell_type": "code",
   "execution_count": null,
   "id": "artistic-straight",
   "metadata": {},
   "outputs": [],
   "source": []
  },
  {
   "cell_type": "code",
   "execution_count": null,
   "id": "executed-isolation",
   "metadata": {},
   "outputs": [],
   "source": []
  }
 ],
 "metadata": {
  "kernelspec": {
   "display_name": "computer_vision",
   "language": "python",
   "name": "computer_vision"
  },
  "language_info": {
   "codemirror_mode": {
    "name": "ipython",
    "version": 3
   },
   "file_extension": ".py",
   "mimetype": "text/x-python",
   "name": "python",
   "nbconvert_exporter": "python",
   "pygments_lexer": "ipython3",
   "version": "3.8.13"
  }
 },
 "nbformat": 4,
 "nbformat_minor": 5
}
