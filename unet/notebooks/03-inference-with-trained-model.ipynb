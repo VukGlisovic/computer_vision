{
 "cells": [
  {
   "cell_type": "code",
   "execution_count": null,
   "metadata": {},
   "outputs": [],
   "source": [
    "import os\n",
    "from glob import glob\n",
    "import cv2\n",
    "import numpy as np\n",
    "import pandas as pd\n",
    "import tensorflow as tf\n",
    "from tensorflow import keras\n",
    "import matplotlib.pyplot as plt\n",
    "from unet.model.architecture import get_unet_model\n",
    "from unet.model.preprocessing import load_data"
   ]
  },
  {
   "cell_type": "markdown",
   "metadata": {},
   "source": [
    "# Load the data"
   ]
  },
  {
   "cell_type": "code",
   "execution_count": null,
   "metadata": {},
   "outputs": [],
   "source": [
    "Xtrain, ytrain = load_data()"
   ]
  },
  {
   "cell_type": "markdown",
   "metadata": {},
   "source": [
    "# Load the model and make predictions"
   ]
  },
  {
   "cell_type": "code",
   "execution_count": null,
   "metadata": {},
   "outputs": [],
   "source": [
    "model = get_unet_model(dropout_rate=0., batchnorm=False)\n",
    "\n",
    "checkpoint_dir = '../model/unet_saved_model/'\n",
    "latest = tf.train.latest_checkpoint(checkpoint_dir)\n",
    "print(\"Latest file: {}\".format(latest))\n",
    "\n",
    "model.load_weights(latest)"
   ]
  },
  {
   "cell_type": "code",
   "execution_count": null,
   "metadata": {},
   "outputs": [],
   "source": [
    "example_image = Xtrain[4][:,:,:1]\n",
    "example_target = ytrain[4][:,:,:1]"
   ]
  },
  {
   "cell_type": "code",
   "execution_count": null,
   "metadata": {},
   "outputs": [],
   "source": [
    "prediction = model.predict(np.array([example_image]) / 255)[0]\n",
    "prediction_mask = np.zeros(shape=prediction[:,:,0].shape)\n",
    "prediction_mask[prediction[:,:,0] > 0.5] = 255"
   ]
  },
  {
   "cell_type": "code",
   "execution_count": null,
   "metadata": {},
   "outputs": [],
   "source": [
    "fig, [ax1, ax2, ax3, ax4] = plt.subplots(1, 4, figsize=(25, 10))\n",
    "\n",
    "\n",
    "ax1.set_title(\"Input image\", fontsize=14)\n",
    "ax1.imshow(example_image[:,:,0], cmap='seismic', interpolation='bilinear')\n",
    "ax2.set_title(\"True target/mask\", fontsize=14)\n",
    "ax2.imshow(example_target[:,:,0], cmap='gray', interpolation='bilinear')\n",
    "ax3.set_title(\"Raw prediction\", fontsize=14)\n",
    "ax3.imshow(prediction[:,:,0], cmap='gray', interpolation='bilinear')\n",
    "ax4.set_title(\"Prediction mask (threshold 0.5)\", fontsize=14)\n",
    "ax4.imshow(prediction_mask, cmap='gray', interpolation='bilinear');"
   ]
  },
  {
   "cell_type": "code",
   "execution_count": null,
   "metadata": {},
   "outputs": [],
   "source": []
  },
  {
   "cell_type": "code",
   "execution_count": null,
   "metadata": {},
   "outputs": [],
   "source": []
  },
  {
   "cell_type": "code",
   "execution_count": null,
   "metadata": {},
   "outputs": [],
   "source": []
  }
 ],
 "metadata": {
  "kernelspec": {
   "display_name": "computer_vision",
   "language": "python",
   "name": "computer_vision"
  },
  "language_info": {
   "codemirror_mode": {
    "name": "ipython",
    "version": 3
   },
   "file_extension": ".py",
   "mimetype": "text/x-python",
   "name": "python",
   "nbconvert_exporter": "python",
   "pygments_lexer": "ipython3",
   "version": "3.6.7"
  }
 },
 "nbformat": 4,
 "nbformat_minor": 4
}
