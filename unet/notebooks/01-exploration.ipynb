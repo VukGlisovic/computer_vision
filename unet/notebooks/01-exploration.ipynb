{
 "cells": [
  {
   "cell_type": "code",
   "execution_count": null,
   "metadata": {},
   "outputs": [],
   "source": [
    "import os\n",
    "from glob import glob\n",
    "import cv2\n",
    "from tensorflow import keras\n",
    "import numpy as np\n",
    "import pandas as pd\n",
    "import matplotlib.pyplot as plt\n",
    "\n",
    "from unet.model.architecture import create_unet_model"
   ]
  },
  {
   "cell_type": "markdown",
   "metadata": {},
   "source": [
    "# Get image paths and inspect some images\n",
    "\n",
    "Note that the images are the training input features and that the masks are the targets."
   ]
  },
  {
   "cell_type": "code",
   "execution_count": null,
   "metadata": {},
   "outputs": [],
   "source": [
    "train_image_files = glob('../data/images/*')\n",
    "train_mask_files = glob('../data/masks/*')\n",
    "print(\"Number of train files: {}\".format(len(train_image_files)))\n",
    "print(\"Number of train masks: {}\".format(len(train_mask_files)))"
   ]
  },
  {
   "cell_type": "code",
   "execution_count": null,
   "metadata": {},
   "outputs": [],
   "source": [
    "sample_image_path = train_image_files[-1]\n",
    "sample_image = cv2.imread(sample_image_path)\n",
    "sample_mask_path = train_mask_files[-1]\n",
    "sample_mask = cv2.imread(sample_mask_path)"
   ]
  },
  {
   "cell_type": "code",
   "execution_count": null,
   "metadata": {},
   "outputs": [],
   "source": [
    "sample_image.shape, sample_mask.shape"
   ]
  },
  {
   "cell_type": "code",
   "execution_count": null,
   "metadata": {},
   "outputs": [],
   "source": [
    "nr_samples = 3\n",
    "fig, axes = plt.subplots(nr_samples, 2, figsize=(10, 5*nr_samples))\n",
    "\n",
    "for (ax_image, ax_mask), image_path, mask_path in zip(axes, train_image_files, train_mask_files):\n",
    "    ax_image.imshow(cv2.imread(image_path)[:,:,0], cmap='seismic', interpolation='bilinear')\n",
    "    ax_mask.imshow(cv2.imread(mask_path), cmap='gray', interpolation='bilinear')"
   ]
  },
  {
   "cell_type": "markdown",
   "metadata": {},
   "source": [
    "# Create the model"
   ]
  },
  {
   "cell_type": "code",
   "execution_count": null,
   "metadata": {},
   "outputs": [],
   "source": [
    "input_image = keras.layers.Input((sample_image.shape[0], sample_image.shape[1], 1), name='image')\n",
    "unet_model = create_unet_model(input_image, batchnorm=True)"
   ]
  },
  {
   "cell_type": "code",
   "execution_count": null,
   "metadata": {},
   "outputs": [],
   "source": []
  },
  {
   "cell_type": "code",
   "execution_count": null,
   "metadata": {},
   "outputs": [],
   "source": []
  },
  {
   "cell_type": "code",
   "execution_count": null,
   "metadata": {},
   "outputs": [],
   "source": []
  },
  {
   "cell_type": "code",
   "execution_count": null,
   "metadata": {},
   "outputs": [],
   "source": []
  }
 ],
 "metadata": {
  "kernelspec": {
   "display_name": "computer_vision",
   "language": "python",
   "name": "computer_vision"
  },
  "language_info": {
   "codemirror_mode": {
    "name": "ipython",
    "version": 3
   },
   "file_extension": ".py",
   "mimetype": "text/x-python",
   "name": "python",
   "nbconvert_exporter": "python",
   "pygments_lexer": "ipython3",
   "version": "3.6.7"
  }
 },
 "nbformat": 4,
 "nbformat_minor": 2
}
