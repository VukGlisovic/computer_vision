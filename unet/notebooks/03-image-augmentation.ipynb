{
 "cells": [
  {
   "cell_type": "code",
   "execution_count": null,
   "metadata": {},
   "outputs": [],
   "source": [
    "import unet.model.augmentations as aug\n",
    "from glob import glob\n",
    "import cv2\n",
    "import numpy as np\n",
    "import matplotlib.pyplot as plt"
   ]
  },
  {
   "cell_type": "markdown",
   "metadata": {},
   "source": [
    "# Read a few images"
   ]
  },
  {
   "cell_type": "code",
   "execution_count": null,
   "metadata": {},
   "outputs": [],
   "source": [
    "train_image_files = glob('../data/images/*')\n",
    "train_mask_files = glob('../data/masks/*')\n",
    "Xtrain = np.array([cv2.imread(p)[:, :, :1] for p in train_image_files[:10]])\n",
    "ytrain = np.array([cv2.imread(p)[:, :, :1] for p in train_mask_files[:10]])"
   ]
  },
  {
   "cell_type": "markdown",
   "metadata": {},
   "source": [
    "# Visualize augmentations"
   ]
  },
  {
   "cell_type": "code",
   "execution_count": null,
   "metadata": {},
   "outputs": [],
   "source": [
    "nr_rows = 10\n",
    "fig, axes = plt.subplots(nr_rows, 6, figsize=(20, nr_rows * 4))\n",
    "\n",
    "first_row_axes = axes[0]\n",
    "first_row_axes[0].set_title(\"True Image\")\n",
    "first_row_axes[1].set_title(\"True Mask\")\n",
    "first_row_axes[2].set_title(\"Augmentated Image\")\n",
    "first_row_axes[3].set_title(\"Augmentated Mask\")\n",
    "first_row_axes[4].set_title(\"Augmentated Image\")\n",
    "first_row_axes[5].set_title(\"Augmentated Mask\")\n",
    "\n",
    "\n",
    "def move_axes(ax0, ax1):\n",
    "    ax0_position = ax0.get_position()\n",
    "    ax1_position = ax1.get_position()\n",
    "    ax1.set_position([ax0_position.x0 + ax0_position.width, ax1_position.y0, ax1_position.width, ax1_position.height])\n",
    "    ax1.set_yticks([])\n",
    "\n",
    "\n",
    "for row_axes, image, mask in zip(axes, Xtrain, ytrain):\n",
    "    row_axes[0].imshow(image[:,:,0])\n",
    "    row_axes[1].imshow(mask[:,:,0])\n",
    "    move_axes(row_axes[0], row_axes[1])\n",
    "    \n",
    "    augmented_image, augmented_mask = aug.rotate(image, mask)\n",
    "    row_axes[2].imshow(augmented_image[:,:,0])\n",
    "    row_axes[3].imshow(augmented_mask[:,:,0])\n",
    "    move_axes(row_axes[2], row_axes[3])\n",
    "    \n",
    "    augmented_image, augmented_mask = aug.rotate(image, mask)\n",
    "    row_axes[4].imshow(augmented_image[:,:,0])\n",
    "    row_axes[5].imshow(augmented_mask[:,:,0])\n",
    "    move_axes(row_axes[4], row_axes[5])"
   ]
  },
  {
   "cell_type": "code",
   "execution_count": null,
   "metadata": {},
   "outputs": [],
   "source": [
    "nr_rows = 10\n",
    "fig, axes = plt.subplots(nr_rows, 6, figsize=(20, nr_rows * 4))\n",
    "\n",
    "first_row_axes = axes[0]\n",
    "first_row_axes[0].set_title(\"True Image\")\n",
    "first_row_axes[1].set_title(\"True Mask\")\n",
    "first_row_axes[2].set_title(\"Augmentated Image\")\n",
    "first_row_axes[3].set_title(\"Augmentated Mask\")\n",
    "first_row_axes[4].set_title(\"Augmentated Image\")\n",
    "first_row_axes[5].set_title(\"Augmentated Mask\")\n",
    "\n",
    "\n",
    "def move_axes(ax0, ax1):\n",
    "    ax0_position = ax0.get_position()\n",
    "    ax1_position = ax1.get_position()\n",
    "    ax1.set_position([ax0_position.x0 + ax0_position.width, ax1_position.y0, ax1_position.width, ax1_position.height])\n",
    "    ax1.set_yticks([])\n",
    "\n",
    "\n",
    "for row_axes, image, mask in zip(axes, Xtrain, ytrain):\n",
    "    row_axes[0].imshow(image[:,:,0])\n",
    "    row_axes[1].imshow(mask[:,:,0])\n",
    "    move_axes(row_axes[0], row_axes[1])\n",
    "    \n",
    "    augmented_image, augmented_mask = aug.flip(image, mask)\n",
    "    row_axes[2].imshow(augmented_image[:,:,0])\n",
    "    row_axes[3].imshow(augmented_mask[:,:,0])\n",
    "    move_axes(row_axes[2], row_axes[3])\n",
    "    \n",
    "    augmented_image, augmented_mask = aug.flip(image, mask)\n",
    "    row_axes[4].imshow(augmented_image[:,:,0])\n",
    "    row_axes[5].imshow(augmented_mask[:,:,0])\n",
    "    move_axes(row_axes[4], row_axes[5])"
   ]
  },
  {
   "cell_type": "code",
   "execution_count": null,
   "metadata": {},
   "outputs": [],
   "source": []
  },
  {
   "cell_type": "code",
   "execution_count": null,
   "metadata": {},
   "outputs": [],
   "source": []
  },
  {
   "cell_type": "code",
   "execution_count": null,
   "metadata": {},
   "outputs": [],
   "source": []
  },
  {
   "cell_type": "code",
   "execution_count": null,
   "metadata": {},
   "outputs": [],
   "source": []
  }
 ],
 "metadata": {
  "kernelspec": {
   "display_name": "computer_vision",
   "language": "python",
   "name": "computer_vision"
  },
  "language_info": {
   "codemirror_mode": {
    "name": "ipython",
    "version": 3
   },
   "file_extension": ".py",
   "mimetype": "text/x-python",
   "name": "python",
   "nbconvert_exporter": "python",
   "pygments_lexer": "ipython3",
   "version": "3.6.7"
  }
 },
 "nbformat": 4,
 "nbformat_minor": 4
}
