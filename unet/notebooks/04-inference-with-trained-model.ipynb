{
 "cells": [
  {
   "cell_type": "code",
   "execution_count": null,
   "metadata": {},
   "outputs": [],
   "source": [
    "import os\n",
    "from glob import glob\n",
    "import cv2\n",
    "import numpy as np\n",
    "import pandas as pd\n",
    "import tensorflow as tf\n",
    "from tensorflow import keras\n",
    "import matplotlib.pyplot as plt\n",
    "from unet.model.constants import *\n",
    "from unet.model.architecture import get_unet_model\n",
    "from unet.model.preprocessing import load_data"
   ]
  },
  {
   "cell_type": "markdown",
   "metadata": {},
   "source": [
    "# Load the data"
   ]
  },
  {
   "cell_type": "code",
   "execution_count": null,
   "metadata": {},
   "outputs": [],
   "source": [
    "Xtrain, ytrain = load_data()"
   ]
  },
  {
   "cell_type": "markdown",
   "metadata": {},
   "source": [
    "# Load the model and make predictions"
   ]
  },
  {
   "cell_type": "code",
   "execution_count": null,
   "metadata": {},
   "outputs": [],
   "source": [
    "def predict_from_checkpoint(img, epoch=0):\n",
    "    \"\"\"Loads the weights for a particular epoch and then predicts\n",
    "    with the loaded weights.\n",
    "    \n",
    "    Args:\n",
    "        img (Union[list, np.ndarray]):\n",
    "        epoch (int):\n",
    "        \n",
    "    Returns:\n",
    "        tuple[np.ndarray, np.ndarray]\n",
    "    \"\"\"\n",
    "    model.load_weights(CHECKPOINT_PATH.format(epoch=epoch))\n",
    "    prediction = model.predict(np.array([img]) / 255)[0]\n",
    "    prediction_mask = np.zeros(shape=prediction[:,:,0].shape)\n",
    "    prediction_mask[prediction[:,:,0] > 0.5] = 255\n",
    "    return prediction, prediction_mask\n",
    "\n",
    "\n",
    "def plot_true_with_prediction(ax1, ax2, ax3, ax4, true_img, true_target, raw_prediction, predicted_target):\n",
    "    \"\"\"Plots four figures:\n",
    "    1. the input image\n",
    "    2. true target\n",
    "    3. raw prediction (no threshold applied)\n",
    "    4. prediction mask\n",
    "    \n",
    "    Args:\n",
    "        ax1 (AxesSubplot):\n",
    "        ax2 (AxesSubplot):\n",
    "        ax3 (AxesSubplot):\n",
    "        ax4 (AxesSubplot):\n",
    "        true_img (np.ndarray):\n",
    "        true_target (np.ndarray):\n",
    "        raw_prediction (np.ndarray):\n",
    "        predicted_target (np.ndarray):\n",
    "    \"\"\"\n",
    "    ax1.set_title(\"Input image\", fontsize=14)\n",
    "    ax1.imshow(example_image[:,:,0], cmap='seismic', interpolation='bilinear')\n",
    "    ax2.set_title(\"True target/mask\", fontsize=14)\n",
    "    ax2.imshow(example_target[:,:,0], cmap='gray', interpolation='bilinear')\n",
    "    ax3.set_title(\"Raw prediction\", fontsize=14)\n",
    "    ax3.imshow(raw_prediction[:,:,0], cmap='gray', interpolation='bilinear')\n",
    "    ax4.set_title(\"Prediction mask (threshold 0.5)\", fontsize=14)\n",
    "    ax4.imshow(predicted_target, cmap='gray', interpolation='bilinear');"
   ]
  },
  {
   "cell_type": "code",
   "execution_count": null,
   "metadata": {},
   "outputs": [],
   "source": [
    "model = get_unet_model(dropout_rate=0., batchnorm=False)"
   ]
  },
  {
   "cell_type": "code",
   "execution_count": null,
   "metadata": {},
   "outputs": [],
   "source": [
    "example_image = Xtrain[5][:,:,:1]\n",
    "example_target = ytrain[5][:,:,:1]"
   ]
  },
  {
   "cell_type": "code",
   "execution_count": null,
   "metadata": {},
   "outputs": [],
   "source": [
    "nr_rows = 11\n",
    "fig, axes = plt.subplots(nr_rows, 4, figsize=(25, 7 * nr_rows))\n",
    "\n",
    "\n",
    "for epoch, (ax1, ax2, ax3, ax4) in enumerate(axes):\n",
    "    prediction, prediction_mask = predict_from_checkpoint(example_image, epoch=epoch)\n",
    "    plot_true_with_prediction(ax1, ax2, ax3, ax4, example_image, example_target, prediction, prediction_mask)"
   ]
  },
  {
   "cell_type": "code",
   "execution_count": null,
   "metadata": {},
   "outputs": [],
   "source": []
  },
  {
   "cell_type": "code",
   "execution_count": null,
   "metadata": {},
   "outputs": [],
   "source": []
  },
  {
   "cell_type": "code",
   "execution_count": null,
   "metadata": {},
   "outputs": [],
   "source": []
  }
 ],
 "metadata": {
  "kernelspec": {
   "display_name": "computer_vision",
   "language": "python",
   "name": "computer_vision"
  },
  "language_info": {
   "codemirror_mode": {
    "name": "ipython",
    "version": 3
   },
   "file_extension": ".py",
   "mimetype": "text/x-python",
   "name": "python",
   "nbconvert_exporter": "python",
   "pygments_lexer": "ipython3",
   "version": "3.6.7"
  }
 },
 "nbformat": 4,
 "nbformat_minor": 4
}
