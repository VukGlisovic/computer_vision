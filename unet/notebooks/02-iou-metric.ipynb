{
 "cells": [
  {
   "cell_type": "code",
   "execution_count": null,
   "metadata": {},
   "outputs": [],
   "source": [
    "import numpy as np\n",
    "import tensorflow as tf\n",
    "from unet.model.metrics import get_iou_vector, IOU\n",
    "from sklearn.metrics import confusion_matrix"
   ]
  },
  {
   "cell_type": "code",
   "execution_count": null,
   "metadata": {},
   "outputs": [],
   "source": [
    "def generate_truemask_and_prediction(overlap_factor):\n",
    "    length = 4\n",
    "    t = np.append(np.ones(shape=(length, length // 2)), np.zeros(shape=(length, length // 2)), axis=1)\n",
    "    p = np.zeros(shape=(length, length))\n",
    "    nr_elements = np.prod(t.shape)\n",
    "    nr_elements_to_convert = int(np.ceil(nr_elements * overlap_factor))\n",
    "    for i in range(nr_elements_to_convert):\n",
    "        p[i % length, i // length] = 0.9\n",
    "    return t, p\n",
    "\n",
    "\n",
    "def generate_batch(factor, n_examples=3):\n",
    "    batch_true = []\n",
    "    batch_pred = []\n",
    "    for i in range(n_examples):\n",
    "        label, prediction = generate_truemask_and_prediction(factor)\n",
    "        batch_true.append(label)\n",
    "        batch_pred.append(prediction)\n",
    "    return np.array(batch_true), np.array(batch_pred)"
   ]
  },
  {
   "cell_type": "code",
   "execution_count": null,
   "metadata": {},
   "outputs": [],
   "source": [
    "batch1_true, batch1_pred = generate_batch(0.25)\n",
    "batch2_true, batch2_pred = generate_batch(0.5)\n",
    "batch3_true, batch3_pred = generate_batch(0.75)\n",
    "batch4_true, batch4_pred = generate_batch(1.)\n",
    "data_true = np.concatenate([batch1_true, batch2_true, batch3_true, batch4_true], axis=0)\n",
    "data_pred = np.concatenate([batch1_pred, batch2_pred, batch3_pred, batch4_pred], axis=0)"
   ]
  },
  {
   "cell_type": "code",
   "execution_count": null,
   "metadata": {},
   "outputs": [],
   "source": [
    "batch1_true[0], batch1_pred[0], batch2_pred[0], batch3_pred[0], batch4_pred[0]"
   ]
  },
  {
   "cell_type": "markdown",
   "metadata": {},
   "source": [
    "# Extended keras metric IOU"
   ]
  },
  {
   "cell_type": "code",
   "execution_count": null,
   "metadata": {},
   "outputs": [],
   "source": [
    "my_iou = IOU(name='test_IOU')\n",
    "\n",
    "my_iou.update_state(batch1_true, batch1_pred)\n",
    "\n",
    "my_iou.result()"
   ]
  },
  {
   "cell_type": "code",
   "execution_count": null,
   "metadata": {},
   "outputs": [],
   "source": [
    "iou = tf.keras.metrics.MeanIoU(num_classes=2)\n",
    "\n",
    "iou.update_state(batch1_true, batch1_pred)\n",
    "\n",
    "iou.result()"
   ]
  },
  {
   "cell_type": "code",
   "execution_count": null,
   "metadata": {},
   "outputs": [],
   "source": [
    "my_iou = IOU(name='test_IOU')\n",
    "\n",
    "my_iou.update_state(batch1_true, batch1_pred)\n",
    "my_iou.update_state(batch2_true, batch2_pred)\n",
    "my_iou.update_state(batch3_true, batch3_pred)\n",
    "my_iou.update_state(batch4_true, batch4_pred)\n",
    "\n",
    "my_iou.result()"
   ]
  },
  {
   "cell_type": "code",
   "execution_count": null,
   "metadata": {},
   "outputs": [],
   "source": [
    "cm = confusion_matrix(np.ravel(data_true), np.ravel((data_pred > 0.5).astype(int)))"
   ]
  },
  {
   "cell_type": "code",
   "execution_count": null,
   "metadata": {},
   "outputs": [],
   "source": [
    "sum_ocm.sum(axis=0)"
   ]
  },
  {
   "cell_type": "code",
   "execution_count": null,
   "metadata": {},
   "outputs": [],
   "source": [
    "# add up the scores for TP for the ones and the TP for the zeros and divide by 2\n",
    "((60 / (60 + 36 + 12)) + (84 / (84 + 12 + 36))) / 2"
   ]
  },
  {
   "cell_type": "markdown",
   "metadata": {},
   "source": [
    "# Individual batches"
   ]
  },
  {
   "cell_type": "code",
   "execution_count": null,
   "metadata": {},
   "outputs": [],
   "source": [
    "# batch 1\n",
    "m = tf.keras.metrics.MeanIoU(num_classes=2)\n",
    "\n",
    "m.update_state(batch1_true, batch1_pred)\n",
    "m.result()"
   ]
  },
  {
   "cell_type": "code",
   "execution_count": null,
   "metadata": {},
   "outputs": [],
   "source": [
    "(4 / (4 + 0 + 12)) + (12 / (12 + 0 + 4))"
   ]
  },
  {
   "cell_type": "code",
   "execution_count": null,
   "metadata": {},
   "outputs": [],
   "source": [
    "get_iou_vector(batch2_true, batch2_pred)"
   ]
  },
  {
   "cell_type": "code",
   "execution_count": null,
   "metadata": {},
   "outputs": [],
   "source": [
    "# batch 2\n",
    "m = tf.keras.metrics.MeanIoU(num_classes=2)\n",
    "\n",
    "m.update_state(batch2_true, batch2_pred)\n",
    "m.result()"
   ]
  },
  {
   "cell_type": "code",
   "execution_count": null,
   "metadata": {},
   "outputs": [],
   "source": [
    "# batch 3\n",
    "m = tf.keras.metrics.MeanIoU(num_classes=2)\n",
    "\n",
    "m.update_state(batch3_true, batch3_pred)\n",
    "m.result()"
   ]
  },
  {
   "cell_type": "code",
   "execution_count": null,
   "metadata": {},
   "outputs": [],
   "source": [
    "# batch 4\n",
    "m = tf.keras.metrics.MeanIoU(num_classes=2)\n",
    "\n",
    "m.update_state(batch4_true, batch4_pred)\n",
    "m.result()"
   ]
  },
  {
   "cell_type": "markdown",
   "metadata": {},
   "source": [
    "# Combination of batches"
   ]
  },
  {
   "cell_type": "code",
   "execution_count": null,
   "metadata": {},
   "outputs": [],
   "source": [
    "# batch 1 update per example\n",
    "m = tf.keras.metrics.MeanIoU(num_classes=2)\n",
    "\n",
    "m.update_state(batch1_true[0], batch1_pred[0])\n",
    "m.update_state(batch1_true[1], batch1_pred[1])\n",
    "m.update_state(batch1_true[2], batch1_pred[2])\n",
    "m.result()"
   ]
  },
  {
   "cell_type": "code",
   "execution_count": null,
   "metadata": {},
   "outputs": [],
   "source": [
    "# mix batch 1 & 2\n",
    "m = tf.keras.metrics.MeanIoU(num_classes=2)\n",
    "\n",
    "for i in range(len(batch1_pred)):\n",
    "    m.update_state(batch1_true[i], batch1_pred[i])\n",
    "for i in range(len(batch2_pred)):\n",
    "    m.update_state(batch2_true[i], batch2_pred[i])\n",
    "m.result()"
   ]
  },
  {
   "cell_type": "code",
   "execution_count": null,
   "metadata": {},
   "outputs": [],
   "source": [
    "# mix batch 2 & 3\n",
    "m = tf.keras.metrics.MeanIoU(num_classes=2)\n",
    "\n",
    "for i in range(len(batch2_pred)):\n",
    "    m.update_state(batch2_true[i], batch2_pred[i])\n",
    "for i in range(len(batch3_pred)):\n",
    "    m.update_state(batch3_true[i], batch3_pred[i])\n",
    "m.result()"
   ]
  },
  {
   "cell_type": "code",
   "execution_count": null,
   "metadata": {},
   "outputs": [],
   "source": [
    "# mix batch 2 & 3\n",
    "m = tf.keras.metrics.MeanIoU(num_classes=2)\n",
    "\n",
    "m.update_state(batch2_true, batch2_pred)\n",
    "m.update_state(batch3_true, batch3_pred)\n",
    "m.result()"
   ]
  },
  {
   "cell_type": "code",
   "execution_count": null,
   "metadata": {},
   "outputs": [],
   "source": [
    "# mix batch 2 & 3\n",
    "m = tf.keras.metrics.MeanIoU(num_classes=2)\n",
    "\n",
    "m.update_state(batch1_true, batch1_pred)\n",
    "m.update_state(batch2_true, batch2_pred)\n",
    "m.update_state(batch3_true, batch3_pred)\n",
    "m.result()"
   ]
  },
  {
   "cell_type": "code",
   "execution_count": null,
   "metadata": {},
   "outputs": [],
   "source": []
  },
  {
   "cell_type": "code",
   "execution_count": null,
   "metadata": {},
   "outputs": [],
   "source": []
  },
  {
   "cell_type": "code",
   "execution_count": null,
   "metadata": {},
   "outputs": [],
   "source": []
  },
  {
   "cell_type": "code",
   "execution_count": null,
   "metadata": {},
   "outputs": [],
   "source": []
  },
  {
   "cell_type": "code",
   "execution_count": null,
   "metadata": {},
   "outputs": [],
   "source": []
  },
  {
   "cell_type": "code",
   "execution_count": null,
   "metadata": {},
   "outputs": [],
   "source": []
  },
  {
   "cell_type": "code",
   "execution_count": null,
   "metadata": {},
   "outputs": [],
   "source": []
  }
 ],
 "metadata": {
  "kernelspec": {
   "display_name": "computer_vision",
   "language": "python",
   "name": "computer_vision"
  },
  "language_info": {
   "codemirror_mode": {
    "name": "ipython",
    "version": 3
   },
   "file_extension": ".py",
   "mimetype": "text/x-python",
   "name": "python",
   "nbconvert_exporter": "python",
   "pygments_lexer": "ipython3",
   "version": "3.6.7"
  }
 },
 "nbformat": 4,
 "nbformat_minor": 4
}
