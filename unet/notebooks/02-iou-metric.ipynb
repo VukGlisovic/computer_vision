{
 "cells": [
  {
   "cell_type": "code",
   "execution_count": null,
   "metadata": {},
   "outputs": [],
   "source": [
    "import numpy as np\n",
    "import tensorflow as tf"
   ]
  },
  {
   "cell_type": "code",
   "execution_count": null,
   "metadata": {},
   "outputs": [],
   "source": [
    "def generate_truemask_and_prediction(overlap_factor):\n",
    "    t = np.ones(shape=(3,3))\n",
    "    p = np.zeros(shape=(3,3))\n",
    "    loc = 0\n",
    "    while p.sum() / t.sum() < overlap_factor:\n",
    "        p[loc % 3, loc//3] = 1\n",
    "        loc += 1\n",
    "    return t, p\n",
    "\n",
    "\n",
    "def generate_batch(factor, n_examples=3):\n",
    "    batch_true = []\n",
    "    batch_pred = []\n",
    "    for i in range(n_examples):\n",
    "        label, prediction = generate_truemask_and_prediction(factor)\n",
    "        batch_true.append(label)\n",
    "        batch_pred.append(prediction)\n",
    "    return np.array(batch_true), np.array(batch_pred)"
   ]
  },
  {
   "cell_type": "code",
   "execution_count": null,
   "metadata": {},
   "outputs": [],
   "source": [
    "batch1_true, batch1_pred = generate_batch(0.25)\n",
    "batch2_true, batch2_pred = generate_batch(0.5)"
   ]
  },
  {
   "cell_type": "code",
   "execution_count": null,
   "metadata": {},
   "outputs": [],
   "source": [
    "# batch 1\n",
    "m = tf.keras.metrics.MeanIoU(num_classes=2)\n",
    "\n",
    "m.update_state(batch1_true, batch1_pred)\n",
    "m.result()"
   ]
  },
  {
   "cell_type": "code",
   "execution_count": null,
   "metadata": {},
   "outputs": [],
   "source": [
    "# batch 1 update per example\n",
    "m = tf.keras.metrics.MeanIoU(num_classes=2)\n",
    "\n",
    "m.update_state(batch1_true[0], batch1_pred[0])\n",
    "m.update_state(batch1_true[1], batch1_pred[1])\n",
    "m.update_state(batch1_true[2], batch1_pred[2])\n",
    "m.result()"
   ]
  },
  {
   "cell_type": "code",
   "execution_count": null,
   "metadata": {},
   "outputs": [],
   "source": [
    "# batch 2\n",
    "m = tf.keras.metrics.MeanIoU(num_classes=2)\n",
    "\n",
    "m.update_state(batch2_true, batch2_pred)\n",
    "m.result()"
   ]
  },
  {
   "cell_type": "code",
   "execution_count": null,
   "metadata": {},
   "outputs": [],
   "source": [
    "# mix batch 1 & 2\n",
    "m = tf.keras.metrics.MeanIoU(num_classes=2)\n",
    "\n",
    "for i in range(len(batch1_pred)):\n",
    "    m.update_state(batch1_true[i], batch1_pred[i])\n",
    "for i in range(3):\n",
    "    m.update_state(batch2_true[i], batch2_pred[i])\n",
    "m.result()"
   ]
  },
  {
   "cell_type": "code",
   "execution_count": null,
   "metadata": {},
   "outputs": [],
   "source": []
  },
  {
   "cell_type": "code",
   "execution_count": null,
   "metadata": {},
   "outputs": [],
   "source": []
  },
  {
   "cell_type": "code",
   "execution_count": null,
   "metadata": {},
   "outputs": [],
   "source": []
  },
  {
   "cell_type": "code",
   "execution_count": null,
   "metadata": {},
   "outputs": [],
   "source": []
  },
  {
   "cell_type": "code",
   "execution_count": null,
   "metadata": {},
   "outputs": [],
   "source": []
  },
  {
   "cell_type": "code",
   "execution_count": null,
   "metadata": {},
   "outputs": [],
   "source": []
  },
  {
   "cell_type": "code",
   "execution_count": null,
   "metadata": {},
   "outputs": [],
   "source": []
  }
 ],
 "metadata": {
  "kernelspec": {
   "display_name": "computer_vision",
   "language": "python",
   "name": "computer_vision"
  },
  "language_info": {
   "codemirror_mode": {
    "name": "ipython",
    "version": 3
   },
   "file_extension": ".py",
   "mimetype": "text/x-python",
   "name": "python",
   "nbconvert_exporter": "python",
   "pygments_lexer": "ipython3",
   "version": "3.6.7"
  }
 },
 "nbformat": 4,
 "nbformat_minor": 2
}
