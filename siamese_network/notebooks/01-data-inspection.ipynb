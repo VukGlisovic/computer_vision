{
 "cells": [
  {
   "cell_type": "code",
   "execution_count": null,
   "id": "governing-vitamin",
   "metadata": {},
   "outputs": [],
   "source": [
    "import numpy as np\n",
    "import matplotlib.pyplot as plt\n",
    "import tensorflow as tf\n",
    "from tensorflow.keras.applications import resnet\n",
    "from glob import glob\n",
    "\n",
    "from siamese_network.data_pipeline.input_dataset import *\n",
    "from siamese_network.model import embedding\n",
    "from siamese_network.model import siamese_model"
   ]
  },
  {
   "cell_type": "code",
   "execution_count": null,
   "id": "unavailable-artwork",
   "metadata": {},
   "outputs": [],
   "source": [
    "# get list of paths to anchor and positive images\n",
    "anchor_images = glob(\"../data/left/*\")\n",
    "positive_images = glob(\"../data/right/*\")\n",
    "len(anchor_images), len(positive_images)"
   ]
  },
  {
   "cell_type": "markdown",
   "id": "warming-colorado",
   "metadata": {},
   "source": [
    "# Plot random pairs of anchor and positive images"
   ]
  },
  {
   "cell_type": "code",
   "execution_count": null,
   "id": "informal-store",
   "metadata": {},
   "outputs": [],
   "source": [
    "n_pairs = 5\n",
    "fig, axes = plt.subplots(n_pairs, 2, figsize=(8, 5*n_pairs))\n",
    "fig.tight_layout(w_pad=1)\n",
    "\n",
    "for i in range(n_pairs):\n",
    "    ax_left, ax_right = axes[i]\n",
    "    idx = np.random.randint(len(anchor_images))\n",
    "    ax_left.imshow(load_image(anchor_images[idx]))\n",
    "    ax_right.imshow(load_image(positive_images[idx]))"
   ]
  },
  {
   "cell_type": "markdown",
   "id": "assumed-basic",
   "metadata": {},
   "source": [
    "# Visualize triplets; anchor, positive and negative"
   ]
  },
  {
   "cell_type": "code",
   "execution_count": null,
   "id": "certain-robinson",
   "metadata": {},
   "outputs": [],
   "source": [
    "batch_size = 32\n",
    "ds_train, ds_validation = create_triplet_dataset(anchor_images, positive_images, batch_size=batch_size)"
   ]
  },
  {
   "cell_type": "code",
   "execution_count": null,
   "id": "assured-alexander",
   "metadata": {},
   "outputs": [],
   "source": [
    "n_triplets = 5\n",
    "\n",
    "batch_sample = list(ds_train.take(np.ceil(n_triplets / batch_size)).as_numpy_iterator())\n",
    "batch_sample = np.concatenate(batch_sample, axis=1)\n",
    "\n",
    "fig, axes = plt.subplots(n_triplets, 3, figsize=(12, 4.4*n_triplets))\n",
    "fig.tight_layout(w_pad=1)\n",
    "\n",
    "for i in range(n_triplets):\n",
    "    ax_anchor, ax_pos, ax_neg = axes[i]\n",
    "    ax_anchor.imshow(batch_sample[0, i])\n",
    "    ax_pos.imshow(batch_sample[1, i])\n",
    "    ax_neg.imshow(batch_sample[2, i])\n",
    "axes[0, 0].set_title(\"Anchor\", fontsize=16)\n",
    "axes[0, 1].set_title(\"Positive\", fontsize=16)\n",
    "axes[0, 2].set_title(\"negative\", fontsize=16);"
   ]
  },
  {
   "cell_type": "markdown",
   "id": "developed-composition",
   "metadata": {},
   "source": [
    "# Checkout model inference"
   ]
  },
  {
   "cell_type": "code",
   "execution_count": null,
   "id": "defensive-freeze",
   "metadata": {},
   "outputs": [],
   "source": [
    "for x in ds_train.take(1):\n",
    "    break"
   ]
  },
  {
   "cell_type": "code",
   "execution_count": null,
   "id": "flexible-drama",
   "metadata": {},
   "outputs": [],
   "source": [
    "# creates embeddings for one batch of images\n",
    "model_rn = embedding.create_embedding_model()\n",
    "\n",
    "model_rn(x[0])"
   ]
  },
  {
   "cell_type": "code",
   "execution_count": null,
   "id": "precise-allergy",
   "metadata": {},
   "outputs": [],
   "source": [
    "# calculates distances for one batch of anchor, positive and negative triplets\n",
    "model_siamese = siamese_model.create_siamese_model()\n",
    "\n",
    "model_siamese(x)"
   ]
  },
  {
   "cell_type": "code",
   "execution_count": null,
   "id": "confidential-guide",
   "metadata": {},
   "outputs": [],
   "source": [
    "# implements the train and test step to use during training\n",
    "model_training = siamese_model.SiameseModel()\n",
    "\n",
    "model_training(x)"
   ]
  },
  {
   "cell_type": "code",
   "execution_count": null,
   "id": "electrical-melbourne",
   "metadata": {},
   "outputs": [],
   "source": [
    "# produces one loss value\n",
    "model_training.test_step(x)"
   ]
  },
  {
   "cell_type": "code",
   "execution_count": null,
   "id": "prerequisite-connectivity",
   "metadata": {},
   "outputs": [],
   "source": []
  },
  {
   "cell_type": "code",
   "execution_count": null,
   "id": "latin-marking",
   "metadata": {},
   "outputs": [],
   "source": []
  }
 ],
 "metadata": {
  "kernelspec": {
   "display_name": "computer_vision",
   "language": "python",
   "name": "computer_vision"
  },
  "language_info": {
   "codemirror_mode": {
    "name": "ipython",
    "version": 3
   },
   "file_extension": ".py",
   "mimetype": "text/x-python",
   "name": "python",
   "nbconvert_exporter": "python",
   "pygments_lexer": "ipython3",
   "version": "3.6.13"
  }
 },
 "nbformat": 4,
 "nbformat_minor": 5
}
