{
 "cells": [
  {
   "cell_type": "code",
   "execution_count": null,
   "id": "above-lightning",
   "metadata": {},
   "outputs": [],
   "source": [
    "%load_ext autoreload\n",
    "%autoreload 2"
   ]
  },
  {
   "cell_type": "code",
   "execution_count": null,
   "id": "explicit-relaxation",
   "metadata": {},
   "outputs": [],
   "source": [
    "import numpy as np\n",
    "import tensorflow as tf\n",
    "import matplotlib.pyplot as plt\n",
    "from matplotlib.patches import Rectangle\n",
    "\n",
    "from blazeface.dataset import input_dataset"
   ]
  },
  {
   "cell_type": "markdown",
   "id": "emotional-leave",
   "metadata": {},
   "source": [
    "# Load data"
   ]
  },
  {
   "cell_type": "code",
   "execution_count": null,
   "id": "latter-memorial",
   "metadata": {},
   "outputs": [],
   "source": [
    "# take small subset of the training set to analyze\n",
    "data_train, info = input_dataset.load_the300w_lp(split=\"train[:10%]\")"
   ]
  },
  {
   "cell_type": "code",
   "execution_count": null,
   "id": "rural-basin",
   "metadata": {},
   "outputs": [],
   "source": [
    "for x in data_train.take(1):\n",
    "    break\n",
    "\n",
    "print(x.keys())"
   ]
  },
  {
   "cell_type": "markdown",
   "id": "informed-tours",
   "metadata": {},
   "source": [
    "# Visualize raw labels"
   ]
  },
  {
   "cell_type": "code",
   "execution_count": null,
   "id": "joined-concept",
   "metadata": {},
   "outputs": [],
   "source": [
    "def visualize_landmarks(sample, ax, landmarks=None):\n",
    "    \"\"\"\n",
    "    Args:\n",
    "        sample (dict): must contain keys 'image' and 'landmarks_2d'.\n",
    "        ax (AxesSubplot):\n",
    "        landmarks (np.ndarray): if given, it will override 'landmarks_2d' in sample.\n",
    "    \"\"\"\n",
    "    img = sample['image']\n",
    "    if landmarks is None:\n",
    "        landmarks = sample['landmarks_2d'].numpy()\n",
    "    shape = tf.shape(img).numpy()\n",
    "    ax.scatter(landmarks[:,0] * shape[0], landmarks[:,1] * shape[1], alpha=0.6, s=2, c='red');"
   ]
  },
  {
   "cell_type": "code",
   "execution_count": null,
   "id": "chief-family",
   "metadata": {},
   "outputs": [],
   "source": [
    "n_rows = 5\n",
    "n_cols = 5\n",
    "fig, axes = plt.subplots(n_rows, n_cols, figsize=(15, 15))\n",
    "axes = np.ravel(axes)\n",
    "\n",
    "for i, x in enumerate(data_train.take(n_rows * n_cols)):\n",
    "    ax = axes[i]\n",
    "    ax.imshow(x['image'])\n",
    "    visualize_landmarks(x, ax)"
   ]
  },
  {
   "cell_type": "markdown",
   "id": "incident-tolerance",
   "metadata": {},
   "source": [
    "# Visualize preprocessed data (inputs to BlazeFace)"
   ]
  },
  {
   "cell_type": "code",
   "execution_count": null,
   "id": "theoretical-cattle",
   "metadata": {},
   "outputs": [],
   "source": [
    "def visualize_bbox(sample, ax):\n",
    "    img = sample['image']\n",
    "    shape = tf.shape(img).numpy()\n",
    "    x1, y1, x2, y2 = input_dataset.landmarks_to_bboxes(x['landmarks_2d']).numpy()\n",
    "    x1 *= shape[1]\n",
    "    y1 *= shape[0]\n",
    "    x2 *= shape[1]\n",
    "    y2 *= shape[0]\n",
    "    rect = Rectangle((x1, y1), x2 - x1, y2 - y1, fc=\"None\", ec='green')\n",
    "    ax.add_patch(rect)"
   ]
  },
  {
   "cell_type": "code",
   "execution_count": null,
   "id": "silver-parish",
   "metadata": {},
   "outputs": [],
   "source": [
    "n_rows = 5\n",
    "n_cols = 5\n",
    "fig, axes = plt.subplots(n_rows, n_cols, figsize=(15, 15))\n",
    "axes = np.ravel(axes)\n",
    "\n",
    "for i, x in enumerate(data_train.take(n_rows * n_cols)):\n",
    "    ax = axes[i]\n",
    "    ax.imshow(x['image'])\n",
    "    # visualize bbox\n",
    "    visualize_bbox(x, ax)\n",
    "    # visualize landmarks\n",
    "    landmarks_2d = input_dataset.reduce_landmarks(x['landmarks_2d']).numpy()\n",
    "    visualize_landmarks(x, ax, landmarks=landmarks_2d)"
   ]
  },
  {
   "cell_type": "markdown",
   "id": "sized-student",
   "metadata": {},
   "source": [
    "# Create input dataset"
   ]
  },
  {
   "cell_type": "code",
   "execution_count": null,
   "id": "olive-accordance",
   "metadata": {},
   "outputs": [],
   "source": [
    "    img = image_data[\"image\"]\n",
    "    img = tf.image.convert_image_dtype(img, tf.float32)\n",
    "    gt_landmarks = tf.expand_dims(image_data[\"landmarks_2d\"], 0)\n",
    "    gt_boxes = generate_bboxes_from_landmarks(gt_landmarks)\n",
    "    gt_landmarks = filter_landmarks(gt_landmarks)\n",
    "    img = tf.image.resize(img, (final_height, final_width))\n",
    "    if augmentation_fn:\n",
    "        img, gt_boxes, gt_landmarks = augmentation_fn(img, gt_boxes, gt_landmarks)\n",
    "    img = (img - 0.5) / 0.5\n",
    "    return img, gt_boxes, gt_landmarks"
   ]
  },
  {
   "cell_type": "code",
   "execution_count": null,
   "id": "diverse-requirement",
   "metadata": {},
   "outputs": [],
   "source": [
    "def unpack_dct(dct):\n",
    "    return dct['image'], dct['landmarks_2d']\n",
    "\n",
    "\n",
    "def preprocess_image(img, landmarks):\n",
    "    img = tf.image.convert_image_dtype(img, tf.float32)\n",
    "    img = tf.image.resize(img, (128, 128), preserve_aspect_ratio=True)\n",
    "    return img, landmarks"
   ]
  },
  {
   "cell_type": "code",
   "execution_count": null,
   "id": "secondary-budapest",
   "metadata": {},
   "outputs": [],
   "source": [
    "ds = data_train\n",
    "ds = ds.map(unpack_dct)\n",
    "ds = ds.map(preprocess_image)\n",
    "ds = ds.map(lambda img, lmarks: (img, input_dataset.landmarks_to_bboxes(lmarks), input_dataset.reduce_landmarks(lmarks)))\n",
    "\n",
    "ds = ds.batch(8)"
   ]
  },
  {
   "cell_type": "code",
   "execution_count": null,
   "id": "valued-reason",
   "metadata": {},
   "outputs": [],
   "source": [
    "for temp in ds.take(1):\n",
    "    break\n",
    "\n",
    "[element.shape for element in temp]"
   ]
  },
  {
   "cell_type": "code",
   "execution_count": null,
   "id": "robust-macintosh",
   "metadata": {},
   "outputs": [],
   "source": []
  },
  {
   "cell_type": "code",
   "execution_count": null,
   "id": "curious-sharp",
   "metadata": {},
   "outputs": [],
   "source": []
  }
 ],
 "metadata": {
  "kernelspec": {
   "display_name": "blazeface",
   "language": "python",
   "name": "blazeface"
  },
  "language_info": {
   "codemirror_mode": {
    "name": "ipython",
    "version": 3
   },
   "file_extension": ".py",
   "mimetype": "text/x-python",
   "name": "python",
   "nbconvert_exporter": "python",
   "pygments_lexer": "ipython3",
   "version": "3.8.13"
  }
 },
 "nbformat": 4,
 "nbformat_minor": 5
}
