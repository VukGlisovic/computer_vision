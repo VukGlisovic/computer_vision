{
 "cells": [
  {
   "cell_type": "code",
   "execution_count": null,
   "id": "supreme-correlation",
   "metadata": {},
   "outputs": [],
   "source": [
    "%load_ext autoreload\n",
    "%autoreload 2"
   ]
  },
  {
   "cell_type": "code",
   "execution_count": null,
   "id": "upset-welding",
   "metadata": {},
   "outputs": [],
   "source": [
    "import numpy as np\n",
    "import tensorflow as tf\n",
    "import matplotlib.pyplot as plt\n",
    "from matplotlib.patches import Rectangle\n",
    "\n",
    "from blazeface.dataset import input_dataset"
   ]
  },
  {
   "cell_type": "markdown",
   "id": "standing-madonna",
   "metadata": {},
   "source": [
    "# Load data"
   ]
  },
  {
   "cell_type": "code",
   "execution_count": null,
   "id": "southwest-tunisia",
   "metadata": {},
   "outputs": [],
   "source": [
    "# take small subset of the training set to analyze\n",
    "data_train, info = input_dataset.load_the300w_lp(split=\"train[:10%]\")"
   ]
  },
  {
   "cell_type": "code",
   "execution_count": null,
   "id": "indie-default",
   "metadata": {},
   "outputs": [],
   "source": [
    "for x in data_train.take(1):\n",
    "    break\n",
    "\n",
    "print(x.keys())"
   ]
  },
  {
   "cell_type": "markdown",
   "id": "ecological-chapel",
   "metadata": {},
   "source": [
    "# Visualize raw labels"
   ]
  },
  {
   "cell_type": "code",
   "execution_count": null,
   "id": "institutional-knitting",
   "metadata": {},
   "outputs": [],
   "source": [
    "def visualize_landmarks(sample, ax, landmarks=None):\n",
    "    \"\"\"\n",
    "    Args:\n",
    "        sample (dict): must contain keys 'image' and 'landmarks_2d'.\n",
    "        ax (AxesSubplot):\n",
    "        landmarks (np.ndarray): if given, it will override 'landmarks_2d' in sample.\n",
    "    \"\"\"\n",
    "    img = sample['image']\n",
    "    if landmarks is None:\n",
    "        landmarks = sample['landmarks_2d'].numpy()\n",
    "    shape = tf.shape(img).numpy()\n",
    "    ax.scatter(landmarks[:,0] * shape[0], landmarks[:,1] * shape[1], alpha=0.6, s=2, c='red');"
   ]
  },
  {
   "cell_type": "code",
   "execution_count": null,
   "id": "material-content",
   "metadata": {},
   "outputs": [],
   "source": [
    "n_rows = 5\n",
    "n_cols = 5\n",
    "fig, axes = plt.subplots(n_rows, n_cols, figsize=(15, 15))\n",
    "axes = np.ravel(axes)\n",
    "\n",
    "for i, x in enumerate(data_train.take(n_rows * n_cols)):\n",
    "    ax = axes[i]\n",
    "    ax.imshow(x['image'])\n",
    "    visualize_landmarks(x, ax)"
   ]
  },
  {
   "cell_type": "markdown",
   "id": "funky-treasure",
   "metadata": {},
   "source": [
    "# Visualize preprocessed data (inputs to BlazeFace)"
   ]
  },
  {
   "cell_type": "code",
   "execution_count": null,
   "id": "numerous-configuration",
   "metadata": {},
   "outputs": [],
   "source": [
    "def visualize_bbox(sample, ax):\n",
    "    img = sample['image']\n",
    "    shape = tf.shape(img).numpy()\n",
    "    x1, y1, x2, y2 = input_dataset.landmarks_to_bboxes(x['landmarks_2d']).numpy()\n",
    "    x1 *= shape[1]\n",
    "    y1 *= shape[0]\n",
    "    x2 *= shape[1]\n",
    "    y2 *= shape[0]\n",
    "    rect = Rectangle((x1, y1), x2 - x1, y2 - y1, fc=\"None\", ec='green')\n",
    "    ax.add_patch(rect)"
   ]
  },
  {
   "cell_type": "code",
   "execution_count": null,
   "id": "still-scotland",
   "metadata": {},
   "outputs": [],
   "source": [
    "n_rows = 5\n",
    "n_cols = 5\n",
    "fig, axes = plt.subplots(n_rows, n_cols, figsize=(15, 15))\n",
    "axes = np.ravel(axes)\n",
    "\n",
    "for i, x in enumerate(data_train.take(n_rows * n_cols)):\n",
    "    ax = axes[i]\n",
    "    ax.imshow(x['image'])\n",
    "    # visualize bbox\n",
    "    visualize_bbox(x, ax)\n",
    "    # visualize landmarks\n",
    "    landmarks_2d = input_dataset.reduce_landmarks(x['landmarks_2d']).numpy()\n",
    "    visualize_landmarks(x, ax, landmarks=landmarks_2d)"
   ]
  },
  {
   "cell_type": "code",
   "execution_count": null,
   "id": "artistic-austin",
   "metadata": {},
   "outputs": [],
   "source": []
  },
  {
   "cell_type": "code",
   "execution_count": null,
   "id": "comic-conservation",
   "metadata": {},
   "outputs": [],
   "source": []
  }
 ],
 "metadata": {
  "kernelspec": {
   "display_name": "blazeface",
   "language": "python",
   "name": "blazeface"
  },
  "language_info": {
   "codemirror_mode": {
    "name": "ipython",
    "version": 3
   },
   "file_extension": ".py",
   "mimetype": "text/x-python",
   "name": "python",
   "nbconvert_exporter": "python",
   "pygments_lexer": "ipython3",
   "version": "3.8.13"
  }
 },
 "nbformat": 4,
 "nbformat_minor": 5
}
