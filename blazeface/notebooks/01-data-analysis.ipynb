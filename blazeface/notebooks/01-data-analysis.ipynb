{
 "cells": [
  {
   "cell_type": "code",
   "execution_count": null,
   "id": "overhead-bacteria",
   "metadata": {},
   "outputs": [],
   "source": [
    "%load_ext autoreload\n",
    "%autoreload 2"
   ]
  },
  {
   "cell_type": "code",
   "execution_count": null,
   "id": "alternate-winter",
   "metadata": {},
   "outputs": [],
   "source": [
    "import tensorflow as tf\n",
    "import matplotlib.pyplot as plt\n",
    "\n",
    "from blazeface.dataset import input_dataset"
   ]
  },
  {
   "cell_type": "code",
   "execution_count": null,
   "id": "julian-expansion",
   "metadata": {},
   "outputs": [],
   "source": [
    "data_train, info = input_dataset.load_the300w_lp()"
   ]
  },
  {
   "cell_type": "code",
   "execution_count": null,
   "id": "proprietary-chair",
   "metadata": {},
   "outputs": [],
   "source": [
    "for x in data_train.take(1):\n",
    "    break"
   ]
  },
  {
   "cell_type": "code",
   "execution_count": null,
   "id": "stuffed-closure",
   "metadata": {},
   "outputs": [],
   "source": [
    "plt.imshow(x['image']);"
   ]
  },
  {
   "cell_type": "code",
   "execution_count": null,
   "id": "departmental-piece",
   "metadata": {},
   "outputs": [],
   "source": []
  },
  {
   "cell_type": "code",
   "execution_count": null,
   "id": "educational-jackson",
   "metadata": {},
   "outputs": [],
   "source": []
  }
 ],
 "metadata": {
  "kernelspec": {
   "display_name": "blazeface",
   "language": "python",
   "name": "blazeface"
  },
  "language_info": {
   "codemirror_mode": {
    "name": "ipython",
    "version": 3
   },
   "file_extension": ".py",
   "mimetype": "text/x-python",
   "name": "python",
   "nbconvert_exporter": "python",
   "pygments_lexer": "ipython3",
   "version": "3.8.13"
  }
 },
 "nbformat": 4,
 "nbformat_minor": 5
}
