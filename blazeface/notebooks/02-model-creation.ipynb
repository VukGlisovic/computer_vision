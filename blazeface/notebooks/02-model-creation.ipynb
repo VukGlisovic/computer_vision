{
 "cells": [
  {
   "cell_type": "code",
   "execution_count": null,
   "id": "widespread-universe",
   "metadata": {},
   "outputs": [],
   "source": [
    "%load_ext autoreload\n",
    "%autoreload 2"
   ]
  },
  {
   "cell_type": "code",
   "execution_count": null,
   "id": "sorted-remains",
   "metadata": {},
   "outputs": [],
   "source": [
    "import tensorflow as tf\n",
    "\n",
    "from blazeface.model import custom_blocks\n",
    "from blazeface.model import blazeface"
   ]
  },
  {
   "cell_type": "markdown",
   "id": "hungarian-integral",
   "metadata": {},
   "source": [
    "### BlazeBlock"
   ]
  },
  {
   "cell_type": "code",
   "execution_count": null,
   "id": "political-savage",
   "metadata": {},
   "outputs": [],
   "source": [
    "blaze_block = custom_blocks.BlazeBlock(2, 16)"
   ]
  },
  {
   "cell_type": "code",
   "execution_count": null,
   "id": "illegal-repeat",
   "metadata": {},
   "outputs": [],
   "source": [
    "input_shape = (2, 64, 64, 32)\n",
    "blaze_block(tf.random.normal(shape=input_shape)).shape"
   ]
  },
  {
   "cell_type": "markdown",
   "id": "greenhouse-valuation",
   "metadata": {},
   "source": [
    "### DoubleBlazeBlock"
   ]
  },
  {
   "cell_type": "code",
   "execution_count": null,
   "id": "excellent-nylon",
   "metadata": {},
   "outputs": [],
   "source": [
    "double_blaze_block = custom_blocks.DoubleBlazeBlock(2, 32, 16)"
   ]
  },
  {
   "cell_type": "code",
   "execution_count": null,
   "id": "prerequisite-finder",
   "metadata": {},
   "outputs": [],
   "source": [
    "input_shape = (2, 64, 64, 32)\n",
    "double_blaze_block(tf.random.normal(shape=input_shape)).shape"
   ]
  },
  {
   "cell_type": "markdown",
   "id": "radical-partnership",
   "metadata": {},
   "source": [
    "# BlazeFace model"
   ]
  },
  {
   "cell_type": "code",
   "execution_count": null,
   "id": "encouraging-challenge",
   "metadata": {},
   "outputs": [],
   "source": [
    "model = blazeface.BlazeFaceModel()"
   ]
  },
  {
   "cell_type": "code",
   "execution_count": null,
   "id": "anticipated-nancy",
   "metadata": {},
   "outputs": [],
   "source": [
    "input_shape = (4, 128, 128, 3)\n",
    "temp = model(tf.random.normal(shape=input_shape))"
   ]
  },
  {
   "cell_type": "code",
   "execution_count": null,
   "id": "assumed-stockholm",
   "metadata": {},
   "outputs": [],
   "source": [
    "[t.shape for t in temp]"
   ]
  },
  {
   "cell_type": "code",
   "execution_count": null,
   "id": "external-angel",
   "metadata": {},
   "outputs": [],
   "source": []
  },
  {
   "cell_type": "code",
   "execution_count": null,
   "id": "successful-direction",
   "metadata": {},
   "outputs": [],
   "source": []
  }
 ],
 "metadata": {
  "kernelspec": {
   "display_name": "blazeface",
   "language": "python",
   "name": "blazeface"
  },
  "language_info": {
   "codemirror_mode": {
    "name": "ipython",
    "version": 3
   },
   "file_extension": ".py",
   "mimetype": "text/x-python",
   "name": "python",
   "nbconvert_exporter": "python",
   "pygments_lexer": "ipython3",
   "version": "3.8.13"
  }
 },
 "nbformat": 4,
 "nbformat_minor": 5
}
