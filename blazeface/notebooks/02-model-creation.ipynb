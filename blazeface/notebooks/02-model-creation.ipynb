{
 "cells": [
  {
   "cell_type": "code",
   "execution_count": null,
   "id": "mighty-coordinate",
   "metadata": {},
   "outputs": [],
   "source": [
    "%load_ext autoreload\n",
    "%autoreload 2"
   ]
  },
  {
   "cell_type": "code",
   "execution_count": null,
   "id": "august-omega",
   "metadata": {},
   "outputs": [],
   "source": [
    "import tensorflow as tf\n",
    "\n",
    "from blazeface.model import custom_blocks"
   ]
  },
  {
   "cell_type": "markdown",
   "id": "duplicate-investigation",
   "metadata": {},
   "source": [
    "### BlazeBlock"
   ]
  },
  {
   "cell_type": "code",
   "execution_count": null,
   "id": "stretch-slave",
   "metadata": {},
   "outputs": [],
   "source": [
    "blaze_block = custom_blocks.BlazeBlock(2, 16)"
   ]
  },
  {
   "cell_type": "code",
   "execution_count": null,
   "id": "essential-treaty",
   "metadata": {},
   "outputs": [],
   "source": [
    "input_shape = (2, 64, 64, 32)\n",
    "blaze_block(tf.random.normal(shape=input_shape)).shape"
   ]
  },
  {
   "cell_type": "markdown",
   "id": "related-welding",
   "metadata": {},
   "source": [
    "### DoubleBlazeBlock"
   ]
  },
  {
   "cell_type": "code",
   "execution_count": null,
   "id": "genuine-switch",
   "metadata": {},
   "outputs": [],
   "source": [
    "double_blaze_block = custom_blocks.DoubleBlazeBlock(2, 32, 16)"
   ]
  },
  {
   "cell_type": "code",
   "execution_count": null,
   "id": "compact-stuff",
   "metadata": {},
   "outputs": [],
   "source": [
    "input_shape = (2, 64, 64, 32)\n",
    "double_blaze_block(tf.random.normal(shape=input_shape)).shape"
   ]
  },
  {
   "cell_type": "code",
   "execution_count": null,
   "id": "surprising-conversion",
   "metadata": {},
   "outputs": [],
   "source": []
  },
  {
   "cell_type": "code",
   "execution_count": null,
   "id": "raising-dictionary",
   "metadata": {},
   "outputs": [],
   "source": []
  }
 ],
 "metadata": {
  "kernelspec": {
   "display_name": "blazeface",
   "language": "python",
   "name": "blazeface"
  },
  "language_info": {
   "codemirror_mode": {
    "name": "ipython",
    "version": 3
   },
   "file_extension": ".py",
   "mimetype": "text/x-python",
   "name": "python",
   "nbconvert_exporter": "python",
   "pygments_lexer": "ipython3",
   "version": "3.8.13"
  }
 },
 "nbformat": 4,
 "nbformat_minor": 5
}
