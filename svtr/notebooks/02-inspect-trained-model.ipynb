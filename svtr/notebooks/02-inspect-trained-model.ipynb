{
 "cells": [
  {
   "cell_type": "code",
   "execution_count": null,
   "id": "06f08fbd-049b-4628-b34b-ead960c40d6a",
   "metadata": {
    "tags": []
   },
   "outputs": [],
   "source": [
    "%load_ext autoreload\n",
    "%autoreload 2"
   ]
  },
  {
   "cell_type": "code",
   "execution_count": null,
   "id": "b9d75956-587a-4caa-b20b-25f12e95e9d3",
   "metadata": {
    "tags": []
   },
   "outputs": [],
   "source": [
    "import numpy as np\n",
    "import pandas as pd\n",
    "import matplotlib.pyplot as plt\n",
    "from torch.utils.data import DataLoader\n",
    "\n",
    "from svtr.data_pipeline.mnist import ConcatenatedMNISTDataset\n",
    "from svtr.model import utils\n",
    "from svtr.model.ctc_decoder import CTCDecoder\n",
    "from svtr.model.training import evaluate_metrics\n",
    "from svtr.model.ctc_loss import CTCLoss\n",
    "from svtr.model.metrics import NormalizedEditDistance\n",
    "\n",
    "device = 'cpu'"
   ]
  },
  {
   "cell_type": "markdown",
   "id": "23df0ce8-704d-45cf-a4db-42b8335cd826",
   "metadata": {},
   "source": [
    "## Load a batch from the test split"
   ]
  },
  {
   "cell_type": "code",
   "execution_count": null,
   "id": "41e85ced-6a83-478c-afbb-1a4cdfef53d0",
   "metadata": {
    "tags": []
   },
   "outputs": [],
   "source": [
    "test_dataset_5 = ConcatenatedMNISTDataset(num_digits=5, train=False, device=device)\n",
    "test_loader_5 = DataLoader(\n",
    "    dataset=test_dataset_5, \n",
    "    batch_size=8, \n",
    "    shuffle=False\n",
    ")\n",
    "\n",
    "for images, labels in test_loader_5:\n",
    "    break "
   ]
  },
  {
   "cell_type": "code",
   "execution_count": null,
   "id": "be2b6f1a-36da-46c5-8379-5fafc3dd8fdd",
   "metadata": {
    "tags": []
   },
   "outputs": [],
   "source": [
    "cols = 2\n",
    "rows = images.shape[0] // cols\n",
    "fig, axes = plt.subplots(rows, cols, figsize=(10, 6))\n",
    "\n",
    "axes = np.ravel(axes)\n",
    "for i in range(len(axes)):\n",
    "    ax = axes[i]\n",
    "    ax.imshow(images[i,0])\n",
    "    ax.set_title(labels[i].numpy());"
   ]
  },
  {
   "cell_type": "markdown",
   "id": "feadeeac-8d26-4a1f-81b1-90c65f9b088c",
   "metadata": {},
   "source": [
    "## Plot the metrics for the trained model"
   ]
  },
  {
   "cell_type": "code",
   "execution_count": null,
   "id": "5a8cdc55-569e-4da2-9d6e-f00d87fcb836",
   "metadata": {
    "tags": []
   },
   "outputs": [],
   "source": [
    "df_metrics = pd.read_csv('../experiments/svtr_small/metrics.csv')\n",
    "metrics = ['loss', 'ned', 'acc', 'lr']\n",
    "\n",
    "fig, axes = plt.subplots(1, len(metrics), figsize=(15, 3))\n",
    "axes = np.ravel(axes)\n",
    "\n",
    "for i, metric in enumerate(metrics):\n",
    "    ax = axes[i]\n",
    "    ax.set_title(metric, fontsize=14)\n",
    "    if metric == 'lr':\n",
    "        ax.plot(df_metrics[metric], c='black', alpha=0.7, label='lr')\n",
    "    else:\n",
    "        ax.plot(df_metrics[f'train_{metric}'], c='orange', alpha=0.7, label='train')\n",
    "        ax.plot(df_metrics[f'val_{metric}'], c='blue', alpha=0.7, label='val')\n",
    "    ax.grid(ls='--', lw=0.5, c='black', alpha=0.4)\n",
    "    ax.legend()"
   ]
  },
  {
   "cell_type": "code",
   "execution_count": null,
   "id": "77f9e8da-09cc-4ee0-9806-5056654f5ba9",
   "metadata": {
    "tags": []
   },
   "outputs": [],
   "source": [
    "# load the model from a checkpoint\n",
    "svtr = utils.load_model('../experiments/model_small/checkpoints/ckpt_ep07.pth')\n",
    "svtr = svtr.eval()\n",
    "svtr = svtr.to(device)\n",
    "# create corresponding decoder\n",
    "decoder = CTCDecoder(vocab=test_dataset_5.vocab)"
   ]
  },
  {
   "cell_type": "markdown",
   "id": "aa6c8afe-c36c-4b9f-87f0-551330b7bb8a",
   "metadata": {},
   "source": [
    "## Run inference on in domain image width (5 characters)"
   ]
  },
  {
   "cell_type": "code",
   "execution_count": null,
   "id": "38ccab39-dab3-407d-aa34-c3809720b8b7",
   "metadata": {
    "tags": []
   },
   "outputs": [],
   "source": [
    "ctc_loss = CTCLoss(blank=0)\n",
    "normalized_edit_distance = NormalizedEditDistance(decoder)\n",
    "evaluate_metrics(svtr, test_loader_5, ctc_loss, normalized_edit_distance)\n",
    "print(f\"Loss: {ctc_loss.compute():.4f}\")\n",
    "print(f\"ned/acc: {normalized_edit_distance.ned_result():.4f}/{normalized_edit_distance.acc_result()*100:.2f}\")"
   ]
  },
  {
   "cell_type": "code",
   "execution_count": null,
   "id": "b2567788-e2cd-4f76-92f9-c5bf9edbbb20",
   "metadata": {
    "tags": []
   },
   "outputs": [],
   "source": [
    "out = svtr(images)\n",
    "out.shape"
   ]
  },
  {
   "cell_type": "code",
   "execution_count": null,
   "id": "7b1c9c6f-e47f-4e64-a68e-92e209ccd597",
   "metadata": {
    "tags": []
   },
   "outputs": [],
   "source": [
    "transcript_indices, scores = decoder(out, to_text=False)"
   ]
  },
  {
   "cell_type": "code",
   "execution_count": null,
   "id": "4c51c9de-832e-443f-a640-7a97eabcb07b",
   "metadata": {
    "tags": []
   },
   "outputs": [],
   "source": [
    "# check correctness of predictions\n",
    "[list(t) == list(l) for t, l in zip(transcript_indices, labels)]"
   ]
  },
  {
   "cell_type": "code",
   "execution_count": null,
   "id": "5012dc97-dfc8-41d5-b5ed-25e43ca1e118",
   "metadata": {},
   "outputs": [],
   "source": [
    "transcripts, scores = decoder(out, to_text=True)\n",
    "transcripts"
   ]
  },
  {
   "cell_type": "markdown",
   "id": "257dbbda-a253-4426-8a10-c845987a4d7b",
   "metadata": {},
   "source": [
    "## Inference on different input width (10 characters)\n",
    "\n",
    "The normalized edit distance should be the same as with 5 character input widths if the model generalizes well."
   ]
  },
  {
   "cell_type": "code",
   "execution_count": null,
   "id": "ca9cf758-98da-4f82-8835-b82c46431628",
   "metadata": {
    "tags": []
   },
   "outputs": [],
   "source": [
    "test_dataset_10 = ConcatenatedMNISTDataset(num_digits=10, train=False, device=device)\n",
    "test_loader_10 = DataLoader(\n",
    "    dataset=test_dataset_10, \n",
    "    batch_size=8, \n",
    "    shuffle=False\n",
    ")\n",
    "\n",
    "for images, labels in test_loader_10:\n",
    "    break "
   ]
  },
  {
   "cell_type": "code",
   "execution_count": null,
   "id": "553698e7-9d70-4ae0-b357-170a72a2b6b5",
   "metadata": {
    "tags": []
   },
   "outputs": [],
   "source": [
    "cols = 2\n",
    "rows = images.shape[0] // cols\n",
    "fig, axes = plt.subplots(rows, cols, figsize=(15, 6))\n",
    "\n",
    "axes = np.ravel(axes)\n",
    "for i in range(len(axes)):\n",
    "    ax = axes[i]\n",
    "    ax.imshow(images[i,0])\n",
    "    ax.set_title(labels[i].numpy());"
   ]
  },
  {
   "cell_type": "code",
   "execution_count": null,
   "id": "63df10d2-0ef8-4f31-8072-8f651da9660f",
   "metadata": {
    "tags": []
   },
   "outputs": [],
   "source": [
    "ctc_loss = CTCLoss(blank=0)\n",
    "normalized_edit_distance = NormalizedEditDistance(decoder)\n",
    "evaluate_metrics(svtr, test_loader_10, ctc_loss, normalized_edit_distance)\n",
    "print(f\"Loss: {ctc_loss.compute():.4f}\")\n",
    "print(f\"ned/acc: {normalized_edit_distance.ned_result():.4f}/{normalized_edit_distance.acc_result()*100:.2f}\")"
   ]
  },
  {
   "cell_type": "code",
   "execution_count": null,
   "id": "df54320f-f7f4-4f42-9503-eeafa18e4011",
   "metadata": {
    "tags": []
   },
   "outputs": [],
   "source": [
    "out = svtr(images)\n",
    "out.shape"
   ]
  },
  {
   "cell_type": "code",
   "execution_count": null,
   "id": "b1c7c8c7-7ce3-468a-921a-a617b803b1e7",
   "metadata": {
    "tags": []
   },
   "outputs": [],
   "source": [
    "transcript_indices, scores = decoder(out, to_text=False)"
   ]
  },
  {
   "cell_type": "code",
   "execution_count": null,
   "id": "8e41d2f2-1a7b-4605-aa7a-709b3e8b24e6",
   "metadata": {
    "tags": []
   },
   "outputs": [],
   "source": [
    "# check correctness of predictions\n",
    "[list(t) == list(l) for t, l in zip(transcript_indices, labels)]"
   ]
  },
  {
   "cell_type": "code",
   "execution_count": null,
   "id": "afdf6378-d45b-4505-8a3e-e5fe4b992858",
   "metadata": {},
   "outputs": [],
   "source": [
    "transcripts, scores = decoder(out, to_text=True)\n",
    "transcripts"
   ]
  },
  {
   "cell_type": "markdown",
   "id": "c2bf28d5-d505-488e-a843-e19f0064d22d",
   "metadata": {},
   "source": [
    "## Optionally evaluate CRNN"
   ]
  },
  {
   "cell_type": "code",
   "execution_count": null,
   "id": "a189233c-0c0a-4d9f-89e7-5fb16ef9039d",
   "metadata": {
    "tags": []
   },
   "outputs": [],
   "source": [
    "crnn = utils.load_model('../experiments/model_crnn/checkpoints/ckpt_ep07.pth')\n",
    "crnn = crnn.eval()\n",
    "crnn = crnn.to(device)"
   ]
  },
  {
   "cell_type": "code",
   "execution_count": null,
   "id": "a3d2db5f-7554-4245-9d3c-66a2f40e4286",
   "metadata": {
    "tags": []
   },
   "outputs": [],
   "source": [
    "ctc_loss = CTCLoss(blank=0)\n",
    "normalized_edit_distance = NormalizedEditDistance(decoder)\n",
    "evaluate_metrics(crnn, test_loader_10, ctc_loss, normalized_edit_distance)\n",
    "print(f\"Loss: {ctc_loss.compute():.4f}\")\n",
    "print(f\"ned/acc: {normalized_edit_distance.ned_result():.4f}/{normalized_edit_distance.acc_result()*100:.2f}\")"
   ]
  },
  {
   "cell_type": "code",
   "execution_count": null,
   "id": "64c35193-4575-4359-8161-ab26a192937b",
   "metadata": {},
   "outputs": [],
   "source": []
  },
  {
   "cell_type": "code",
   "execution_count": null,
   "id": "01b9cb9d-7a85-4f77-b646-09b7d358172c",
   "metadata": {},
   "outputs": [],
   "source": []
  }
 ],
 "metadata": {
  "kernelspec": {
   "display_name": "svtr",
   "language": "python",
   "name": "svtr"
  },
  "language_info": {
   "codemirror_mode": {
    "name": "ipython",
    "version": 3
   },
   "file_extension": ".py",
   "mimetype": "text/x-python",
   "name": "python",
   "nbconvert_exporter": "python",
   "pygments_lexer": "ipython3",
   "version": "3.10.13"
  }
 },
 "nbformat": 4,
 "nbformat_minor": 5
}
