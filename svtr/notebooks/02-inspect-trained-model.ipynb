{
 "cells": [
  {
   "cell_type": "code",
   "execution_count": null,
   "id": "06f08fbd-049b-4628-b34b-ead960c40d6a",
   "metadata": {
    "tags": []
   },
   "outputs": [],
   "source": [
    "%load_ext autoreload\n",
    "%autoreload 2"
   ]
  },
  {
   "cell_type": "code",
   "execution_count": null,
   "id": "b9d75956-587a-4caa-b20b-25f12e95e9d3",
   "metadata": {
    "tags": []
   },
   "outputs": [],
   "source": [
    "import numpy as np\n",
    "import pandas as pd\n",
    "import matplotlib.pyplot as plt\n",
    "from torch.utils.data import DataLoader\n",
    "\n",
    "from svtr.data_pipeline.mnist import ConcatenatedMNISTDataset\n",
    "from svtr.model import model\n",
    "from svtr.model.ctc_decoder import CTCDecoder\n",
    "\n",
    "device = 'cpu'"
   ]
  },
  {
   "cell_type": "markdown",
   "id": "23df0ce8-704d-45cf-a4db-42b8335cd826",
   "metadata": {},
   "source": [
    "## Load a batch from the test split"
   ]
  },
  {
   "cell_type": "code",
   "execution_count": null,
   "id": "41e85ced-6a83-478c-afbb-1a4cdfef53d0",
   "metadata": {
    "tags": []
   },
   "outputs": [],
   "source": [
    "test_dataset = ConcatenatedMNISTDataset(num_digits=5, train=False, device=device)\n",
    "test_loader = DataLoader(\n",
    "    dataset=test_dataset, \n",
    "    batch_size=8, \n",
    "    shuffle=False\n",
    ")\n",
    "\n",
    "for images, labels in test_loader:\n",
    "    break "
   ]
  },
  {
   "cell_type": "code",
   "execution_count": null,
   "id": "be2b6f1a-36da-46c5-8379-5fafc3dd8fdd",
   "metadata": {
    "tags": []
   },
   "outputs": [],
   "source": [
    "cols = 2\n",
    "rows = images.shape[0] // cols\n",
    "fig, axes = plt.subplots(rows, cols, figsize=(10, 6))\n",
    "\n",
    "axes = np.ravel(axes)\n",
    "for i in range(len(axes)):\n",
    "    ax = axes[i]\n",
    "    ax.imshow(images[i,0])\n",
    "    ax.set_title(labels[i].numpy());"
   ]
  },
  {
   "cell_type": "markdown",
   "id": "feadeeac-8d26-4a1f-81b1-90c65f9b088c",
   "metadata": {},
   "source": [
    "## plot the metrics for the trained model"
   ]
  },
  {
   "cell_type": "code",
   "execution_count": null,
   "id": "5a8cdc55-569e-4da2-9d6e-f00d87fcb836",
   "metadata": {
    "tags": []
   },
   "outputs": [],
   "source": [
    "df_metrics = pd.read_csv('../experiments/svtr_tiny/metrics.csv')\n",
    "metrics = ['loss', 'ned', 'acc', 'lr']\n",
    "\n",
    "fig, axes = plt.subplots(1, len(metrics), figsize=(15, 3))\n",
    "axes = np.ravel(axes)\n",
    "\n",
    "for i, metric in enumerate(metrics):\n",
    "    ax = axes[i]\n",
    "    ax.set_title(metric, fontsize=14)\n",
    "    if metric == 'lr':\n",
    "        ax.plot(df_metrics[metric], c='black', alpha=0.7, label='lr')\n",
    "    else:\n",
    "        ax.plot(df_metrics[f'train_{metric}'], c='orange', alpha=0.7, label='train')\n",
    "        ax.plot(df_metrics[f'val_{metric}'], c='blue', alpha=0.7, label='val')\n",
    "    ax.grid(ls='--', lw=0.5, c='black', alpha=0.4)\n",
    "    ax.legend()"
   ]
  },
  {
   "cell_type": "markdown",
   "id": "aa6c8afe-c36c-4b9f-87f0-551330b7bb8a",
   "metadata": {},
   "source": [
    "## Run inference"
   ]
  },
  {
   "cell_type": "code",
   "execution_count": null,
   "id": "77f9e8da-09cc-4ee0-9806-5056654f5ba9",
   "metadata": {
    "tags": []
   },
   "outputs": [],
   "source": [
    "# load the model from a checkpoint\n",
    "svtr = model.load_model('../experiments/svtr_tiny/checkpoints/svtr_ep04.pth')\n",
    "svtr = svtr.eval()\n",
    "svtr = svtr.to(device)\n",
    "# create corresponding decoder\n",
    "decoder = CTCDecoder(vocab=test_dataset.vocab)"
   ]
  },
  {
   "cell_type": "code",
   "execution_count": null,
   "id": "b2567788-e2cd-4f76-92f9-c5bf9edbbb20",
   "metadata": {
    "tags": []
   },
   "outputs": [],
   "source": [
    "out = svtr(images)\n",
    "out.shape"
   ]
  },
  {
   "cell_type": "code",
   "execution_count": null,
   "id": "7b1c9c6f-e47f-4e64-a68e-92e209ccd597",
   "metadata": {
    "tags": []
   },
   "outputs": [],
   "source": [
    "transcript_indices, scores = decoder(out, to_text=False)"
   ]
  },
  {
   "cell_type": "code",
   "execution_count": null,
   "id": "4c51c9de-832e-443f-a640-7a97eabcb07b",
   "metadata": {
    "tags": []
   },
   "outputs": [],
   "source": [
    "# check correctness of predictions\n",
    "np.array(transcript_indices) == labels.numpy()"
   ]
  },
  {
   "cell_type": "code",
   "execution_count": null,
   "id": "5012dc97-dfc8-41d5-b5ed-25e43ca1e118",
   "metadata": {},
   "outputs": [],
   "source": [
    "transcripts, scores = decoder(out, to_text=True)\n",
    "transcripts"
   ]
  },
  {
   "cell_type": "code",
   "execution_count": null,
   "id": "058ae99c-67a4-446d-8edc-3382ae0971a8",
   "metadata": {},
   "outputs": [],
   "source": []
  },
  {
   "cell_type": "code",
   "execution_count": null,
   "id": "1f343c9d-7b0d-49cd-aa17-fbe2d84cba30",
   "metadata": {},
   "outputs": [],
   "source": []
  }
 ],
 "metadata": {
  "kernelspec": {
   "display_name": "svtr",
   "language": "python",
   "name": "svtr"
  },
  "language_info": {
   "codemirror_mode": {
    "name": "ipython",
    "version": 3
   },
   "file_extension": ".py",
   "mimetype": "text/x-python",
   "name": "python",
   "nbconvert_exporter": "python",
   "pygments_lexer": "ipython3",
   "version": "3.10.13"
  }
 },
 "nbformat": 4,
 "nbformat_minor": 5
}
