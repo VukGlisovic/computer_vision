{
 "cells": [
  {
   "cell_type": "code",
   "execution_count": null,
   "id": "a67e7260-13ea-498e-9dea-a6b208dbbc03",
   "metadata": {
    "tags": []
   },
   "outputs": [],
   "source": [
    "%load_ext autoreload\n",
    "%autoreload 2"
   ]
  },
  {
   "cell_type": "code",
   "execution_count": null,
   "id": "77ba96e2-b19f-4e77-b052-9e131ad7cee4",
   "metadata": {
    "tags": []
   },
   "outputs": [],
   "source": [
    "import torch\n",
    "import matplotlib.pyplot as plt\n",
    "\n",
    "from svtr.model import custom_layers, custom_blocks\n",
    "from svtr.model import model"
   ]
  },
  {
   "cell_type": "markdown",
   "id": "b730c367-8312-4080-9b7a-3cfb7e1f8666",
   "metadata": {},
   "source": [
    "### Create some dummy data"
   ]
  },
  {
   "cell_type": "code",
   "execution_count": null,
   "id": "b0ba34d5-4823-4aa8-be05-dfe51d451cda",
   "metadata": {
    "tags": []
   },
   "outputs": [],
   "source": [
    "img_shape = (3, 32, 200)  # channels first\n",
    "image_batch = torch.rand(size=(5, *img_shape))\n",
    "plt.imshow(image_batch[0].permute(1, 2, 0));"
   ]
  },
  {
   "cell_type": "markdown",
   "id": "4da8bee6-989e-4e88-be0d-95471012c378",
   "metadata": {},
   "source": [
    "### Test individual components of the model"
   ]
  },
  {
   "cell_type": "code",
   "execution_count": null,
   "id": "f3207b32-76e8-4956-a68e-86b5b6f6b55c",
   "metadata": {
    "tags": []
   },
   "outputs": [],
   "source": [
    "# patch encoding\n",
    "patch_embedding = custom_blocks.PatchEmbedding(img_shape, hdim1=32, hdim2=64)\n",
    "\n",
    "x0 = patch_embedding(image_batch)\n",
    "x0.shape"
   ]
  },
  {
   "cell_type": "code",
   "execution_count": null,
   "id": "01ebde26-2c33-46b2-925b-c36782f432f4",
   "metadata": {
    "tags": []
   },
   "outputs": [],
   "source": [
    "# positional embedding\n",
    "pos_embedding = torch.nn.Embedding(num_embeddings=patch_embedding.nr_patches, embedding_dim=patch_embedding.hdim2)\n",
    "\n",
    "emb_indices = torch.arange(0, patch_embedding.nr_patches, dtype=torch.int32)\n",
    "x1 = x0 + pos_embedding(emb_indices)\n",
    "x1.shape"
   ]
  },
  {
   "cell_type": "code",
   "execution_count": null,
   "id": "12610ac2-6ad5-4143-90fe-7934bc88db8e",
   "metadata": {
    "tags": []
   },
   "outputs": [],
   "source": [
    "# multi-head attention layer\n",
    "mha_local = custom_layers.WindowedMultiheadAttention(embed_dim=64, num_heads=4, mixing_type='local', in_hw=[patch_embedding.out_h, patch_embedding.out_w], window_shape=[7, 11])\n",
    "mha_global = custom_layers.WindowedMultiheadAttention(embed_dim=64, num_heads=4, mixing_type='global', in_hw=[patch_embedding.out_h, patch_embedding.out_w])"
   ]
  },
  {
   "cell_type": "code",
   "execution_count": null,
   "id": "63f860f4-efa6-4cdc-a86b-1cd671f2173c",
   "metadata": {
    "tags": []
   },
   "outputs": [],
   "source": [
    "x2_loc = mha_local(x1)\n",
    "print(x2_loc.shape)\n",
    "x2_glob = mha_global(x1)\n",
    "print(x2_glob.shape)"
   ]
  },
  {
   "cell_type": "code",
   "execution_count": null,
   "id": "f31b50fe-70e0-4c09-80e6-fb92fee669ec",
   "metadata": {
    "tags": []
   },
   "outputs": [],
   "source": [
    "# mixing blocks\n",
    "mixing_block = custom_blocks.MixingBlock(embed_dim=64, \n",
    "                                         num_heads=4, \n",
    "                                         mixing_type='local', \n",
    "                                         window_shape=[7, 11], \n",
    "                                         in_hw=[patch_embedding.out_h, patch_embedding.out_w], \n",
    "                                         mlp_hidden_dim_factor=4, \n",
    "                                         attn_dropout=0.5, \n",
    "                                         linear_dropout=0.5, \n",
    "                                         act=torch.nn.GELU)\n",
    "x3 = mixing_block(x1)\n",
    "x3.shape"
   ]
  },
  {
   "cell_type": "code",
   "execution_count": null,
   "id": "ff0e4071-d43b-4081-a522-098ad221aebe",
   "metadata": {
    "tags": []
   },
   "outputs": [],
   "source": [
    "# mixing blocks + merging\n",
    "stage_merging = custom_blocks.MixingBlocksMerging(embed_dim=64, \n",
    "                                                  out_dim=128, \n",
    "                                                  num_heads=4, \n",
    "                                                  mixing_type_list=['local', 'global', 'local', 'global'], \n",
    "                                                  window_shape=[7, 11], \n",
    "                                                  in_hw=[patch_embedding.out_h, patch_embedding.out_w], \n",
    "                                                  mlp_hidden_dim_factor=4, \n",
    "                                                  attn_dropout=0.5, \n",
    "                                                  linear_dropout=0.5, \n",
    "                                                  act=torch.nn.GELU)\n",
    "x4 = stage_merging(x1)\n",
    "x4.shape"
   ]
  },
  {
   "cell_type": "code",
   "execution_count": null,
   "id": "9191c85a-33e5-4327-9df4-cdc1fef1137b",
   "metadata": {
    "tags": []
   },
   "outputs": [],
   "source": [
    "# mixing blocks + combining\n",
    "stage_combining = custom_blocks.MixingBlocksCombining(embed_dim=128, \n",
    "                                                      out_dim=192, \n",
    "                                                      num_heads=4, \n",
    "                                                      mixing_type_list=['local', 'global', 'local', 'global'], \n",
    "                                                      window_shape=[7, 11], \n",
    "                                                      in_hw=[stage_merging.out_h, stage_merging.out_w], \n",
    "                                                      mlp_hidden_dim_factor=4, \n",
    "                                                      attn_dropout=0.5, \n",
    "                                                      linear_dropout=0.5, \n",
    "                                                      act=torch.nn.GELU)\n",
    "x5 = stage_combining(x4)\n",
    "x5.shape"
   ]
  },
  {
   "cell_type": "markdown",
   "id": "bfda353f-018f-4200-ac23-ab2c8800412a",
   "metadata": {},
   "source": [
    "### Test full model"
   ]
  },
  {
   "cell_type": "code",
   "execution_count": null,
   "id": "219db9bd-3b2c-42f6-b926-ca780da99e41",
   "metadata": {
    "tags": []
   },
   "outputs": [],
   "source": [
    "svtr = model.SVTR(architecture='tiny', img_shape=[3,32,200])\n",
    "\n",
    "out = svtr(image_batch)\n",
    "out.shape"
   ]
  },
  {
   "cell_type": "code",
   "execution_count": null,
   "id": "73519637-34ed-44e4-a421-6c2c99b444e3",
   "metadata": {},
   "outputs": [],
   "source": []
  },
  {
   "cell_type": "code",
   "execution_count": null,
   "id": "998d041a-7ae0-4d12-82d0-74e393a2852f",
   "metadata": {},
   "outputs": [],
   "source": []
  }
 ],
 "metadata": {
  "kernelspec": {
   "display_name": "svtr",
   "language": "python",
   "name": "svtr"
  },
  "language_info": {
   "codemirror_mode": {
    "name": "ipython",
    "version": 3
   },
   "file_extension": ".py",
   "mimetype": "text/x-python",
   "name": "python",
   "nbconvert_exporter": "python",
   "pygments_lexer": "ipython3",
   "version": "3.10.13"
  }
 },
 "nbformat": 4,
 "nbformat_minor": 5
}
