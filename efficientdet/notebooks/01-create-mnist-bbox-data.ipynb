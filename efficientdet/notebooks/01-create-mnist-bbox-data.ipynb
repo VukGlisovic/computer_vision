{
 "cells": [
  {
   "cell_type": "code",
   "execution_count": null,
   "id": "incomplete-benefit",
   "metadata": {},
   "outputs": [],
   "source": [
    "import os\n",
    "import tensorflow as tf\n",
    "import numpy as np\n",
    "import matplotlib.pyplot as plt\n",
    "from matplotlib.patches import Rectangle\n",
    "from tqdm import tqdm"
   ]
  },
  {
   "cell_type": "markdown",
   "id": "developed-wellington",
   "metadata": {},
   "source": [
    "# Load data"
   ]
  },
  {
   "cell_type": "code",
   "execution_count": null,
   "id": "alien-length",
   "metadata": {},
   "outputs": [],
   "source": [
    "(Xtrain, ytrain), (Xtest, ytest) = tf.keras.datasets.mnist.load_data()\n",
    "Xtrain.shape, ytrain.shape, Xtest.shape, ytest.shape"
   ]
  },
  {
   "cell_type": "markdown",
   "id": "sporting-venezuela",
   "metadata": {},
   "source": [
    "# Convert MNIST data to bounding box data"
   ]
  },
  {
   "cell_type": "code",
   "execution_count": null,
   "id": "broke-present",
   "metadata": {},
   "outputs": [],
   "source": [
    "# add channels dimension\n",
    "Xtrain = np.expand_dims(Xtrain, axis=-1)\n",
    "Xtest = np.expand_dims(Xtest, axis=-1)"
   ]
  },
  {
   "cell_type": "code",
   "execution_count": null,
   "id": "sufficient-brown",
   "metadata": {},
   "outputs": [],
   "source": [
    "# example image\n",
    "plt.imshow(Xtrain[0], cmap='gray');"
   ]
  },
  {
   "cell_type": "code",
   "execution_count": null,
   "id": "light-paris",
   "metadata": {},
   "outputs": [],
   "source": [
    "def draw_mnist_to_image(img_mnist):\n",
    "    height = np.random.randint(20, 36)\n",
    "    width = np.random.randint(20, 36)\n",
    "    img_mnist_resized = tf.image.resize(img_mnist, (height, width), preserve_aspect_ratio=False)\n",
    "    full_image = np.zeros((128, 128, 1))\n",
    "    x1 = np.random.randint(0, 128 - width)\n",
    "    y1 = np.random.randint(0, 128 - height)\n",
    "    x2 = x1 + width\n",
    "    y2 = y1 + height\n",
    "    full_image[y1:y2, x1:x2] = img_mnist_resized\n",
    "    return full_image, x1, y1, x2, y2\n",
    "\n",
    "\n",
    "def mnist_to_bbox_data(xdata):\n",
    "    images = []\n",
    "    coordinates = []\n",
    "    for img in tqdm(xdata):\n",
    "        new_img, x1, y1, x2, y2 = draw_mnist_to_image(img)\n",
    "        images.append(new_img)\n",
    "        coordinates.append([x1,y1,x2,y2])\n",
    "    images = np.array(images, dtype=np.uint8)\n",
    "    coordinates = np.array(coordinates, dtype=np.uint8)\n",
    "    return images, coordinates"
   ]
  },
  {
   "cell_type": "code",
   "execution_count": null,
   "id": "running-inspector",
   "metadata": {},
   "outputs": [],
   "source": [
    "train_images, train_coordinates = mnist_to_bbox_data(Xtrain)\n",
    "train_images.shape, train_coordinates.shape"
   ]
  },
  {
   "cell_type": "code",
   "execution_count": null,
   "id": "elect-final",
   "metadata": {},
   "outputs": [],
   "source": [
    "test_images, test_coordinates = mnist_to_bbox_data(Xtest)\n",
    "test_images.shape, test_coordinates.shape"
   ]
  },
  {
   "cell_type": "markdown",
   "id": "creative-attendance",
   "metadata": {},
   "source": [
    "# Visualize processed data"
   ]
  },
  {
   "cell_type": "code",
   "execution_count": null,
   "id": "dying-playing",
   "metadata": {},
   "outputs": [],
   "source": [
    "def plot_processed_data(images, coordinates, labels, n_rows=4, n_cols=4):\n",
    "    fig, axes = plt.subplots(n_rows, n_cols, figsize=(4 * n_cols, 4 * n_rows))\n",
    "\n",
    "    for i, ax in enumerate(np.ravel(axes)):\n",
    "        ax.imshow(images[i])\n",
    "        x1, y1, x2, y2 = coordinates[i,0], coordinates[i,1], coordinates[i,2], coordinates[i,3]\n",
    "        rect = Rectangle((x1, y1), x2 - x1, y2 - y1, ec='red', fc='None')\n",
    "        ax.add_patch(rect)\n",
    "        ax.set_title(\"Label: {}\".format(labels[i]), fontsize=18)"
   ]
  },
  {
   "cell_type": "code",
   "execution_count": null,
   "id": "proud-pierce",
   "metadata": {},
   "outputs": [],
   "source": [
    "# training data\n",
    "plot_processed_data(train_images, train_coordinates, ytrain)"
   ]
  },
  {
   "cell_type": "code",
   "execution_count": null,
   "id": "early-segment",
   "metadata": {},
   "outputs": [],
   "source": [
    "# test data\n",
    "plot_processed_data(test_images, test_coordinates, ytest, n_rows=2)"
   ]
  },
  {
   "cell_type": "markdown",
   "id": "employed-mining",
   "metadata": {},
   "source": [
    "# Store processed data"
   ]
  },
  {
   "cell_type": "code",
   "execution_count": null,
   "id": "removed-knitting",
   "metadata": {},
   "outputs": [],
   "source": [
    "def store_data(store_dir, filename_prefix, images, coordinates, labels):\n",
    "    assert len(images) == len(coordinates) == len(labels), \"Provided datas don't have the same lengths.\"\n",
    "    os.makedirs(store_dir, exist_ok=True)\n",
    "    np.save(os.path.join(store_dir, filename_prefix+'images.npy'), images, allow_pickle=True)\n",
    "    np.save(os.path.join(store_dir, filename_prefix+'coordinates.npy'), coordinates, allow_pickle=True)\n",
    "    np.save(os.path.join(store_dir, filename_prefix+'labels.npy'), labels, allow_pickle=True)"
   ]
  },
  {
   "cell_type": "code",
   "execution_count": null,
   "id": "nearby-roberts",
   "metadata": {},
   "outputs": [],
   "source": [
    "# store training data\n",
    "store_data('../data', 'train_', train_images, train_coordinates, ytrain)"
   ]
  },
  {
   "cell_type": "code",
   "execution_count": null,
   "id": "satellite-europe",
   "metadata": {},
   "outputs": [],
   "source": [
    "# store test data\n",
    "store_data('../data', 'test_', test_images, test_coordinates, ytest)"
   ]
  },
  {
   "cell_type": "code",
   "execution_count": null,
   "id": "joined-potter",
   "metadata": {},
   "outputs": [],
   "source": []
  },
  {
   "cell_type": "code",
   "execution_count": null,
   "id": "quiet-actress",
   "metadata": {},
   "outputs": [],
   "source": []
  }
 ],
 "metadata": {
  "kernelspec": {
   "display_name": "computer_vision",
   "language": "python",
   "name": "computer_vision"
  },
  "language_info": {
   "codemirror_mode": {
    "name": "ipython",
    "version": 3
   },
   "file_extension": ".py",
   "mimetype": "text/x-python",
   "name": "python",
   "nbconvert_exporter": "python",
   "pygments_lexer": "ipython3",
   "version": "3.6.13"
  }
 },
 "nbformat": 4,
 "nbformat_minor": 5
}
