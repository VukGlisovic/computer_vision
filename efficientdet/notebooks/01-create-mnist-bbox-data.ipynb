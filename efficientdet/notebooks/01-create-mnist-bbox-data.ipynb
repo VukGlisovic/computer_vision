{
 "cells": [
  {
   "cell_type": "code",
   "execution_count": null,
   "id": "afraid-survival",
   "metadata": {},
   "outputs": [],
   "source": [
    "import os\n",
    "import tensorflow as tf\n",
    "import numpy as np\n",
    "import pandas as pd\n",
    "import matplotlib.pyplot as plt\n",
    "from matplotlib.patches import Rectangle\n",
    "from PIL import Image\n",
    "from tqdm import tqdm\n",
    "from efficientdet.constants import PROJECT_PATH"
   ]
  },
  {
   "cell_type": "markdown",
   "id": "cooperative-sandwich",
   "metadata": {},
   "source": [
    "# Load data"
   ]
  },
  {
   "cell_type": "code",
   "execution_count": null,
   "id": "graphic-memphis",
   "metadata": {},
   "outputs": [],
   "source": [
    "(Xtrain, ytrain), (Xtest, ytest) = tf.keras.datasets.mnist.load_data()\n",
    "Xtrain.shape, ytrain.shape, Xtest.shape, ytest.shape"
   ]
  },
  {
   "cell_type": "markdown",
   "id": "brave-clark",
   "metadata": {},
   "source": [
    "# Convert MNIST data to bounding box data"
   ]
  },
  {
   "cell_type": "code",
   "execution_count": null,
   "id": "fabulous-christopher",
   "metadata": {},
   "outputs": [],
   "source": [
    "# example image\n",
    "plt.imshow(Xtrain[0], cmap='gray');"
   ]
  },
  {
   "cell_type": "code",
   "execution_count": null,
   "id": "large-namibia",
   "metadata": {},
   "outputs": [],
   "source": [
    "def draw_mnist_to_image(img_mnist, h=512, w=512):\n",
    "    # extract only relevant pixels\n",
    "    xs, ys = np.where(img_mnist > 0)\n",
    "    img_mnist_resized = img_mnist[xs.min()-1:xs.max()+2, ys.min()-1:ys.max()+2]\n",
    "    # resize mnist image\n",
    "    size = np.random.randint(75, 150)\n",
    "    try:\n",
    "        img_mnist_resized = tf.image.resize(np.expand_dims(img_mnist_resized, axis=-1), (size, size), preserve_aspect_ratio=True)\n",
    "    except:\n",
    "        pass\n",
    "    img_mnist_resized = np.squeeze(img_mnist_resized)\n",
    "    height, width = img_mnist_resized.shape[:2]\n",
    "    # add mnist image to bigger image\n",
    "    full_image = np.zeros((h, w), dtype=np.uint8)\n",
    "    x1 = np.random.randint(0, w - width)\n",
    "    y1 = np.random.randint(0, h - height)\n",
    "    x2 = x1 + width\n",
    "    y2 = y1 + height\n",
    "    full_image[y1:y2, x1:x2] = img_mnist_resized\n",
    "    return full_image, x1, y1, x2, y2\n",
    "\n",
    "\n",
    "def mnist_to_bbox_data(xdata, store_dir):\n",
    "    image_paths = []\n",
    "    coordinates = []\n",
    "    os.makedirs(store_dir, exist_ok=True)\n",
    "    for i, img in tqdm(enumerate(xdata), total=len(xdata)):\n",
    "        new_img, x1, y1, x2, y2 = draw_mnist_to_image(img)\n",
    "        pil_img = Image.fromarray(new_img, mode='L')\n",
    "        output_path = os.path.join(store_dir, \"img{:05d}.jpg\".format(i))\n",
    "        pil_img.save(output_path)\n",
    "        image_paths.append(output_path)\n",
    "        coordinates.append([x1,y1,x2,y2])\n",
    "    coordinates = np.array(coordinates, dtype=np.int16)\n",
    "    return image_paths, coordinates\n",
    "\n",
    "\n",
    "def create_data_df(image_paths, coordinates, labels):\n",
    "    return pd.concat([\n",
    "        pd.DataFrame(data={'img_path': image_paths}),\n",
    "        pd.DataFrame(data=coordinates, columns=['x1', 'y1', 'x2', 'y2']),\n",
    "        pd.DataFrame(data={'label': labels})\n",
    "    ], axis=1)"
   ]
  },
  {
   "cell_type": "code",
   "execution_count": null,
   "id": "extraordinary-scotland",
   "metadata": {},
   "outputs": [],
   "source": [
    "train_image_paths, train_coordinates = mnist_to_bbox_data(Xtrain, os.path.join(PROJECT_PATH, 'data/images_train'))\n",
    "len(train_image_paths), train_coordinates.shape"
   ]
  },
  {
   "cell_type": "code",
   "execution_count": null,
   "id": "democratic-afghanistan",
   "metadata": {},
   "outputs": [],
   "source": [
    "test_image_paths, test_coordinates = mnist_to_bbox_data(Xtest, os.path.join(PROJECT_PATH, 'data/images_test'))\n",
    "len(test_image_paths), test_coordinates.shape"
   ]
  },
  {
   "cell_type": "code",
   "execution_count": null,
   "id": "satisfactory-landing",
   "metadata": {},
   "outputs": [],
   "source": [
    "df_train = create_data_df(train_image_paths, train_coordinates, ytrain)\n",
    "df_train.head(2)"
   ]
  },
  {
   "cell_type": "code",
   "execution_count": null,
   "id": "inclusive-ghana",
   "metadata": {},
   "outputs": [],
   "source": [
    "df_train.to_csv(os.path.join(PROJECT_PATH, 'data/train.csv'), index=False)"
   ]
  },
  {
   "cell_type": "code",
   "execution_count": null,
   "id": "cosmetic-coast",
   "metadata": {},
   "outputs": [],
   "source": [
    "df_test = create_data_df(test_image_paths, test_coordinates, ytest)\n",
    "df_test.head(2)"
   ]
  },
  {
   "cell_type": "code",
   "execution_count": null,
   "id": "focal-large",
   "metadata": {},
   "outputs": [],
   "source": [
    "df_test.to_csv(os.path.join(PROJECT_PATH, 'data/test.csv'), index=False)"
   ]
  },
  {
   "cell_type": "markdown",
   "id": "lucky-round",
   "metadata": {},
   "source": [
    "# Visualize processed data"
   ]
  },
  {
   "cell_type": "code",
   "execution_count": null,
   "id": "prompt-panic",
   "metadata": {},
   "outputs": [],
   "source": [
    "def plot_processed_data(df, n_rows=4, n_cols=4):\n",
    "    fig, axes = plt.subplots(n_rows, n_cols, figsize=(4 * n_cols, 4 * n_rows))\n",
    "\n",
    "    for i, ax in enumerate(np.ravel(axes)):\n",
    "        row = df.iloc[i]\n",
    "        ax.imshow(plt.imread(row['img_path']))\n",
    "        x1, y1, x2, y2 = row['x1'], row['y1'], row['x2'], row['y2']\n",
    "        rect = Rectangle((x1, y1), x2 - x1, y2 - y1, ec='red', fc='None')\n",
    "        ax.add_patch(rect)\n",
    "        ax.set_title(\"Label: {}\".format(row['label']), fontsize=18)"
   ]
  },
  {
   "cell_type": "code",
   "execution_count": null,
   "id": "regulated-place",
   "metadata": {},
   "outputs": [],
   "source": [
    "# training data\n",
    "plot_processed_data(df_train)"
   ]
  },
  {
   "cell_type": "code",
   "execution_count": null,
   "id": "moving-request",
   "metadata": {},
   "outputs": [],
   "source": [
    "# test data\n",
    "plot_processed_data(df_test, n_rows=2)"
   ]
  },
  {
   "cell_type": "code",
   "execution_count": null,
   "id": "dynamic-couple",
   "metadata": {},
   "outputs": [],
   "source": []
  },
  {
   "cell_type": "code",
   "execution_count": null,
   "id": "blank-missouri",
   "metadata": {},
   "outputs": [],
   "source": []
  }
 ],
 "metadata": {
  "kernelspec": {
   "display_name": "computer_vision",
   "language": "python",
   "name": "computer_vision"
  },
  "language_info": {
   "codemirror_mode": {
    "name": "ipython",
    "version": 3
   },
   "file_extension": ".py",
   "mimetype": "text/x-python",
   "name": "python",
   "nbconvert_exporter": "python",
   "pygments_lexer": "ipython3",
   "version": "3.6.13"
  }
 },
 "nbformat": 4,
 "nbformat_minor": 5
}
