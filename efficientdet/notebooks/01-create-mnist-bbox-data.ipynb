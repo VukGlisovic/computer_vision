{
 "cells": [
  {
   "cell_type": "code",
   "execution_count": null,
   "id": "running-agreement",
   "metadata": {},
   "outputs": [],
   "source": [
    "import os\n",
    "import tensorflow as tf\n",
    "import numpy as np\n",
    "import pandas as pd\n",
    "import matplotlib.pyplot as plt\n",
    "from matplotlib.patches import Rectangle\n",
    "from PIL import Image\n",
    "from tqdm import tqdm\n",
    "from efficientdet.constants import PROJECT_PATH"
   ]
  },
  {
   "cell_type": "markdown",
   "id": "affecting-steel",
   "metadata": {},
   "source": [
    "# Load data"
   ]
  },
  {
   "cell_type": "code",
   "execution_count": null,
   "id": "enclosed-purple",
   "metadata": {},
   "outputs": [],
   "source": [
    "(Xtrain, ytrain), (Xtest, ytest) = tf.keras.datasets.mnist.load_data()\n",
    "Xtrain.shape, ytrain.shape, Xtest.shape, ytest.shape"
   ]
  },
  {
   "cell_type": "markdown",
   "id": "subsequent-gateway",
   "metadata": {},
   "source": [
    "# Convert MNIST data to bounding box data"
   ]
  },
  {
   "cell_type": "code",
   "execution_count": null,
   "id": "protective-peninsula",
   "metadata": {},
   "outputs": [],
   "source": [
    "# example image\n",
    "plt.imshow(Xtrain[0], cmap='gray');"
   ]
  },
  {
   "cell_type": "code",
   "execution_count": null,
   "id": "constant-stage",
   "metadata": {},
   "outputs": [],
   "source": [
    "def check_if_intersect(boxA, boxB):\n",
    "    x1_max = max(boxA[0], boxB[0])\n",
    "    y1_max = max(boxA[1], boxB[1])\n",
    "    x2_min = min(boxA[2], boxB[2])\n",
    "    y2_min = min(boxA[3], boxB[3])\n",
    "    intersection_area = max(0, x2_min - x1_max + 1) * max(0, y2_min - y1_max + 1)\n",
    "    return intersection_area\n",
    "\n",
    "\n",
    "def draw_mnist_to_image(imgs_mnist, labels_mnist, h=512, w=512):\n",
    "    # extract only relevant pixels\n",
    "    imgs_mnist_resized = []\n",
    "    for img_mnist in imgs_mnist:\n",
    "        xs, ys = np.where(img_mnist > 0)\n",
    "        img_mnist_resized = img_mnist[xs.min()-1:xs.max()+2, ys.min()-1:ys.max()+2]\n",
    "        imgs_mnist_resized.append(img_mnist_resized)\n",
    "    \n",
    "    # resize mnist image\n",
    "    imgs_mnist_resized2 = []\n",
    "    labels2 = []\n",
    "    for img_mnist_resized, label in zip(imgs_mnist_resized, labels_mnist):\n",
    "        size = np.random.randint(75, 150)\n",
    "        try:\n",
    "            img_mnist_resized = tf.image.resize(np.expand_dims(img_mnist_resized, axis=-1), (size, size), preserve_aspect_ratio=True)\n",
    "            imgs_mnist_resized2.append(img_mnist_resized)\n",
    "            labels2.append(label)\n",
    "        except:\n",
    "            pass\n",
    "    \n",
    "    # choose locations to draw in full image\n",
    "    locations = []\n",
    "    full_image = np.zeros((h, w), dtype=np.uint16)\n",
    "    for img_mnist_resized in imgs_mnist_resized2:\n",
    "        intersect = True\n",
    "        while intersect:\n",
    "            intersect = False\n",
    "            height, width = img_mnist_resized.shape[:2]\n",
    "            # add mnist image to bigger image\n",
    "            x1 = np.random.randint(0, w - width)\n",
    "            y1 = np.random.randint(0, h - height)\n",
    "            x2 = x1 + width\n",
    "            y2 = y1 + height\n",
    "            for loc in locations:\n",
    "                if check_if_intersect([x1, y1, x2, y2], loc):\n",
    "                    intersect = True\n",
    "                    break\n",
    "        locations.append([x1, y1, x2, y2])\n",
    "    \n",
    "    # draw the images into the full image and add some noise\n",
    "    for img_mnist_resized, [x1, y1, x2, y2] in zip(imgs_mnist_resized2, locations):\n",
    "        full_image[y1:y2, x1:x2] = np.squeeze(img_mnist_resized)\n",
    "    distortion = np.random.randint(0, 90, size=(h, w), dtype=np.uint16)\n",
    "    full_image = np.clip(full_image + distortion, a_min=0, a_max=255)\n",
    "    full_image = full_image.astype(np.uint8)\n",
    "    return full_image, locations, labels2\n",
    "\n",
    "\n",
    "def mnist_to_bbox_data(xdata, ydata, store_dir, min_digits=1, max_digits=3):\n",
    "    image_paths = []\n",
    "    coordinates = []\n",
    "    targets = []\n",
    "    os.makedirs(store_dir, exist_ok=True)\n",
    "    \n",
    "    n_images = np.random.randint(low=min_digits, high=max_digits+1)  # number of images to draw\n",
    "    imgs, labels = [], []\n",
    "    i = 0\n",
    "    for img, label in tqdm(zip(xdata, ydata), total=len(xdata)):\n",
    "        imgs.append(img)\n",
    "        labels.append(label)\n",
    "        if len(imgs) < n_images and len(image_paths) + len(imgs) < len(xdata):\n",
    "            continue\n",
    "        new_img, locs, labels = draw_mnist_to_image(imgs, labels)\n",
    "        pil_img = Image.fromarray(new_img, mode='L')\n",
    "        output_path = os.path.join(store_dir, \"img{:05d}.jpg\".format(i))\n",
    "        pil_img.save(output_path)\n",
    "        image_paths += len(locs) * [output_path]\n",
    "        coordinates += locs\n",
    "        targets += labels\n",
    "        # setup for next image\n",
    "        n_images = np.random.randint(low=min_digits, high=max_digits+1)  # number of images to draw\n",
    "        imgs, labels = [], []\n",
    "        i += 1\n",
    "    coordinates = np.array(coordinates, dtype=np.int16)\n",
    "    return image_paths, coordinates, targets\n",
    "\n",
    "\n",
    "def create_data_df(image_paths, coordinates, labels):\n",
    "    return pd.concat([\n",
    "        pd.DataFrame(data={'img_path': image_paths}),\n",
    "        pd.DataFrame(data=coordinates, columns=['x1', 'y1', 'x2', 'y2']),\n",
    "        pd.DataFrame(data={'label': labels})\n",
    "    ], axis=1)"
   ]
  },
  {
   "cell_type": "code",
   "execution_count": null,
   "id": "national-bracket",
   "metadata": {},
   "outputs": [],
   "source": [
    "train_image_paths, train_coordinates, train_targets = mnist_to_bbox_data(Xtrain, ytrain, os.path.join(PROJECT_PATH, 'data/images_train'))\n",
    "len(train_image_paths), train_coordinates.shape, len(train_targets)"
   ]
  },
  {
   "cell_type": "code",
   "execution_count": null,
   "id": "labeled-haven",
   "metadata": {},
   "outputs": [],
   "source": [
    "test_image_paths, test_coordinates, test_targets = mnist_to_bbox_data(Xtest, ytest, os.path.join(PROJECT_PATH, 'data/images_test'))\n",
    "len(test_image_paths), test_coordinates.shape, len(test_targets)"
   ]
  },
  {
   "cell_type": "code",
   "execution_count": null,
   "id": "backed-louisiana",
   "metadata": {},
   "outputs": [],
   "source": [
    "df_train = create_data_df(train_image_paths, train_coordinates, train_targets)\n",
    "df_train.head(2)"
   ]
  },
  {
   "cell_type": "code",
   "execution_count": null,
   "id": "assigned-branch",
   "metadata": {},
   "outputs": [],
   "source": [
    "df_train.to_csv(os.path.join(PROJECT_PATH, 'data/train.csv'), index=False)"
   ]
  },
  {
   "cell_type": "code",
   "execution_count": null,
   "id": "statistical-original",
   "metadata": {},
   "outputs": [],
   "source": [
    "df_test = create_data_df(test_image_paths, test_coordinates, test_targets)\n",
    "df_test.head(2)"
   ]
  },
  {
   "cell_type": "code",
   "execution_count": null,
   "id": "discrete-stress",
   "metadata": {},
   "outputs": [],
   "source": [
    "df_test.to_csv(os.path.join(PROJECT_PATH, 'data/test.csv'), index=False)"
   ]
  },
  {
   "cell_type": "markdown",
   "id": "acting-medicaid",
   "metadata": {},
   "source": [
    "# Visualize processed data"
   ]
  },
  {
   "cell_type": "code",
   "execution_count": null,
   "id": "collect-optimization",
   "metadata": {},
   "outputs": [],
   "source": [
    "def plot_processed_data(df, n_rows=4, n_cols=4):\n",
    "    fig, axes = plt.subplots(n_rows, n_cols, figsize=(4 * n_cols, 4 * n_rows))\n",
    "\n",
    "    for ax, (img_path, g) in zip(np.ravel(axes), df.groupby('img_path')):\n",
    "        ax.imshow(plt.imread(img_path))\n",
    "        for _, row in g.iterrows():\n",
    "            x1, y1, x2, y2 = row['x1'], row['y1'], row['x2'], row['y2']\n",
    "            rect = Rectangle((x1, y1), x2 - x1, y2 - y1, ec='red', fc='None')\n",
    "            ax.add_patch(rect)\n",
    "        ax.set_title(\"Label(s): {}\".format(\", \".join(g['label'].astype(str).tolist())), fontsize=18)"
   ]
  },
  {
   "cell_type": "code",
   "execution_count": null,
   "id": "celtic-ballet",
   "metadata": {},
   "outputs": [],
   "source": [
    "# training data\n",
    "plot_processed_data(df_train)"
   ]
  },
  {
   "cell_type": "code",
   "execution_count": null,
   "id": "retired-ambassador",
   "metadata": {},
   "outputs": [],
   "source": [
    "# test data\n",
    "plot_processed_data(df_test, n_rows=2)"
   ]
  },
  {
   "cell_type": "code",
   "execution_count": null,
   "id": "steady-holder",
   "metadata": {},
   "outputs": [],
   "source": []
  },
  {
   "cell_type": "code",
   "execution_count": null,
   "id": "brutal-pressure",
   "metadata": {},
   "outputs": [],
   "source": []
  }
 ],
 "metadata": {
  "kernelspec": {
   "display_name": "computer_vision",
   "language": "python",
   "name": "computer_vision"
  },
  "language_info": {
   "codemirror_mode": {
    "name": "ipython",
    "version": 3
   },
   "file_extension": ".py",
   "mimetype": "text/x-python",
   "name": "python",
   "nbconvert_exporter": "python",
   "pygments_lexer": "ipython3",
   "version": "3.6.13"
  }
 },
 "nbformat": 4,
 "nbformat_minor": 5
}
