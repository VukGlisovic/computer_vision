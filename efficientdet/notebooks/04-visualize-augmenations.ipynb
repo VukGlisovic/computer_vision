{
 "cells": [
  {
   "cell_type": "code",
   "execution_count": null,
   "id": "former-moldova",
   "metadata": {},
   "outputs": [],
   "source": [
    "%load_ext autoreload\n",
    "%autoreload 2"
   ]
  },
  {
   "cell_type": "code",
   "execution_count": null,
   "id": "unique-prescription",
   "metadata": {},
   "outputs": [],
   "source": [
    "import numpy as np\n",
    "import pandas as pd\n",
    "import tensorflow as tf\n",
    "from tensorflow.keras import layers\n",
    "import matplotlib.pyplot as plt\n",
    "from matplotlib.patches import Rectangle\n",
    "from collections import Counter\n",
    "\n",
    "from efficientdet.data_pipeline.utils import xywh_to_xyxy\n",
    "from efficientdet.data_pipeline.anchors import AnchorBox\n",
    "from efficientdet.data_pipeline.target_encoder import TargetEncoder\n",
    "from efficientdet.data_pipeline.input_dataset import create_combined_dataset, create_images_dataset, create_bbox_dataset, create_labels_dataset, name_targets\n",
    "from efficientdet.constants import IMG_SHAPE\n",
    "\n",
    "import imgaug.augmenters as aug_lib\n",
    "from imgaug.augmentables.bbs import BoundingBox, BoundingBoxesOnImage"
   ]
  },
  {
   "cell_type": "markdown",
   "id": "consistent-glucose",
   "metadata": {},
   "source": [
    "# Load data"
   ]
  },
  {
   "cell_type": "code",
   "execution_count": null,
   "id": "complete-soviet",
   "metadata": {},
   "outputs": [],
   "source": [
    "path_train = '../data/train.csv'\n",
    "\n",
    "df_train = pd.read_csv(path_train, dtype={'img_path': str, 'x1': 'int32', 'y1': 'int32', 'x2': 'int32', 'y2': 'int32', 'label': 'int32'})\n",
    "df_train.head(2)"
   ]
  },
  {
   "cell_type": "markdown",
   "id": "independent-waterproof",
   "metadata": {},
   "source": [
    "# Create tf dataset"
   ]
  },
  {
   "cell_type": "code",
   "execution_count": null,
   "id": "white-partition",
   "metadata": {},
   "outputs": [],
   "source": [
    "target_encoder = TargetEncoder()\n",
    "\n",
    "ds_norm = create_combined_dataset(path_train, batch_size=1, augment=False)\n",
    "ds_aug = create_combined_dataset(path_train, batch_size=1, augment=True)"
   ]
  },
  {
   "cell_type": "markdown",
   "id": "desirable-cooking",
   "metadata": {},
   "source": [
    "# Visualize augmentations"
   ]
  },
  {
   "cell_type": "code",
   "execution_count": null,
   "id": "representative-viewer",
   "metadata": {},
   "outputs": [],
   "source": [
    "def add_box(ax, bbox, ec='r', fc='none', lw=0.5):\n",
    "    x1, y1, x2, y2 = bbox\n",
    "    height = y2 - y1\n",
    "    width = x2 - x1\n",
    "    rect = Rectangle((x1, y1), width, height, ec=ec, fc=fc, lw=lw)\n",
    "    ax.add_patch(rect)\n",
    "\n",
    "\n",
    "def plot_anchors(ax, x):\n",
    "    img, box_targets, cls_targets = x[0][0].numpy(), x[1]['regression'][0].numpy(), x[1]['classification'][0].numpy()\n",
    "    valid_anchors = all_anchors[box_targets[:,-1] == 1]\n",
    "    cls_target_counter = Counter(cls_targets)\n",
    "    positive_anchor_keys = [k for k in cls_target_counter.keys() if k >= 0]\n",
    "    n_positive_anchors = \"(label: anchors) \" + \", \".join([\"{}: {}\".format(int(k), cls_target_counter[k]) for k in positive_anchor_keys])\n",
    "    ax.set_title(n_positive_anchors, fontsize=14)\n",
    "    ax.imshow(img)\n",
    "    # plot all anchors\n",
    "    for bbox in xywh_to_xyxy(valid_anchors):\n",
    "        add_box(ax, bbox)"
   ]
  },
  {
   "cell_type": "code",
   "execution_count": null,
   "id": "verified-processor",
   "metadata": {},
   "outputs": [],
   "source": [
    "n_rows = 10\n",
    "fig, axes = plt.subplots(n_rows, 2, figsize=(10, n_rows*5))\n",
    "\n",
    "all_anchors = target_encoder._anchor_box.get_all_anchors(512, 512).numpy()\n",
    "print(\"Left: input data without augmentation. Right: same input data with augmentation\")\n",
    "print(\"Cyan bounding box is ground truth (only available in the left plots)\")\n",
    "for i, (x_norm, x_aug, (_, g)) in enumerate(zip(ds_norm.take(n_rows), ds_aug.take(n_rows), df_train.groupby('img_path'))):\n",
    "    ax1, ax2 = axes[i, :]\n",
    "    plot_anchors(ax1, x_norm)\n",
    "    plot_anchors(ax2, x_aug)\n",
    "    # plot all ground truth boxes\n",
    "    for _, row in g.iterrows():\n",
    "        add_box(ax1, row[['x1', 'y1', 'x2', 'y2']], ec='cyan', lw=1)"
   ]
  },
  {
   "cell_type": "code",
   "execution_count": null,
   "id": "gorgeous-honey",
   "metadata": {},
   "outputs": [],
   "source": []
  },
  {
   "cell_type": "code",
   "execution_count": null,
   "id": "patent-anthony",
   "metadata": {},
   "outputs": [],
   "source": []
  }
 ],
 "metadata": {
  "kernelspec": {
   "display_name": "computer_vision",
   "language": "python",
   "name": "computer_vision"
  },
  "language_info": {
   "codemirror_mode": {
    "name": "ipython",
    "version": 3
   },
   "file_extension": ".py",
   "mimetype": "text/x-python",
   "name": "python",
   "nbconvert_exporter": "python",
   "pygments_lexer": "ipython3",
   "version": "3.6.13"
  }
 },
 "nbformat": 4,
 "nbformat_minor": 5
}
