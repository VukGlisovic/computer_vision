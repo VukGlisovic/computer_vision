{
 "cells": [
  {
   "cell_type": "code",
   "execution_count": null,
   "id": "hairy-concentrate",
   "metadata": {},
   "outputs": [],
   "source": [
    "import string\n",
    "import math\n",
    "import numpy as np\n",
    "import tensorflow as tf\n",
    "from tensorflow.keras import layers\n",
    "\n",
    "from efficientdet.model.efficientnet_backbone import efficientnet"
   ]
  },
  {
   "cell_type": "markdown",
   "id": "automatic-texas",
   "metadata": {},
   "source": [
    "# Pre existing model"
   ]
  },
  {
   "cell_type": "raw",
   "id": "nonprofit-satin",
   "metadata": {},
   "source": [
    "efficientnet = tf.keras.applications.EfficientNetB0(include_top=False, weights=None, input_shape=(128, 128, 1))\n",
    "efficientnet.summary()"
   ]
  },
  {
   "cell_type": "markdown",
   "id": "intermediate-hungary",
   "metadata": {},
   "source": [
    "# From scratch"
   ]
  },
  {
   "cell_type": "code",
   "execution_count": null,
   "id": "forward-thanksgiving",
   "metadata": {},
   "outputs": [],
   "source": [
    "model = efficientnet(width_coefficient=1.0, \n",
    "                     depth_coefficient=1.0, \n",
    "                     input_shape=(28, 28, 1), \n",
    "                     model_name='efficientnet-b0')\n",
    "model.summary()"
   ]
  },
  {
   "cell_type": "markdown",
   "id": "associate-seventh",
   "metadata": {},
   "source": [
    "# Train MNIST classification"
   ]
  },
  {
   "cell_type": "code",
   "execution_count": null,
   "id": "medium-machine",
   "metadata": {},
   "outputs": [],
   "source": [
    "(Xtrain, ytrain), (Xtest, ytest) = tf.keras.datasets.mnist.load_data()\n",
    "Xtrain.shape, ytrain.shape, Xtest.shape, ytest.shape"
   ]
  },
  {
   "cell_type": "code",
   "execution_count": null,
   "id": "frozen-layout",
   "metadata": {},
   "outputs": [],
   "source": [
    "def preprocess_mnist(x, y):\n",
    "    x_processed = np.expand_dims(x, axis=-1)\n",
    "    x_processed = x_processed / 255.\n",
    "    y_processed = np.zeros((y.size, 10))\n",
    "    y_processed[np.arange(y.size), y] = 1\n",
    "    return x_processed, y_processed\n",
    "\n",
    "\n",
    "Xtrain, ytrain = preprocess_mnist(Xtrain, ytrain)\n",
    "Xtest, ytest = preprocess_mnist(Xtest, ytest)\n",
    "Xtrain.shape, ytrain.shape, Xtest.shape, ytest.shape"
   ]
  },
  {
   "cell_type": "code",
   "execution_count": null,
   "id": "acquired-frontier",
   "metadata": {},
   "outputs": [],
   "source": [
    "adam = tf.keras.optimizers.Adam()\n",
    "loss = tf.keras.losses.CategoricalCrossentropy(from_logits=False)\n",
    "accuracy = tf.keras.metrics.CategoricalAccuracy()\n",
    "\n",
    "\n",
    "def scheduler(epoch, lr):\n",
    "    return lr * tf.math.exp(-0.1)\n",
    "\n",
    "callbacks = [\n",
    "    tf.keras.callbacks.LearningRateScheduler(scheduler)\n",
    "]\n",
    "\n",
    "model.compile(optimizer=adam, loss=loss, metrics=accuracy)"
   ]
  },
  {
   "cell_type": "code",
   "execution_count": null,
   "id": "equal-trinidad",
   "metadata": {},
   "outputs": [],
   "source": [
    "history = model.fit(Xtrain, ytrain, validation_split=0.2, batch_size=32, epochs=5, callbacks=callbacks)"
   ]
  },
  {
   "cell_type": "code",
   "execution_count": null,
   "id": "rough-government",
   "metadata": {},
   "outputs": [],
   "source": [
    "model.evaluate(Xtest, ytest)"
   ]
  },
  {
   "cell_type": "code",
   "execution_count": null,
   "id": "cutting-karen",
   "metadata": {},
   "outputs": [],
   "source": []
  },
  {
   "cell_type": "code",
   "execution_count": null,
   "id": "opening-alarm",
   "metadata": {},
   "outputs": [],
   "source": []
  }
 ],
 "metadata": {
  "kernelspec": {
   "display_name": "computer_vision",
   "language": "python",
   "name": "computer_vision"
  },
  "language_info": {
   "codemirror_mode": {
    "name": "ipython",
    "version": 3
   },
   "file_extension": ".py",
   "mimetype": "text/x-python",
   "name": "python",
   "nbconvert_exporter": "python",
   "pygments_lexer": "ipython3",
   "version": "3.6.13"
  }
 },
 "nbformat": 4,
 "nbformat_minor": 5
}
