{
 "cells": [
  {
   "cell_type": "code",
   "execution_count": null,
   "id": "hispanic-rapid",
   "metadata": {},
   "outputs": [],
   "source": [
    "%load_ext autoreload\n",
    "%autoreload 2"
   ]
  },
  {
   "cell_type": "code",
   "execution_count": null,
   "id": "departmental-legend",
   "metadata": {},
   "outputs": [],
   "source": [
    "import numpy as np\n",
    "import pandas as pd\n",
    "import tensorflow as tf\n",
    "from tensorflow.keras import layers\n",
    "import matplotlib.pyplot as plt\n",
    "from matplotlib.patches import Rectangle\n",
    "from collections import Counter\n",
    "\n",
    "from efficientdet.data_pipeline.utils import xyxy_to_xywh, xywh_to_xyxy\n",
    "from efficientdet.data_pipeline.anchors import AnchorBox\n",
    "from efficientdet.data_pipeline.target_encoder import TargetEncoder\n",
    "from efficientdet.data_pipeline.input_dataset import create_combined_dataset"
   ]
  },
  {
   "cell_type": "markdown",
   "id": "devoted-maximum",
   "metadata": {},
   "source": [
    "# Load data"
   ]
  },
  {
   "cell_type": "code",
   "execution_count": null,
   "id": "loved-cemetery",
   "metadata": {},
   "outputs": [],
   "source": [
    "path_train = '../data/train.csv'\n",
    "\n",
    "df_train = pd.read_csv(path_train, dtype={'img_path': str, 'x1': 'int32', 'y1': 'int32', 'x2': 'int32', 'y2': 'int32', 'label': 'int32'})\n",
    "df_train.head(2)"
   ]
  },
  {
   "cell_type": "markdown",
   "id": "later-archives",
   "metadata": {},
   "source": [
    "# Create tf dataset"
   ]
  },
  {
   "cell_type": "code",
   "execution_count": null,
   "id": "varied-judges",
   "metadata": {},
   "outputs": [],
   "source": [
    "ds = create_combined_dataset(path_train)"
   ]
  },
  {
   "cell_type": "markdown",
   "id": "boxed-officer",
   "metadata": {},
   "source": [
    "# Visualize samples"
   ]
  },
  {
   "cell_type": "code",
   "execution_count": null,
   "id": "adaptive-disney",
   "metadata": {},
   "outputs": [],
   "source": [
    "bs = 8\n",
    "target_encoder = TargetEncoder()"
   ]
  },
  {
   "cell_type": "code",
   "execution_count": null,
   "id": "alone-checklist",
   "metadata": {},
   "outputs": [],
   "source": [
    "for inp in ds.take(1):\n",
    "    pass\n",
    "\n",
    "print(inp[0].shape)\n",
    "print(inp[1]['regression'].shape)\n",
    "print(inp[1]['classification'].shape)"
   ]
  },
  {
   "cell_type": "code",
   "execution_count": null,
   "id": "freelance-wright",
   "metadata": {},
   "outputs": [],
   "source": [
    "def add_box(ax, bbox, ec='r', fc='none', lw=0.5):\n",
    "    x1, y1, x2, y2 = bbox\n",
    "    height = y2 - y1\n",
    "    width = x2 - x1\n",
    "    rect = Rectangle((x1, y1), width, height, ec=ec, fc=fc, lw=lw)\n",
    "    ax.add_patch(rect)\n",
    "\n",
    "\n",
    "fig, axes = plt.subplots(2, 4, figsize=(20, 10))\n",
    "\n",
    "all_anchors = target_encoder._anchor_box.get_all_anchors(512, 512).numpy()\n",
    "for i, (ax, (_, g)) in enumerate(zip(np.ravel(axes), df_train.groupby('img_path'))):\n",
    "    img, box_targets, cls_targets = inp[0][i].numpy(), inp[1]['regression'][i].numpy(), inp[1]['classification'][i].numpy()\n",
    "    valid_anchors = all_anchors[box_targets[:,-1] == 1]\n",
    "    cls_target_counter = Counter(cls_targets)\n",
    "    positive_anchor_keys = [k for k in cls_target_counter.keys() if k >= 0]\n",
    "    n_positive_anchors = \"(label: anchors) \" + \", \".join([\"{}: {}\".format(int(k), cls_target_counter[k]) for k in positive_anchor_keys])\n",
    "    ax.set_title(n_positive_anchors, fontsize=14)\n",
    "    ax.imshow(img)\n",
    "    # plot all anchors\n",
    "    for bbox in xywh_to_xyxy(valid_anchors):\n",
    "        add_box(ax, bbox)\n",
    "    # plot all ground truth boxes\n",
    "    for _, row in g.iterrows():\n",
    "        add_box(ax, row[['x1', 'y1', 'x2', 'y2']], ec='cyan', lw=1)"
   ]
  },
  {
   "cell_type": "code",
   "execution_count": null,
   "id": "disabled-rider",
   "metadata": {},
   "outputs": [],
   "source": []
  },
  {
   "cell_type": "code",
   "execution_count": null,
   "id": "referenced-chapel",
   "metadata": {},
   "outputs": [],
   "source": []
  }
 ],
 "metadata": {
  "kernelspec": {
   "display_name": "computer_vision",
   "language": "python",
   "name": "computer_vision"
  },
  "language_info": {
   "codemirror_mode": {
    "name": "ipython",
    "version": 3
   },
   "file_extension": ".py",
   "mimetype": "text/x-python",
   "name": "python",
   "nbconvert_exporter": "python",
   "pygments_lexer": "ipython3",
   "version": "3.6.13"
  }
 },
 "nbformat": 4,
 "nbformat_minor": 5
}
