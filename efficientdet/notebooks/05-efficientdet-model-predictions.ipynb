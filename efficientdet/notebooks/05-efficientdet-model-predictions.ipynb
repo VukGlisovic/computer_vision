{
 "cells": [
  {
   "cell_type": "code",
   "execution_count": null,
   "id": "automotive-permit",
   "metadata": {},
   "outputs": [],
   "source": [
    "%load_ext autoreload\n",
    "%autoreload 2"
   ]
  },
  {
   "cell_type": "code",
   "execution_count": null,
   "id": "independent-longitude",
   "metadata": {},
   "outputs": [],
   "source": [
    "import numpy as np\n",
    "import pandas as pd\n",
    "import tensorflow as tf\n",
    "from tensorflow.keras import layers\n",
    "import matplotlib.pyplot as plt\n",
    "from matplotlib.patches import Rectangle\n",
    "\n",
    "from efficientdet.data_pipeline.utils import xyxy_to_xywh, xywh_to_xyxy\n",
    "from efficientdet.data_pipeline.anchors import AnchorBox\n",
    "from efficientdet.data_pipeline.target_encoder import TargetEncoder\n",
    "from efficientdet.data_pipeline.input_dataset import create_combined_dataset, create_images_dataset, create_bbox_dataset, create_labels_dataset\n",
    "from efficientdet.model.efficientdet import EfficientDet\n",
    "from efficientdet.model.losses import HuberRegressionLoss, FocalClassificationLoss"
   ]
  },
  {
   "cell_type": "markdown",
   "id": "corporate-virtue",
   "metadata": {},
   "source": [
    "# Create model"
   ]
  },
  {
   "cell_type": "code",
   "execution_count": null,
   "id": "handmade-turner",
   "metadata": {},
   "outputs": [],
   "source": [
    "model = EfficientDet(phi=0)\n",
    "model.build((None, None, None, 1))\n",
    "# model.summary()"
   ]
  },
  {
   "cell_type": "markdown",
   "id": "focused-prophet",
   "metadata": {},
   "source": [
    "# Load data"
   ]
  },
  {
   "cell_type": "code",
   "execution_count": null,
   "id": "diverse-garden",
   "metadata": {},
   "outputs": [],
   "source": [
    "path_train = '../data/train.csv'\n",
    "path_test = '../data/test.csv'\n",
    "\n",
    "\n",
    "def read_csv(path):\n",
    "    df = pd.read_csv(path, dtype={'img_path': str, 'x1': 'int32', 'y1': 'int32', 'x2': 'int32', 'y2': 'int32', 'label': 'int32'})\n",
    "    print(df.shape)\n",
    "    return df\n",
    "\n",
    "\n",
    "df_train = read_csv(path_train)\n",
    "df_test = read_csv(path_test)"
   ]
  },
  {
   "cell_type": "raw",
   "id": "leading-interview",
   "metadata": {},
   "source": [
    "ds_train = create_combined_dataset(path_train)\n",
    "ds_test = create_combined_dataset(path_test)"
   ]
  },
  {
   "cell_type": "markdown",
   "id": "geological-scope",
   "metadata": {},
   "source": [
    "# Test set predictions"
   ]
  },
  {
   "cell_type": "code",
   "execution_count": null,
   "id": "photographic-dialogue",
   "metadata": {},
   "outputs": [],
   "source": [
    "model.load_weights('../data/results/checkpoints/efficientdet-20.hdf5')"
   ]
  },
  {
   "cell_type": "raw",
   "id": "underlying-philosophy",
   "metadata": {},
   "source": [
    "model.layers[-1].confidence_threshold = 0.5\n",
    "model.layers[-1].nms_iou_threshold = 0.2"
   ]
  },
  {
   "cell_type": "code",
   "execution_count": null,
   "id": "ancient-bankruptcy",
   "metadata": {},
   "outputs": [],
   "source": [
    "ds_train = create_images_dataset(df_train)\n",
    "ds_test = create_images_dataset(df_test)"
   ]
  },
  {
   "cell_type": "code",
   "execution_count": null,
   "id": "romance-diabetes",
   "metadata": {},
   "outputs": [],
   "source": [
    "def add_box(ax, bbox, ec='r', fc='none', lw=0.5, label=None, score=None):\n",
    "    x1, y1, x2, y2 = bbox\n",
    "    height = y2 - y1\n",
    "    width = x2 - x1\n",
    "    rect = Rectangle((x1, y1), width, height, ec=ec, fc=fc, lw=lw)\n",
    "    ax.add_patch(rect)\n",
    "    text = []\n",
    "    if label is not None:\n",
    "        text.append(\"label: {}\".format(int(label)))\n",
    "    if score is not None:\n",
    "        text.append(\"score: {:.2f}\".format(score))\n",
    "    if text:\n",
    "        ax.text(x1, y1, \", \".join(text), fontsize=14, color='white')"
   ]
  },
  {
   "cell_type": "code",
   "execution_count": null,
   "id": "happy-narrative",
   "metadata": {},
   "outputs": [],
   "source": [
    "n_cols = 3\n",
    "n_rows = 5\n",
    "\n",
    "fig, axes = plt.subplots(n_rows, n_cols, figsize=(6 * n_cols, 6 * n_rows))\n",
    "\n",
    "for ax, img in zip(np.ravel(axes), ds_train.take(n_rows * n_cols)):\n",
    "    ax.imshow(img)\n",
    "    img = tf.expand_dims(img, axis=0)\n",
    "    boxes, scores, classes = model(img)\n",
    "    for (box, pred_label, score) in zip(boxes[0], classes[0], scores[0]):\n",
    "        if score > 0:\n",
    "            add_box(ax, box, label=pred_label.numpy(), score=score)"
   ]
  },
  {
   "cell_type": "code",
   "execution_count": null,
   "id": "forty-clerk",
   "metadata": {},
   "outputs": [],
   "source": []
  },
  {
   "cell_type": "code",
   "execution_count": null,
   "id": "developing-chain",
   "metadata": {},
   "outputs": [],
   "source": []
  }
 ],
 "metadata": {
  "kernelspec": {
   "display_name": "computer_vision",
   "language": "python",
   "name": "computer_vision"
  },
  "language_info": {
   "codemirror_mode": {
    "name": "ipython",
    "version": 3
   },
   "file_extension": ".py",
   "mimetype": "text/x-python",
   "name": "python",
   "nbconvert_exporter": "python",
   "pygments_lexer": "ipython3",
   "version": "3.6.13"
  }
 },
 "nbformat": 4,
 "nbformat_minor": 5
}
