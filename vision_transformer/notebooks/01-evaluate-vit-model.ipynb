{
 "cells": [
  {
   "cell_type": "code",
   "execution_count": null,
   "id": "0cfadfa2-ea74-46b4-892e-e0dbbbca4ab7",
   "metadata": {},
   "outputs": [],
   "source": [
    "import numpy as np\n",
    "import tensorflow as tf\n",
    "import matplotlib.pyplot as plt\n",
    "\n",
    "from vision_transformer.constants import CIFAR10_CLASSES\n",
    "from vision_transformer.model import custom_layers\n",
    "from vision_transformer.data_pipeline import input_dataset"
   ]
  },
  {
   "cell_type": "code",
   "execution_count": null,
   "id": "c5b5cb60-1c1d-4bdb-adbd-ba25ba1bb9e7",
   "metadata": {},
   "outputs": [],
   "source": [
    "vit = tf.keras.models.load_model('../experiments/run008/checkpoints/ckpt-033.h5', \n",
    "                                 custom_objects={'AddPositionEmbs': custom_layers.AddPositionEmbs, 'RandomNormal': tf.keras.initializers.RandomNormal})"
   ]
  },
  {
   "cell_type": "code",
   "execution_count": null,
   "id": "f3c11d31-7916-461f-b837-588f1dab6846",
   "metadata": {},
   "outputs": [],
   "source": [
    "_, _, x_test, y_test = input_dataset.get_cifar10_raw_data()\n",
    "_, _, ds_test = input_dataset.get_cifar10_data_splits()\n",
    "print(x_test.shape, y_test.shape)"
   ]
  },
  {
   "cell_type": "code",
   "execution_count": null,
   "id": "30fbcf0c-d70c-4c95-ac5a-1fb3dbc9adb6",
   "metadata": {},
   "outputs": [],
   "source": [
    "predictions = vit.predict(ds_test, verbose=1)\n",
    "print(predictions.shape)"
   ]
  },
  {
   "cell_type": "code",
   "execution_count": null,
   "id": "fe2a89d1-cd5c-4317-979f-222768286b8c",
   "metadata": {},
   "outputs": [],
   "source": [
    "# accuracy\n",
    "accuracy = tf.keras.metrics.SparseCategoricalAccuracy()\n",
    "accuracy(y_test, predictions)"
   ]
  },
  {
   "cell_type": "code",
   "execution_count": null,
   "id": "c9c238d3-a884-4316-9c83-51497fe032bf",
   "metadata": {},
   "outputs": [],
   "source": [
    "# top 5 accuracy\n",
    "top5_acc = tf.keras.metrics.SparseTopKCategoricalAccuracy(k=5)\n",
    "top5_acc(y_test, predictions)"
   ]
  },
  {
   "cell_type": "code",
   "execution_count": null,
   "id": "ebb91f23-d294-4acb-aa37-8801f8aca2f3",
   "metadata": {},
   "outputs": [],
   "source": [
    "n_rows, n_cols = 3, 3\n",
    "\n",
    "fig, axes = plt.subplots(n_rows, n_cols, figsize=(4*n_cols, 4*n_rows))\n",
    "\n",
    "axes = np.ravel(axes)\n",
    "for i in range(n_rows * n_cols):\n",
    "    ax = axes[i]\n",
    "    sample_idx = np.random.randint(len(y_test))\n",
    "    ax.imshow(x_test[sample_idx])\n",
    "    label = CIFAR10_CLASSES[y_test[sample_idx]]\n",
    "    pred = CIFAR10_CLASSES[np.argmax(predictions[sample_idx])]\n",
    "    ax.set_title(f\"label '{label}' - pred '{pred}'\")"
   ]
  },
  {
   "cell_type": "code",
   "execution_count": null,
   "id": "c9907945-924a-4cb2-9c15-93d9c40b55d5",
   "metadata": {},
   "outputs": [],
   "source": []
  },
  {
   "cell_type": "code",
   "execution_count": null,
   "id": "70beefcb-195b-4881-bd82-fe514acbe95b",
   "metadata": {},
   "outputs": [],
   "source": []
  }
 ],
 "metadata": {
  "kernelspec": {
   "display_name": "object_classification",
   "language": "python",
   "name": "object_classification"
  },
  "language_info": {
   "codemirror_mode": {
    "name": "ipython",
    "version": 3
   },
   "file_extension": ".py",
   "mimetype": "text/x-python",
   "name": "python",
   "nbconvert_exporter": "python",
   "pygments_lexer": "ipython3",
   "version": "3.10.10"
  }
 },
 "nbformat": 4,
 "nbformat_minor": 5
}
