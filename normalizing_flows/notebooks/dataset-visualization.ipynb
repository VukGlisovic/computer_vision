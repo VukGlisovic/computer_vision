{
 "cells": [
  {
   "cell_type": "code",
   "execution_count": null,
   "id": "40e13d13-9b5c-497d-9c8e-692411719374",
   "metadata": {
    "tags": []
   },
   "outputs": [],
   "source": [
    "%load_ext autoreload\n",
    "%autoreload 2"
   ]
  },
  {
   "cell_type": "code",
   "execution_count": null,
   "id": "b8dced1f-b663-4006-b286-a946e3b52b45",
   "metadata": {
    "tags": []
   },
   "outputs": [],
   "source": [
    "import numpy as np\n",
    "import torch\n",
    "from torch.utils.data import Dataset, DataLoader\n",
    "from sklearn import datasets\n",
    "import matplotlib.pyplot as plt\n",
    "import matplotlib.cm as cm"
   ]
  },
  {
   "cell_type": "code",
   "execution_count": null,
   "id": "8b6d660a-ed3a-4720-80ba-812328868c65",
   "metadata": {
    "tags": []
   },
   "outputs": [],
   "source": [
    "features, _ = datasets.make_moons(n_samples=10000, noise=0.05, random_state=1)  # labels we don't care about\n",
    "features = features.astype(np.float32)"
   ]
  },
  {
   "cell_type": "code",
   "execution_count": null,
   "id": "b69283fa-a753-47b5-8b95-b03ed9e1dad5",
   "metadata": {
    "tags": []
   },
   "outputs": [],
   "source": [
    "fig, ax = plt.subplots(figsize=(8, 6))\n",
    "\n",
    "ax.scatter(features[:, 0], features[:, 1], s=2, alpha=0.1);"
   ]
  },
  {
   "cell_type": "raw",
   "id": "588112e5-b1b1-4374-9f05-4a6221c7ff23",
   "metadata": {
    "tags": []
   },
   "source": [
    "fig, ax = plt.subplots(figsize=(8, 6))\n",
    "\n",
    "# Create a 2D histogram\n",
    "hist, xedges, yedges = np.histogram2d(features[:, 0], features[:, 1], bins=100)\n",
    "\n",
    "ax.imshow(hist.T, extent=[xedges[0], xedges[-1], yedges[0], yedges[-1]], origin='lower', cmap=cm.viridis);"
   ]
  },
  {
   "cell_type": "code",
   "execution_count": null,
   "id": "9bbf155a-8d02-4c92-bdae-e8b60a07c085",
   "metadata": {
    "tags": []
   },
   "outputs": [],
   "source": [
    "from normalizing_flows.one_dimensional import flow_model"
   ]
  },
  {
   "cell_type": "raw",
   "id": "8fcdffe8-536a-45a7-8687-0da828cd6223",
   "metadata": {
    "tags": []
   },
   "source": [
    "net = flow_model.Net(1, 4, 2)"
   ]
  },
  {
   "cell_type": "raw",
   "id": "c62ba357-4b0c-4101-9c1d-b45048219f13",
   "metadata": {
    "tags": []
   },
   "source": [
    "with torch.no_grad():\n",
    "    temp = net(torch.from_numpy(features[:4, :1]))\n",
    "temp"
   ]
  },
  {
   "cell_type": "raw",
   "id": "fa726ffc-251b-4bd8-be07-0d9c66855280",
   "metadata": {
    "tags": []
   },
   "source": [
    "cb = flow_model.CouplingBijection1D(2, 4, 1)"
   ]
  },
  {
   "cell_type": "raw",
   "id": "ce96686d-37da-4bea-b735-9832f4934fde",
   "metadata": {
    "tags": []
   },
   "source": [
    "with torch.no_grad():\n",
    "    temp = cb(torch.from_numpy(features[:4]))\n",
    "temp"
   ]
  },
  {
   "cell_type": "code",
   "execution_count": null,
   "id": "5c1593de-13d4-49ca-805a-259b442bdacc",
   "metadata": {
    "tags": []
   },
   "outputs": [],
   "source": [
    "device = torch.device(\"cuda\" if torch.cuda.is_available() else \"cpu\")\n",
    "device"
   ]
  },
  {
   "cell_type": "code",
   "execution_count": null,
   "id": "d9693618-6d93-4d82-bbd2-a84d45fb4be2",
   "metadata": {
    "tags": []
   },
   "outputs": [],
   "source": [
    "cf = flow_model.CouplingFlow1D(2, device=device)\n",
    "cf = cf.to(device)"
   ]
  },
  {
   "cell_type": "raw",
   "id": "ed432cb9-4449-4e53-820f-e9388df69ddb",
   "metadata": {
    "tags": []
   },
   "source": [
    "with torch.no_grad():\n",
    "    temp = cf(torch.from_numpy(features[:4]))\n",
    "temp"
   ]
  },
  {
   "cell_type": "code",
   "execution_count": null,
   "id": "22ac5b71-de75-4121-bf24-7505a7a77ab8",
   "metadata": {
    "tags": []
   },
   "outputs": [],
   "source": [
    "class MoonsDataset(Dataset):\n",
    "    def __init__(self, features):\n",
    "        self.features = torch.from_numpy(features)\n",
    "    \n",
    "    def __len__(self):\n",
    "        return len(self.features)\n",
    "    \n",
    "    def __getitem__(self, idx):\n",
    "        return self.features[idx]\n",
    "\n",
    "# Create dataset and dataloader\n",
    "dataset = MoonsDataset(features)\n",
    "dataloader = DataLoader(dataset, batch_size=32, shuffle=True)\n",
    "\n",
    "# Print some information about the dataloader\n",
    "print(f\"Dataset size: {len(dataset)}\")\n",
    "print(f\"Number of batches: {len(dataloader)}\")\n",
    "print(f\"Batch shape: {next(iter(dataloader)).shape}\")"
   ]
  },
  {
   "cell_type": "code",
   "execution_count": null,
   "id": "5118671d-e06f-4e85-967d-0c9439f04e85",
   "metadata": {
    "tags": []
   },
   "outputs": [],
   "source": [
    "opt = torch.optim.Adam(cf.parameters(), lr=1e-4)\n",
    "n_epochs = 10\n",
    "\n",
    "cf = cf.train()\n",
    "cf = cf.to(device)\n",
    "for ep in range(n_epochs):\n",
    "    loss_sum = 0\n",
    "    for i, x in enumerate(dataloader):\n",
    "        x = x.to(device)\n",
    "        opt.zero_grad()\n",
    "        loss = -cf.log_prob(x).mean()\n",
    "        loss.backward()\n",
    "        opt.step()\n",
    "        loss_sum += loss.detach().cpu().item()\n",
    "        # break\n",
    "    print(f\"Epoch {ep+1}/{n_epochs}, loss: {loss_sum / len(dataloader)}\")"
   ]
  },
  {
   "cell_type": "code",
   "execution_count": null,
   "id": "0c821ce5-5107-4850-a648-8510816a0a51",
   "metadata": {
    "tags": []
   },
   "outputs": [],
   "source": [
    "sampled_features = cf.sample(1000).cpu().numpy()\n",
    "\n",
    "fig, ax = plt.subplots(figsize=(8, 6))\n",
    "\n",
    "ax.scatter(sampled_features[:, 0], sampled_features[:, 1], s=2, alpha=0.1);"
   ]
  },
  {
   "cell_type": "code",
   "execution_count": null,
   "id": "87af934b-c8c7-4f72-821a-ffdfcb43fda0",
   "metadata": {
    "tags": []
   },
   "outputs": [],
   "source": [
    "next(cf.parameters())"
   ]
  },
  {
   "cell_type": "code",
   "execution_count": null,
   "id": "266e6d4f-abdd-46de-8b4a-c9bf92c7c0a9",
   "metadata": {},
   "outputs": [],
   "source": []
  }
 ],
 "metadata": {
  "kernelspec": {
   "display_name": "flows",
   "language": "python",
   "name": "flows"
  },
  "language_info": {
   "codemirror_mode": {
    "name": "ipython",
    "version": 3
   },
   "file_extension": ".py",
   "mimetype": "text/x-python",
   "name": "python",
   "nbconvert_exporter": "python",
   "pygments_lexer": "ipython3",
   "version": "3.13.2"
  }
 },
 "nbformat": 4,
 "nbformat_minor": 5
}
