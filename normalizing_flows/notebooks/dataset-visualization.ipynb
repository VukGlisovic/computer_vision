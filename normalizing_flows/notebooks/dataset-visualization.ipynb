{
 "cells": [
  {
   "cell_type": "code",
   "execution_count": null,
   "id": "40e13d13-9b5c-497d-9c8e-692411719374",
   "metadata": {
    "tags": []
   },
   "outputs": [],
   "source": [
    "%load_ext autoreload\n",
    "%autoreload 2"
   ]
  },
  {
   "cell_type": "code",
   "execution_count": null,
   "id": "1acde6de-32f0-4591-a72a-8b7cd5ac3edd",
   "metadata": {
    "tags": []
   },
   "outputs": [],
   "source": [
    "import numpy as np\n",
    "import torch\n",
    "from torch.utils.data import DataLoader\n",
    "\n",
    "from normalizing_flows.src.one_dimensional import data, realnvp\n",
    "from normalizing_flows.src.callbacks import EarlyStopping\n",
    "\n",
    "\n",
    "device = torch.device(\"cuda\" if torch.cuda.is_available() else \"cpu\")\n",
    "device"
   ]
  },
  {
   "cell_type": "markdown",
   "id": "076ec278-d373-4f1c-aefd-4c0ef16fedfb",
   "metadata": {},
   "source": [
    "# Create dataset"
   ]
  },
  {
   "cell_type": "code",
   "execution_count": null,
   "id": "cbf285a4-23a2-44f0-be3c-5431ecf211b0",
   "metadata": {
    "tags": []
   },
   "outputs": [],
   "source": [
    "features = data.create_dataset('make_moons', n_samples=10000, noise=0.05, random_state=1)\n",
    "# features = data.create_dataset('make_circles', n_samples=10000, noise=0.05, random_state=1, factor=0.5)\n",
    "\n",
    "data.scatter_plot(features)"
   ]
  },
  {
   "cell_type": "code",
   "execution_count": null,
   "id": "22ac5b71-de75-4121-bf24-7505a7a77ab8",
   "metadata": {
    "tags": []
   },
   "outputs": [],
   "source": [
    "# Create pytorch dataset and dataloader\n",
    "dataset = data.OneDimensionalDataset(features)\n",
    "dataloader = DataLoader(dataset, batch_size=32, shuffle=True)\n",
    "\n",
    "# Print some information about the dataloader\n",
    "print(f\"Dataset size: {len(dataset)}\")\n",
    "print(f\"Number of batches: {len(dataloader)}\")\n",
    "print(f\"Batch shape: {next(iter(dataloader)).shape}\")"
   ]
  },
  {
   "cell_type": "markdown",
   "id": "faed1a3c-7411-4862-8384-a082cd3c707f",
   "metadata": {},
   "source": [
    "# Create model"
   ]
  },
  {
   "cell_type": "code",
   "execution_count": null,
   "id": "d9693618-6d93-4d82-bbd2-a84d45fb4be2",
   "metadata": {
    "tags": []
   },
   "outputs": [],
   "source": [
    "cf = realnvp.CouplingFlow1D(2)\n",
    "cf = cf.to(device)\n",
    "cf"
   ]
  },
  {
   "cell_type": "markdown",
   "id": "7ab2ef72-42da-4871-adbf-4e487ebf0c2b",
   "metadata": {},
   "source": [
    "# Train couping flow"
   ]
  },
  {
   "cell_type": "code",
   "execution_count": null,
   "id": "5118671d-e06f-4e85-967d-0c9439f04e85",
   "metadata": {
    "tags": []
   },
   "outputs": [],
   "source": [
    "opt = torch.optim.Adam(cf.parameters(), lr=2e-4)\n",
    "scheduler = torch.optim.lr_scheduler.ReduceLROnPlateau(opt, factor=0.5, patience=5, threshold=0.001, threshold_mode='abs')\n",
    "early_stopping = EarlyStopping(patience=10, threshold=0.001)\n",
    "n_epochs = 100\n",
    "\n",
    "cf = cf.train()\n",
    "cf = cf.to(device)\n",
    "for ep in range(n_epochs):\n",
    "    loss_sum = 0\n",
    "    for i, x in enumerate(dataloader):\n",
    "        x = x.to(device)\n",
    "        opt.zero_grad()\n",
    "        loss = -cf.log_prob(x).mean()\n",
    "        loss.backward()\n",
    "        opt.step()\n",
    "        loss_sum += loss.detach().cpu().item()\n",
    "    \n",
    "    loss_avg = loss_sum / len(dataloader)\n",
    "    lr = scheduler.get_last_lr()[0]\n",
    "    scheduler.step(loss_avg)\n",
    "    \n",
    "    print(f\"Epoch {ep+1}/{n_epochs}, loss: {loss_avg:.4f}, lr: {lr}\")\n",
    "    \n",
    "    if early_stopping(loss_avg):\n",
    "        print(f'EarlyStopping activated. Ending training now.')\n",
    "        break"
   ]
  },
  {
   "cell_type": "code",
   "execution_count": null,
   "id": "9541ad4d-4ed9-4354-83c9-0d17a4cc23c0",
   "metadata": {
    "tags": []
   },
   "outputs": [],
   "source": [
    "sampled_features = cf.sample(10000).cpu().numpy()\n",
    "\n",
    "data.scatter_plot(sampled_features)"
   ]
  },
  {
   "cell_type": "code",
   "execution_count": null,
   "id": "f30de235-7535-4e45-af55-c0625808f0d5",
   "metadata": {
    "tags": []
   },
   "outputs": [],
   "source": [
    "data.density_heatmap_plot(cf, torch.linspace(-1.2, 2.2, 501), torch.linspace(-0.7, 1.2, 301))"
   ]
  },
  {
   "cell_type": "code",
   "execution_count": null,
   "id": "266e6d4f-abdd-46de-8b4a-c9bf92c7c0a9",
   "metadata": {},
   "outputs": [],
   "source": []
  },
  {
   "cell_type": "code",
   "execution_count": null,
   "id": "d347e8f3-b7a6-4ead-87d6-e22875f11857",
   "metadata": {},
   "outputs": [],
   "source": []
  }
 ],
 "metadata": {
  "kernelspec": {
   "display_name": "flows",
   "language": "python",
   "name": "flows"
  },
  "language_info": {
   "codemirror_mode": {
    "name": "ipython",
    "version": 3
   },
   "file_extension": ".py",
   "mimetype": "text/x-python",
   "name": "python",
   "nbconvert_exporter": "python",
   "pygments_lexer": "ipython3",
   "version": "3.13.2"
  }
 },
 "nbformat": 4,
 "nbformat_minor": 5
}
