{
 "cells": [
  {
   "cell_type": "markdown",
   "id": "57a1203c-1b40-4d92-9a2b-2229c04c543a",
   "metadata": {},
   "source": [
    "Notebook for checking individual layers and the complete model to compare inputs and outputs."
   ]
  },
  {
   "cell_type": "code",
   "execution_count": null,
   "id": "69f4bebb-576a-4bf9-8609-166d404053bc",
   "metadata": {
    "tags": []
   },
   "outputs": [],
   "source": [
    "%load_ext autoreload\n",
    "%autoreload 2"
   ]
  },
  {
   "cell_type": "code",
   "execution_count": null,
   "id": "bc8eff04-e258-46b5-8b81-96accf537ae7",
   "metadata": {
    "tags": []
   },
   "outputs": [],
   "source": [
    "import os\n",
    "import torch\n",
    "import torchvision\n",
    "from torch.utils.data import DataLoader\n",
    "from torchvision import transforms\n",
    "import matplotlib.pyplot as plt\n",
    "import numpy as np\n",
    "\n",
    "from normalizing_flows.src.realnvp.dataset import CelebADataset\n",
    "from normalizing_flows.src.realnvp.model import layers, blocks, realnvp_flow\n",
    "\n",
    "\n",
    "device = torch.device(\"cuda\" if torch.cuda.is_available() else \"cpu\")\n",
    "print(f\"Using device: {device}\")"
   ]
  },
  {
   "cell_type": "markdown",
   "id": "b91ef55e-c1d4-4ba7-a25f-37b077ca944f",
   "metadata": {},
   "source": [
    "# Test individual layers"
   ]
  },
  {
   "cell_type": "code",
   "execution_count": null,
   "id": "e620da79-fda9-4472-9699-aa029b37a97c",
   "metadata": {
    "tags": []
   },
   "outputs": [],
   "source": [
    "cb_bijection = layers.CheckerboardBijection2D(in_channels=12, hidden_channels=128)\n",
    "\n",
    "inp = torch.rand((8, 12, 32, 32))\n",
    "out, ldj = cb_bijection(inp)\n",
    "out = cb_bijection.inverse(out)\n",
    "print(out.shape, ldj.shape)\n",
    "torch.allclose(inp, out, atol=1e-6)"
   ]
  },
  {
   "cell_type": "code",
   "execution_count": null,
   "id": "d561a7fb-7d57-4c93-9773-39b660bd216a",
   "metadata": {
    "tags": []
   },
   "outputs": [],
   "source": [
    "cw_bijection = layers.ChannelwiseBijection2D(in_channels=12, hidden_channels=128)\n",
    "\n",
    "inp = torch.rand((8, 12, 32, 32))\n",
    "out, ldj = cw_bijection(inp)\n",
    "out = cw_bijection.inverse(out)\n",
    "print(out.shape, ldj.shape)\n",
    "torch.allclose(inp, out, atol=1e-6)"
   ]
  },
  {
   "cell_type": "code",
   "execution_count": null,
   "id": "5a5965ce-9013-4dc7-8dcb-8ab17aae90ce",
   "metadata": {
    "tags": []
   },
   "outputs": [],
   "source": [
    "block_bijection = blocks.BlockBijection2D(in_channels=12, hidden_channels=128)\n",
    "\n",
    "inp = torch.rand((8, 12, 32, 32))\n",
    "out, ldj = block_bijection(inp)\n",
    "out = block_bijection.inverse(out)\n",
    "print(out.shape, ldj.shape)\n",
    "torch.allclose(inp, out, atol=1e-3)"
   ]
  },
  {
   "cell_type": "markdown",
   "id": "e842476e-e75d-4dbf-9874-21e1b36c879b",
   "metadata": {},
   "source": [
    "## Create Model"
   ]
  },
  {
   "cell_type": "code",
   "execution_count": null,
   "id": "054c0c1c-b546-4beb-ba2b-ab05117ee55e",
   "metadata": {
    "tags": []
   },
   "outputs": [],
   "source": [
    "# Define image transformations\n",
    "transform = transforms.Compose([\n",
    "    transforms.CenterCrop(size=128),\n",
    "    transforms.Resize((32, 32)),\n",
    "    transforms.ToTensor(),\n",
    "])\n",
    "\n",
    "# Load CelebA dataset\n",
    "ds_train = CelebADataset(\n",
    "    root='../data',\n",
    "    split='train',\n",
    "    download=True,  # if you have trouble downloading the images, download them manually and move the zip file to ../data/celeba/\n",
    "    transform=transform\n",
    ")\n",
    "\n",
    "# Create dataloader\n",
    "dl_train = DataLoader(\n",
    "    ds_train,\n",
    "    batch_size=32,\n",
    "    shuffle=False,\n",
    "    num_workers=4,\n",
    "    collate_fn=ds_train.collate_fn_skip_errors\n",
    ")\n",
    "\n",
    "# Print dataset information\n",
    "print(f\"Train dataset size: {len(ds_train)}\")\n",
    "print(f\"Number of batches: {len(dl_train)}\")\n",
    "sample_batch = next(iter(dl_train))[0][:32]\n",
    "print(f\"Batch shape: {sample_batch.shape}\")\n",
    "\n",
    "\n",
    "def show_images(images, nrow=8):\n",
    "    \"\"\"Display a grid of images.\"\"\"\n",
    "    images = images.cpu()\n",
    "    # images = images * 0.5 + 0.5  # Denormalize\n",
    "    grid = torchvision.utils.make_grid(images, nrow=nrow)\n",
    "    plt.figure(figsize=(15, 15))\n",
    "    plt.imshow(grid.permute(1, 2, 0))\n",
    "    plt.axis('off')\n",
    "    plt.show()\n",
    "\n",
    "\n",
    "show_images(sample_batch)"
   ]
  },
  {
   "cell_type": "code",
   "execution_count": null,
   "id": "80edf9ed-2023-4159-bb45-be2a7e83c202",
   "metadata": {
    "tags": []
   },
   "outputs": [],
   "source": [
    "model = realnvp_flow.RealNVP(\n",
    "    in_channels=3,  # RGB images\n",
    "    size=32,\n",
    "    hidden_channels=128,\n",
    "    n_residual_blocks=2,\n",
    "    final_size=4\n",
    ")"
   ]
  },
  {
   "cell_type": "code",
   "execution_count": null,
   "id": "e330733e-052c-46da-ace8-3d534b6eddc0",
   "metadata": {},
   "outputs": [],
   "source": [
    "out, ldj = model(sample_batch)\n",
    "out = model.inverse(out)\n",
    "print(out.shape, ldj.shape)\n",
    "torch.allclose(sample_batch, out, atol=1e-1)"
   ]
  },
  {
   "cell_type": "code",
   "execution_count": null,
   "id": "ce59389f-3843-40dc-88e3-67425bc2c430",
   "metadata": {
    "tags": []
   },
   "outputs": [],
   "source": [
    "show_images(out)"
   ]
  },
  {
   "cell_type": "code",
   "execution_count": null,
   "id": "4e5bee12-3d1a-4d5b-8d98-6dc373b61769",
   "metadata": {},
   "outputs": [],
   "source": []
  },
  {
   "cell_type": "code",
   "execution_count": null,
   "id": "a92615bd-0369-429b-a21f-57ad577e4eb6",
   "metadata": {},
   "outputs": [],
   "source": []
  }
 ],
 "metadata": {
  "kernelspec": {
   "display_name": "flows",
   "language": "python",
   "name": "flows"
  },
  "language_info": {
   "codemirror_mode": {
    "name": "ipython",
    "version": 3
   },
   "file_extension": ".py",
   "mimetype": "text/x-python",
   "name": "python",
   "nbconvert_exporter": "python",
   "pygments_lexer": "ipython3",
   "version": "3.13.2"
  }
 },
 "nbformat": 4,
 "nbformat_minor": 5
}
